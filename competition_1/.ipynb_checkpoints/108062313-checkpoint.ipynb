{
 "cells": [
  {
   "cell_type": "code",
   "execution_count": 1,
   "id": "ab11461c",
   "metadata": {},
   "outputs": [],
   "source": [
    "import warnings\n",
    "warnings.filterwarnings(\"ignore\")"
   ]
  },
  {
   "cell_type": "code",
   "execution_count": 2,
   "id": "e7f2f18b",
   "metadata": {},
   "outputs": [],
   "source": [
    "%matplotlib inline"
   ]
  },
  {
   "cell_type": "code",
   "execution_count": 88,
   "id": "3b4cfed2",
   "metadata": {},
   "outputs": [],
   "source": [
    "import nltk\n",
    "import re\n",
    "import os\n",
    "import pandas as pd\n",
    "import numpy as np\n",
    "import scipy as sp\n",
    "import string\n",
    "from bs4 import BeautifulSoup\n",
    "from nltk.stem.porter import PorterStemmer\n",
    "from nltk.corpus import stopwords\n",
    "from sklearn.model_selection import train_test_split\n",
    "from sklearn.feature_extraction.text import CountVectorizer, TfidfVectorizer, HashingVectorizer\n",
    "from sklearn.pipeline import Pipeline\n",
    "from sklearn.tree import DecisionTreeClassifier\n",
    "from sklearn.neighbors import KNeighborsClassifier\n",
    "from sklearn.naive_bayes import GaussianNB\n",
    "from sklearn.ensemble import RandomForestClassifier, AdaBoostClassifier, BaggingClassifier, GradientBoostingClassifier\n",
    "from sklearn.linear_model import LogisticRegression\n",
    "from sklearn.model_selection import cross_val_score\n",
    "from sklearn.linear_model import SGDClassifier, PassiveAggressiveClassifier, Perceptron\n",
    "from sklearn.naive_bayes import MultinomialNB, BernoulliNB\n",
    "from sklearn.decomposition import PCA\n",
    "from sklearn.metrics import roc_auc_score\n",
    "from xgboost import XGBClassifier\n",
    "import matplotlib.pyplot as plt\n",
    "from scipy.sparse import csr_matrix, hstack\n",
    "import matplotlib.pyplot as plt\n",
    "import nltk\n",
    "from nltk.sentiment.vader import SentimentIntensityAnalyzer\n",
    "from sklearn.metrics import f1_score\n",
    "import datetime\n",
    "from datetime import date\n",
    "# nltk.download('vader_lexicon')"
   ]
  },
  {
   "cell_type": "code",
   "execution_count": 285,
   "id": "da9fd98b",
   "metadata": {},
   "outputs": [
    {
     "name": "stdout",
     "output_type": "stream",
     "text": [
      "<html><head><div class=\"article-info\"><span class=\"byline \"><a href=\"/author/sam-laird/\"><img alt=\"2016%2f09%2f15%2f63%2fhttpsd2mhye01h4nj2n.cloudfront.netmediazgkymde1lza2.9814b\" class=\"author_image\" src=\"http://i.amz.mshcdn.com/-qaMPB8aiQeIaoBhqlU0OLjA07A=/90x90/2016%2F09%2F15%2F63%2Fhttpsd2mhye01h4nj2n.cloudfront.netmediaZgkyMDE1LzA2.9814b.jpg\"/></a><span class=\"author_name\">By <a href=\"/author/sam-laird/\">Sam Laird</a></span><time datetime=\"Fri, 11 Oct 2013 02:26:50 +0000\">2013-10-11 02:26:50 UTC</time></span></div></head><body><h1 class=\"title\">Cameraperson Fails Deliver Slapstick Laughs</h1><figure class=\"article-image\"></figure><article data-channel=\"watercooler\"><section class=\"article-content\"> <div class=\"shift-to-hero\"> <p><iframe allowfullscreen=\"\" frameborder=\"0\" height=\"360\" src=\"https://www.youtube.com/embed/BI3UznQUMko?enablejsapi=1&amp;\" width=\"640\"></iframe></p> <script src=\"http://a.amz.mshcdn.com/assets/lib/aab-7ce243b38b9cc2caec816aff811d3153.js\" type=\"text/javascript\"></script> </div> <p>Tired of the same old <a href=\"http://mashable.com/2012/08/26/youtube-sports-fails/\">sports fails</a> and <a href=\"http://mashable.com/2013/07/24/boner-news-fail/\">news fails</a>? Let these cameraperson fails tickle your funny bone instead. </p> <p>Showing well-meaning camerapeople from <a href=\"http://mashable.com/sports/\">sports</a> and entertainment events around the world just not getting it right, this video compilation is sure to have you laughing out loud and cringing in sympathy at the same time. </p> <div class=\"see-also\"><p>See also: <a href=\"http://mashable.com/2013/10/01/tuba-marching-band-fail/\">Marching Band Fail Leads to Hilarious Six-Tuba Crash</a></p></div> <p>Check out the <a href=\"http://mashable.com/category/youtube/\">YouTube</a> video, above, then let us know what you think in the comments. </p> <p><strong><div class=\"bonus-content\">BONUS: <a href=\"http://mashable.com/2013/01/02/20-second-youtube-videos/\">20 Entertaining YouTube Videos Under 20 Seconds</a> </div></strong></p> <section class=\"gallery\" data-display-mode=\"gallery\" data-id=\"9393\" data-slide-title-pos=\"\" data-slug=\"20-videos-under-20-seconds\"> <header> <h1>20 Videos Under 20 Seconds</h1> </header> <ol class=\"slides\"> <li class=\"slide\" data-content-source=\"Gallery - Default\" data-id=\"53f6345e51984004ab0009c7\" data-skip-rerender=\"false\" data-thumb=\"http://i.amz.mshcdn.com/3UoqctuG7lVz3IdvXh_MQp0zk0I=/180x140/http%3A%2F%2Fmashable.com%2Fwp-content%2Fgallery%2F20-videos-under-20-seconds%2FJs4fP9BpsUc.jpg\"> <figure> <div class=\"aspect-16x9\"><iframe allowfullscreen=\"\" class=\"dnr\" frameborder=\"0\" src=\"http://www.youtube.com/embed/Js4fP9BpsUc\"></iframe></div> </figure> <div class=\"meta\"> <h2 class=\"title\">1. Can You Say Banana?</h2> <div class=\"caption\"><p>Apples and banahoahahshas.</p></div> <div class=\"credit\"> </div> </div> </li> <li class=\"slide\" data-content-source=\"Gallery - Default\" data-id=\"53f6345e51984004ab0009c8\" data-skip-rerender=\"false\" data-thumb=\"http://i.amz.mshcdn.com/yjOJDYRdJTufxQ2EXtcgB9wYnfs=/180x140/http%3A%2F%2Fmashable.com%2Fwp-content%2Fgallery%2F20-videos-under-20-seconds%2F_K8G4eAXC88.jpg\"> <figure> <div class=\"aspect-16x9\"><iframe allowfullscreen=\"\" class=\"dnr\" frameborder=\"0\" src=\"http://www.youtube.com/embed/_K8G4eAXC88\"></iframe></div> </figure> <div class=\"meta\"> <h2 class=\"title\">2. Cuban Spider</h2> <div class=\"caption\"><p>Cuban Pete is king of the rumba beat.</p></div> <div class=\"credit\"> </div> </div> </li> <li class=\"slide\" data-content-source=\"Gallery - Default\" data-id=\"53f6345e51984004ab0009c9\" data-skip-rerender=\"false\" data-thumb=\"http://i.amz.mshcdn.com/s0wkmmdz3Eqh_fT2XNFzTin3_PI=/180x140/http%3A%2F%2Fmashable.com%2Fwp-content%2Fgallery%2F20-videos-under-20-seconds%2FVp0EVREPuHc.jpg\"> <figure> <div class=\"aspect-16x9\"><iframe allowfullscreen=\"\" class=\"dnr\" frameborder=\"0\" src=\"http://www.youtube.com/embed/Vp0EVREPuHc\"></iframe></div> </figure> <div class=\"meta\"> <h2 class=\"title\">3. Running Toy Poodle</h2> <div class=\"caption\"><p>Just needed a little exercise.</p></div> <div class=\"credit\"> </div> </div> </li> <li class=\"slide\" data-content-source=\"Gallery - Default\" data-id=\"53f6345f51984004ab0009ca\" data-skip-rerender=\"false\" data-thumb=\"http://i.amz.mshcdn.com/DdkVdivQqBD-ynowOmA8w4RKLBY=/180x140/http%3A%2F%2Fmashable.com%2Fwp-content%2Fgallery%2F20-videos-under-20-seconds%2Fjog01Qn2VvQ.jpg\"> <figure> <div class=\"aspect-16x9\"><iframe allowfullscreen=\"\" class=\"dnr\" frameborder=\"0\" src=\"http://www.youtube.com/embed/jog01Qn2VvQ\"></iframe></div> </figure> <div class=\"meta\"> <h2 class=\"title\">4. Hokey Pokey Dog</h2> <div class=\"caption\"><p>Hokey Pokey on repeat.</p></div> <div class=\"credit\"> </div> </div> </li> <li class=\"slide\" data-content-source=\"Gallery - Default\" data-id=\"53f6345f51984004ab0009cb\" data-skip-rerender=\"false\" data-thumb=\"http://i.amz.mshcdn.com/QodEY-toBZkFffFEolmKgaCZsr8=/180x140/http%3A%2F%2Fmashable.com%2Fwp-content%2Fgallery%2F20-videos-under-20-seconds%2FKlJM4UhbQ7A.jpg\"> <figure> <div class=\"aspect-16x9\"><iframe allowfullscreen=\"\" class=\"dnr\" frameborder=\"0\" src=\"http://www.youtube.com/embed/KlJM4UhbQ7A\"></iframe></div> </figure> <div class=\"meta\"> <h2 class=\"title\">5. Yay! Kermit Arm Flail</h2> <div class=\"caption\"><p>Typical Muppet reaction.</p></div> <div class=\"credit\"> </div> </div> </li> <li class=\"slide\" data-content-source=\"Gallery - Default\" data-id=\"53f6345f51984004ab0009cc\" data-skip-rerender=\"false\" data-thumb=\"http://i.amz.mshcdn.com/MMqv15J3u8VaavUfO-wIVj-bBa8=/180x140/http%3A%2F%2Fmashable.com%2Fwp-content%2Fgallery%2F20-videos-under-20-seconds%2FGqJmP7PcaUw.jpg\"> <figure> <div class=\"aspect-16x9\"><iframe allowfullscreen=\"\" class=\"dnr\" frameborder=\"0\" src=\"http://www.youtube.com/embed/GqJmP7PcaUw\"></iframe></div> </figure> <div class=\"meta\"> <h2 class=\"title\">6. Gangnam Han Solo Style</h2> <div class=\"caption\"><p>Gangnam Style + <em>Star Wars</em> = 11 Seconds of Awesome</p></div> <div class=\"credit\"> </div> </div> </li> <li class=\"slide\" data-content-source=\"Gallery - Default\" data-id=\"53f6345f51984004ab0009cd\" data-skip-rerender=\"false\" data-thumb=\"http://i.amz.mshcdn.com/591hDXqmE_jxdpkN7rkwqskzAsQ=/180x140/http%3A%2F%2Fmashable.com%2Fwp-content%2Fgallery%2F20-videos-under-20-seconds%2Fp6u1V9Pgyvs.jpg\"> <figure> <div class=\"aspect-16x9\"><iframe allowfullscreen=\"\" class=\"dnr\" frameborder=\"0\" src=\"http://www.youtube.com/embed/p6u1V9Pgyvs\"></iframe></div> </figure> <div class=\"meta\"> <h2 class=\"title\">7. Crawling Cat </h2> <div class=\"caption\"><p>Pugs <em>are</em> pretty scary.</p></div> <div class=\"credit\"> </div> </div> </li> <li class=\"slide\" data-content-source=\"Gallery - Default\" data-id=\"53f6345f51984004ab0009ce\" data-skip-rerender=\"false\" data-thumb=\"http://i.amz.mshcdn.com/PHsfM-sIC9fSEzBrdmEYz9OF1u0=/180x140/http%3A%2F%2Fmashable.com%2Fwp-content%2Fgallery%2F20-videos-under-20-seconds%2FSIaFtAKnqBU.jpg\"> <figure> <div class=\"aspect-16x9\"><iframe allowfullscreen=\"\" class=\"dnr\" frameborder=\"0\" src=\"http://www.youtube.com/embed/SIaFtAKnqBU\"></iframe></div> </figure> <div class=\"meta\"> <h2 class=\"title\">8. The Screaming Sheep</h2> <div class=\"caption\"><p>AHHHHHHH!</p></div> <div class=\"credit\"> </div> </div> </li> <li class=\"slide\" data-content-source=\"Gallery - Default\" data-id=\"53f6345f51984004ab0009cf\" data-skip-rerender=\"false\" data-thumb=\"http://i.amz.mshcdn.com/yEVsGDORr8hLYYIKNGcPELTR08c=/180x140/http%3A%2F%2Fmashable.com%2Fwp-content%2Fgallery%2F20-videos-under-20-seconds%2FFzRH3iTQPrk.jpg\"> <figure> <div class=\"aspect-16x9\"><iframe allowfullscreen=\"\" class=\"dnr\" frameborder=\"0\" src=\"http://www.youtube.com/embed/FzRH3iTQPrk\"></iframe></div> </figure> <div class=\"meta\"> <h2 class=\"title\">9. Sneezing Baby Panda</h2> <div class=\"caption\"><p>Gesundheit.</p></div> <div class=\"credit\"> </div> </div> </li> <li class=\"slide\" data-content-source=\"Gallery - Default\" data-id=\"53f6345f51984004ab0009d0\" data-skip-rerender=\"false\" data-thumb=\"http://i.amz.mshcdn.com/e-TzCq1p96rpechfkifCXQIJ_q8=/180x140/http%3A%2F%2Fmashable.com%2Fwp-content%2Fgallery%2F20-videos-under-20-seconds%2FFQlgA68z_L4.jpg\"> <figure> <div class=\"aspect-16x9\"><iframe allowfullscreen=\"\" class=\"dnr\" frameborder=\"0\" src=\"http://www.youtube.com/embed/FQlgA68z_L4\"></iframe></div> </figure> <div class=\"meta\"> <h2 class=\"title\">10. Soccer Ball + Face = Ouch</h2> <div class=\"caption\"><p>No description needed.</p></div> <div class=\"credit\"> </div> </div> </li> <li class=\"slide\" data-content-source=\"Gallery - Default\" data-id=\"53f6345f51984004ab0009d1\" data-skip-rerender=\"false\" data-thumb=\"http://i.amz.mshcdn.com/7DWTclYEH6jZepXOyfwt5_VMRWU=/180x140/http%3A%2F%2Fmashable.com%2Fwp-content%2Fgallery%2F20-videos-under-20-seconds%2F4jv0UpfX9Vg.jpg\"> <figure> <div class=\"aspect-16x9\"><iframe allowfullscreen=\"\" class=\"dnr\" frameborder=\"0\" src=\"http://www.youtube.com/embed/4jv0UpfX9Vg\"></iframe></div> </figure> <div class=\"meta\"> <h2 class=\"title\">11. Cat Fight</h2> <div class=\"caption\"><p>Fur will fly.</p></div> <div class=\"credit\"> </div> </div> </li> <li class=\"slide\" data-content-source=\"Gallery - Default\" data-id=\"53f6345f51984004ab0009d2\" data-skip-rerender=\"false\" data-thumb=\"http://i.amz.mshcdn.com/T_gv_578Ma13GUILxtFPqU3mTFM=/180x140/http%3A%2F%2Fmashable.com%2Fwp-content%2Fgallery%2F20-videos-under-20-seconds%2FHBEBOm0vTQs.jpg\"> <figure> <div class=\"aspect-16x9\"><iframe allowfullscreen=\"\" class=\"dnr\" frameborder=\"0\" src=\"http://www.youtube.com/embed/HBEBOm0vTQs\"></iframe></div> </figure> <div class=\"meta\"> <h2 class=\"title\">12. Four Legs at a Time</h2> <div class=\"caption\"><p>Hoppity hop pug.</p></div> <div class=\"credit\"> </div> </div> </li> <li class=\"slide\" data-content-source=\"Gallery - Default\" data-id=\"53f6345f51984004ab0009d3\" data-skip-rerender=\"false\" data-thumb=\"http://i.amz.mshcdn.com/kcLpRGa5L1HHmkdR0iltyPTLn_U=/180x140/http%3A%2F%2Fmashable.com%2Fwp-content%2Fgallery%2F20-videos-under-20-seconds%2FQ2k2xyj9W8I.jpg\"> <figure> <div class=\"aspect-16x9\"><iframe allowfullscreen=\"\" class=\"dnr\" frameborder=\"0\" src=\"http://www.youtube.com/embed/Q2k2xyj9W8I\"></iframe></div> </figure> <div class=\"meta\"> <h2 class=\"title\">13. We're Trucking! </h2> <div class=\"caption\"><p>Trucking, trucking...whaaa?</p></div> <div class=\"credit\"> </div> </div> </li> <li class=\"slide\" data-content-source=\"Gallery - Default\" data-id=\"53f6345f51984004ab0009d4\" data-skip-rerender=\"false\" data-thumb=\"http://i.amz.mshcdn.com/UwZdA5Cf3bf1MG6KKCkGl3ftsYg=/180x140/http%3A%2F%2Fmashable.com%2Fwp-content%2Fgallery%2F20-videos-under-20-seconds%2FDsg8JccRZCw.jpg\"> <figure> <div class=\"aspect-16x9\"><iframe allowfullscreen=\"\" class=\"dnr\" frameborder=\"0\" src=\"http://www.youtube.com/embed/Dsg8JccRZCw\"></iframe></div> </figure> <div class=\"meta\"> <h2 class=\"title\">14. 5 Little Welsh Corgi Pembroke Puppies</h2> <div class=\"caption\"><p>Sometimes all you need is a few seconds of puppies.</p></div> <div class=\"credit\"> </div> </div> </li> <li class=\"slide\" data-content-source=\"Gallery - Default\" data-id=\"53f6345f51984004ab0009d5\" data-skip-rerender=\"false\" data-thumb=\"http://i.amz.mshcdn.com/lvb9aW6IhPJhdz3Q6hdEDPiEGJc=/180x140/http%3A%2F%2Fmashable.com%2Fwp-content%2Fgallery%2F20-videos-under-20-seconds%2FjtebcRvKJsY.jpg\"> <figure> <div class=\"aspect-16x9\"><iframe allowfullscreen=\"\" class=\"dnr\" frameborder=\"0\" src=\"http://www.youtube.com/embed/jtebcRvKJsY\"></iframe></div> </figure> <div class=\"meta\"> <h2 class=\"title\">15. Cheerleader Fail.</h2> <div class=\"caption\"><p>High kicks.</p></div> <div class=\"credit\"> </div> </div> </li> <li class=\"slide\" data-content-source=\"Gallery - Default\" data-id=\"53f6345f51984004ab0009d6\" data-skip-rerender=\"false\" data-thumb=\"http://i.amz.mshcdn.com/PqrkuDZazzeDpgcjSYoJERB8fXs=/180x140/http%3A%2F%2Fmashable.com%2Fwp-content%2Fgallery%2F20-videos-under-20-seconds%2FFc1P-AEaEp8.jpg\"> <figure> <div class=\"aspect-16x9\"><iframe allowfullscreen=\"\" class=\"dnr\" frameborder=\"0\" src=\"http://www.youtube.com/embed/Fc1P-AEaEp8\"></iframe></div> </figure> <div class=\"meta\"> <h2 class=\"title\">16. Afraid of Technology</h2> <div class=\"caption\"><p>This is why people are afraid of technology.</p></div> <div class=\"credit\"> </div> </div> </li> <li class=\"slide\" data-content-source=\"Gallery - Default\" data-id=\"53f6345f51984004ab0009d7\" data-skip-rerender=\"false\" data-thumb=\"http://i.amz.mshcdn.com/0V51TE_0zKDN51yI3g-ir5rfRaI=/180x140/http%3A%2F%2Fmashable.com%2Fwp-content%2Fgallery%2F20-videos-under-20-seconds%2FLuvU0bFtmh8.jpg\"> <figure> <div class=\"aspect-16x9\"><iframe allowfullscreen=\"\" class=\"dnr\" frameborder=\"0\" src=\"http://www.youtube.com/embed/LuvU0bFtmh8\"></iframe></div> </figure> <div class=\"meta\"> <h2 class=\"title\">17. How To Pronounce Hamburger</h2> <div class=\"caption\"><p>Now you know how to say hamburger.</p></div> <div class=\"credit\"> </div> </div> </li> <li class=\"slide\" data-content-source=\"Gallery - Default\" data-id=\"53f6345f51984004ab0009d8\" data-skip-rerender=\"false\" data-thumb=\"http://i.amz.mshcdn.com/5Cn-gzJZg9_0lZGOYsMI15TLGIA=/180x140/http%3A%2F%2Fmashable.com%2Fwp-content%2Fgallery%2F20-videos-under-20-seconds%2Fab0ddj6hadM.jpg\"> <figure> <div class=\"aspect-16x9\"><iframe allowfullscreen=\"\" class=\"dnr\" frameborder=\"0\" src=\"http://www.youtube.com/embed/ab0ddj6hadM\"></iframe></div> </figure> <div class=\"meta\"> <h2 class=\"title\">18. \"I So Pale\"</h2> <div class=\"caption\"><p>Failed to watch for the red light.</p></div> <div class=\"credit\"> </div> </div> </li> <li class=\"slide\" data-content-source=\"Gallery - Default\" data-id=\"53f6345f51984004ab0009d9\" data-skip-rerender=\"false\" data-thumb=\"http://i.amz.mshcdn.com/wjTQOR4VSNPoU0Eua8FA4m_nobU=/180x140/http%3A%2F%2Fmashable.com%2Fwp-content%2Fgallery%2F20-videos-under-20-seconds%2F4fghZKSwvVE.jpg\"> <figure> <div class=\"aspect-16x9\"><iframe allowfullscreen=\"\" class=\"dnr\" frameborder=\"0\" src=\"http://www.youtube.com/embed/4fghZKSwvVE\"></iframe></div> </figure> <div class=\"meta\"> <h2 class=\"title\">19. Shortest Attention Span Ever</h2> <div class=\"caption\"><p>Well, that was fun.</p></div> <div class=\"credit\"> </div> </div> </li> <li class=\"slide\" data-content-source=\"Gallery - Default\" data-id=\"53f6345f51984004ab0009da\" data-skip-rerender=\"false\" data-thumb=\"http://i.amz.mshcdn.com/tIfrVtczT3_ZyR1mlvpul1Mmgco=/180x140/http%3A%2F%2Fmashable.com%2Fwp-content%2Fgallery%2F20-videos-under-20-seconds%2FtM9-ZYxpqbM.jpg\"> <figure> <div class=\"aspect-16x9\"><iframe allowfullscreen=\"\" class=\"dnr\" frameborder=\"0\" src=\"http://www.youtube.com/embed/tM9-ZYxpqbM\"></iframe></div> </figure> <div class=\"meta\"> <h2 class=\"title\">20. PSYwalker</h2> <div class=\"caption\"><p>Luke tries to resist the Dark PSYde.</p></div> <div class=\"credit\"> </div> </div> </li> </ol> </section> <p><em>Homepage image: YouTube, <a href=\"http://www.youtube.com/watch?v=BI3UznQUMko&amp;feature=player_embedded#t=0\" target=\"_blank\">UniformediaMusic</a></em></p> </section></article><footer class=\"article-topics\"> Topics: <a href=\"/category/sports/\">Sports</a>, <a href=\"/category/video/\">Video</a>, <a href=\"/category/videos-watercooler/\">Videos</a>, <a href=\"/category/watercooler/\">Watercooler</a> </footer></body></html>\n"
     ]
    }
   ],
   "source": [
    "df = pd.read_csv('train_2.csv')\n",
    "pd_test=pd.read_csv(\"test.csv\")\n",
    "pd_test=pd_test['Page content']\n",
    "print(df['Page content'].iloc[3])"
   ]
  },
  {
   "cell_type": "code",
   "execution_count": 5,
   "id": "89c7903f",
   "metadata": {},
   "outputs": [],
   "source": [
    "def preprocessor(text):\n",
    "    # remove HTML tags\n",
    "    text = BeautifulSoup(text, 'html.parser').get_text()\n",
    "    \n",
    "    # regex for matching emoticons, keep emoticons, ex: :), :-P, :-D\n",
    "    r = '(?::|;|=|X)(?:-)?(?:\\)|\\(|D|P)'\n",
    "    emoticons = re.findall(r, text)\n",
    "    text = re.sub(r, '', text)\n",
    "    \n",
    "    # convert to lowercase and append all emoticons behind (with space in between)\n",
    "    # replace('-','') removes nose of emoticons\n",
    "    text = re.sub('[\\W]+', ' ', text.lower()) + ' ' + ' '.join(emoticons).replace('-','')\n",
    "    \n",
    "    return text\n",
    "# print(preprocessor(df.loc[0,'Page content']))"
   ]
  },
  {
   "cell_type": "code",
   "execution_count": 6,
   "id": "e6c601fe",
   "metadata": {},
   "outputs": [],
   "source": [
    "def preprocessor_title(X):\n",
    "    ret=[]\n",
    "    for text in X:\n",
    "        titles = BeautifulSoup(text, 'html.parser')\n",
    "        titles = titles.find_all('h1', class_='title')\n",
    "        t=\"\"\n",
    "        for title in titles:\n",
    "            t+=str(title.getText())\n",
    "        r = '(?::|;|=|X)(?:-)?(?:\\)|\\(|D|P)'\n",
    "        emoticons = re.findall(r, t)\n",
    "        t = re.sub(r, '', t)\n",
    "        t = re.sub('[\\W]+', ' ', t.lower()) + ' ' + ' '.join(emoticons).replace('-','')\n",
    "        ret.append(t)\n",
    "    return ret\n",
    "TITLE=preprocessor_title(df['Page content'])\n",
    "a=preprocessor_title(pd_test)\n"
   ]
  },
  {
   "cell_type": "code",
   "execution_count": 7,
   "id": "d4072652",
   "metadata": {},
   "outputs": [],
   "source": [
    "def preprocessor_topic(X):\n",
    "    ret=[]\n",
    "    for text in X:\n",
    "        titles = BeautifulSoup(text, 'html.parser')\n",
    "        titles = titles.find_all(class_='article-topics')\n",
    "        t=\"\"\n",
    "        for title in titles:\n",
    "            t+=str(title.getText())\n",
    "\n",
    "        r = '(?::|;|=|X)(?:-)?(?:\\)|\\(|D|P)'\n",
    "        emoticons = re.findall(r, t)\n",
    "        t = re.sub(r, '', t)\n",
    "        t = re.sub('[\\W]+', ' ', t.lower()) + ' ' + ' '.join(emoticons).replace('-','')\n",
    "        ret.append(t)\n",
    "    \n",
    "    return ret\n",
    "\n",
    "TOPIC=preprocessor_topic(df['Page content'])\n",
    "b=preprocessor_topic(pd_test)\n"
   ]
  },
  {
   "cell_type": "code",
   "execution_count": 8,
   "id": "24259a56",
   "metadata": {},
   "outputs": [],
   "source": [
    "def preprocessor_channel(X):\n",
    "    ret=[]\n",
    "    for text in X:\n",
    "        if 'data-channel=\"' in text:\n",
    "            split_data = text.split('data-channel=\"')[1].split(\"\\\"\")[0]\n",
    "            ret.append(split_data)\n",
    "        else:\n",
    "            ret.append(\" No_channel\")\n",
    "    \n",
    "    return ret\n",
    "\n",
    "CHANNEL=preprocessor_channel(df['Page content'])\n",
    "c=preprocessor_channel(pd_test)\n"
   ]
  },
  {
   "cell_type": "code",
   "execution_count": 9,
   "id": "70883d1a",
   "metadata": {},
   "outputs": [],
   "source": [
    "def preprocessor_week(X):\n",
    "    weekday = []\n",
    "    for i in range(len(X)):\n",
    "        if 'datetime=\"' in X[i]:\n",
    "            split_data = X[i].split('datetime=\"')[1].split(\",\")[0]\n",
    "            weekday.append(split_data)\n",
    "        else:\n",
    "            weekday.append(\"No_weekday\")\n",
    "    return weekday\n",
    "\n",
    "WEEK=preprocessor_week(df['Page content'])\n",
    "d=preprocessor_week(pd_test)\n"
   ]
  },
  {
   "cell_type": "code",
   "execution_count": 101,
   "id": "c55e48c1",
   "metadata": {},
   "outputs": [],
   "source": [
    "def preprocessor_time(X):\n",
    "    time_arr=[]\n",
    "    for i in range(len(X)):\n",
    "        if \"UTC\" in X[i]:\n",
    "            split_data = X[i].split('UTC')[0].split(\" \")\n",
    "            split_data = split_data[len(split_data)-2]\n",
    "            time_arr.append(split_data)\n",
    "        else:\n",
    "            time_arr.append(\"no_time\")\n",
    "    return time_arr\n",
    "TIME=preprocessor_time(df['Page content'])\n",
    "e=preprocessor_time(pd_test)\n"
   ]
  },
  {
   "cell_type": "code",
   "execution_count": 11,
   "id": "de82d419",
   "metadata": {},
   "outputs": [],
   "source": [
    "def preprocessor_textlen(X):\n",
    "    L=[]\n",
    "    for text in X:\n",
    "        L.append(len(text))\n",
    "    return L\n",
    "TEXTLEN=preprocessor_textlen(df['Page content'])\n",
    "f=preprocessor_textlen(pd_test)"
   ]
  },
  {
   "cell_type": "code",
   "execution_count": 120,
   "id": "b1099005",
   "metadata": {},
   "outputs": [
    {
     "name": "stdout",
     "output_type": "stream",
     "text": [
      "11847\n"
     ]
    }
   ],
   "source": [
    "def preprocessor_src(X):\n",
    "    ret=[]\n",
    "    for text in X:\n",
    "        image_count = (text.count(\"src\"))\n",
    "        ret.append(image_count)\n",
    "    return ret\n",
    "IMAGE_NUM=preprocessor_src(df['Page content'])\n",
    "g=preprocessor_src(pd_test)\n",
    "print(len(g))"
   ]
  },
  {
   "cell_type": "code",
   "execution_count": 119,
   "id": "4539b507",
   "metadata": {},
   "outputs": [
    {
     "name": "stdout",
     "output_type": "stream",
     "text": [
      "11847\n"
     ]
    }
   ],
   "source": [
    "def preprocessor_author(X):\n",
    "    ret=[]\n",
    "    for text in X:\n",
    "        if \"/author/\" in text:\n",
    "            split_data = text.split(\"/author/\")[1].split(\"/\")[0]\n",
    "            ret.append(split_data)\n",
    "        else:\n",
    "            ret.append(\"no_authors\")\n",
    "    return ret\n",
    "AUTHOR=preprocessor_author(df['Page content'])\n",
    "h=preprocessor_author(pd_test)\n",
    "print(len(h))"
   ]
  },
  {
   "cell_type": "code",
   "execution_count": 121,
   "id": "fa50e0c8",
   "metadata": {},
   "outputs": [
    {
     "name": "stdout",
     "output_type": "stream",
     "text": [
      "11847\n"
     ]
    }
   ],
   "source": [
    "def preprocessor_date(X):\n",
    "    ret=[]\n",
    "    for text in X:\n",
    "        if 'datetime=\"' in text:\n",
    "            split_data = text.split('datetime=\"')[1].split(\">\")[1].split(\" \")[0]\n",
    "            year = split_data[:4]\n",
    "            month = split_data[5:7]\n",
    "            day = split_data[8:10]\n",
    "            date_ = month+\"-\"+day+\"-\"+year\n",
    "            ret.append(date_)\n",
    "        else:\n",
    "            ret.append(\"no_date\")\n",
    "    return ret\n",
    "DATE=preprocessor_date(df['Page content'])\n",
    "k=preprocessor_date(pd_test)\n",
    "print(len(k))"
   ]
  },
  {
   "cell_type": "code",
   "execution_count": 122,
   "id": "eeedf596",
   "metadata": {},
   "outputs": [],
   "source": [
    "# def vectorize_sentiment(X):\n",
    "#     ret=[]\n",
    "#     for text in X:\n",
    "#         # remove HTML tags\n",
    "#         sid = SentimentIntensityAnalyzer()\n",
    "#         text = BeautifulSoup(text, 'html.parser').get_text()\n",
    "#         # regex for matching emoticons, keep emoticons, ex: :), :-P, :-D\n",
    "#         r = '(?::|;|=|X)(?:-)?(?:\\)|\\(|D|P)'\n",
    "#         emoticons = re.findall(r, text)\n",
    "#         text = re.sub(r, '', text)\n",
    "#         # convert to lowercase and append all emoticons behind (with space in between)\n",
    "#         # replace('-','') removes nose of emoticons\n",
    "#         text = re.sub('[\\W]+', ' ', text.lower()) + ' ' + ' '.join(emoticons).replace('-','')\n",
    "#         scores = sid.polarity_scores(text)\n",
    "#         temp=[]\n",
    "#         for key, value in scores.items():\n",
    "#             temp.append(value)        \n",
    "#         ret.append(temp)\n",
    "#     return ret"
   ]
  },
  {
   "cell_type": "markdown",
   "id": "24df7a8d",
   "metadata": {},
   "source": [
    "## MERGE FEATURE"
   ]
  },
  {
   "cell_type": "code",
   "execution_count": 161,
   "id": "4c4364db",
   "metadata": {},
   "outputs": [],
   "source": [
    "X_train = []\n",
    "for i in range(len(TITLE)):\n",
    "    temp=TITLE[i]+\" \"+TOPIC[i]+\" \"+CHANNEL[i]+\" \"+WEEK[i]+\" \"+TIME[i]+\" \"+str(TEXTLEN[i])+\" \"+str(IMAGE_NUM[i])+\" \"+AUTHOR[i]+\" \"+DATE[i]\n",
    "    X_train.append(temp)\n",
    "Y_train=df['Popularity']"
   ]
  },
  {
   "cell_type": "code",
   "execution_count": 203,
   "id": "39e22b04",
   "metadata": {},
   "outputs": [
    {
     "name": "stdout",
     "output_type": "stream",
     "text": [
      "nasa s grand challenge stop asteroids from destroying earth   topics asteroid asteroids challenge earth space u s world   world Wed 15:04:30 6693 1 no_authors 06-19-2013\n"
     ]
    }
   ],
   "source": [
    "print(X_train[0])"
   ]
  },
  {
   "cell_type": "code",
   "execution_count": 163,
   "id": "68805766",
   "metadata": {},
   "outputs": [
    {
     "name": "stdout",
     "output_type": "stream",
     "text": [
      "soccer star gets twitter death threats after tackling one direction member   topics entertainment music one direction soccer sports   entertainment Mon 19:47:02 11024 12 sam-laird 09-09-2013\n"
     ]
    }
   ],
   "source": [
    "X_test = []\n",
    "for i in range(len(a)):\n",
    "    temp=a[i]+\" \"+b[i]+\" \"+c[i]+\" \"+d[i]+\" \"+e[i]+\" \"+str(f[i])+\" \"+str(g[i])+\" \"+h[i]+\" \"+k[i]\n",
    "    X_test.append(temp)\n",
    "print(X_test[0])"
   ]
  },
  {
   "cell_type": "code",
   "execution_count": 204,
   "id": "ddeed153",
   "metadata": {},
   "outputs": [
    {
     "name": "stdout",
     "output_type": "stream",
     "text": [
      "27643\n",
      "11847\n",
      "39490\n"
     ]
    }
   ],
   "source": [
    "print(len(X_train))\n",
    "print(len(X_test))\n",
    "merge_data=np.hstack((np.array(X_train), np.array(X_test)))\n",
    "print(len(merge_data))"
   ]
  },
  {
   "cell_type": "code",
   "execution_count": 198,
   "id": "544c6f95",
   "metadata": {},
   "outputs": [],
   "source": [
    "stop = stopwords.words('english')\n",
    "def tokenizer_stem_nostop(text):\n",
    "    porter = PorterStemmer()\n",
    "    return [porter.stem(w) for w in re.split('\\s+', text.strip()) \\\n",
    "            if w not in stop and re.match('[a-zA-Z]+', w)]"
   ]
  },
  {
   "cell_type": "code",
   "execution_count": 273,
   "id": "54b60f98",
   "metadata": {},
   "outputs": [],
   "source": [
    "# vect = CountVectorizer(ngram_range=(1,3),\n",
    "#                        max_features=10000,\n",
    "# #                        preprocessor=preprocessor,\n",
    "#                        tokenizer=tokenizer_stem_nostop,\n",
    "#                       ).fit(merge_data)\n",
    "vect = CountVectorizer(ngram_range=(1,3),\n",
    "                      max_features=10000).fit(merge_data)\n",
    "X_train_vectorized = vect.transform(X_train)\n",
    "X_test_vectorized = vect.transform(X_test)"
   ]
  },
  {
   "cell_type": "code",
   "execution_count": 274,
   "id": "c67b4d36",
   "metadata": {},
   "outputs": [
    {
     "name": "stdout",
     "output_type": "stream",
     "text": [
      "(27643, 10000)\n",
      "(11847, 10000)\n"
     ]
    }
   ],
   "source": [
    "print(X_train_vectorized.shape)\n",
    "print(X_test_vectorized.shape)"
   ]
  },
  {
   "cell_type": "markdown",
   "id": "5f16cdf9",
   "metadata": {},
   "source": [
    "# Start Training"
   ]
  },
  {
   "cell_type": "code",
   "execution_count": 275,
   "id": "f8b68cd2",
   "metadata": {},
   "outputs": [],
   "source": [
    "\n",
    "# vect = TfidfVectorizer(ngram_range=(1,3),\n",
    "#                        max_features=30000,\n",
    "#                        preprocessor=preprocessor,\n",
    "#                        tokenizer=tokenizer_stem_nostop,\n",
    "#                       ).fit(X_train)\n",
    "# X_train_vectorized = vect.transform(X_train)\n"
   ]
  },
  {
   "cell_type": "code",
   "execution_count": 276,
   "id": "cbc5bcea",
   "metadata": {},
   "outputs": [],
   "source": [
    "# vect_title = TfidfVectorizer(\n",
    "#                        ngram_range=(1,3),\n",
    "#                        max_features=500,\n",
    "#                        preprocessor=preprocessor_title,\n",
    "#                        tokenizer=tokenizer_stem_nostop,\n",
    "#                       ).fit(X_train)\n",
    "# X_train_vectorized_title = vect_title.transform(X_train)"
   ]
  },
  {
   "cell_type": "code",
   "execution_count": 277,
   "id": "eb759a03",
   "metadata": {},
   "outputs": [],
   "source": [
    "# X_train_vectorized_sentiment = vectorize_sentiment(X_train)"
   ]
  },
  {
   "cell_type": "code",
   "execution_count": 278,
   "id": "fe5415c1",
   "metadata": {},
   "outputs": [],
   "source": [
    "# X_train_transformed = np.hstack((X_train_vectorized.toarray(), X_train_vectorized_title.toarray()))\n",
    "# X_train_transformed = np.hstack((X_train_vectorized.toarray(), np.array(X_train_vectorized_sentiment)))\n",
    "# print(X_train_transformed.shape)"
   ]
  },
  {
   "cell_type": "code",
   "execution_count": null,
   "id": "b23f8c40",
   "metadata": {},
   "outputs": [],
   "source": []
  },
  {
   "cell_type": "code",
   "execution_count": 283,
   "id": "41bc1b7e",
   "metadata": {},
   "outputs": [],
   "source": [
    "clf = RandomForestClassifier(max_depth=8, n_estimators=800)\n",
    "# clf = XGBClassifier(max_depth=6)"
   ]
  },
  {
   "cell_type": "code",
   "execution_count": 284,
   "id": "315eeeb4",
   "metadata": {
    "scrolled": true
   },
   "outputs": [
    {
     "name": "stdout",
     "output_type": "stream",
     "text": [
      "round: 1\n",
      "train:  0.5962738536673601\n",
      "valid:  0.5538071984083921\n",
      "===============save model===============\n",
      "round: 2\n",
      "train:  0.6053631183865424\n",
      "valid:  0.5557967082655091\n",
      "===============save model===============\n",
      "round: 3\n",
      "train:  0.5986705254589852\n",
      "valid:  0.547838668837041\n",
      "round: 4\n",
      "train:  0.592791896536131\n",
      "valid:  0.5434979200578767\n",
      "round: 5\n",
      "train:  0.5940128425431853\n",
      "valid:  0.5449448363175982\n",
      "round: 6\n",
      "train:  0.5969069367821289\n",
      "valid:  0.537891119551456\n",
      "round: 7\n",
      "train:  0.6036447499321697\n",
      "valid:  0.5557967082655091\n",
      "round: 8\n",
      "train:  0.5982635434566338\n",
      "valid:  0.5415084102007597\n",
      "round: 9\n",
      "train:  0.6064484037261463\n",
      "valid:  0.5648399348887683\n",
      "===============save model===============\n",
      "round: 10\n",
      "train:  0.5994392692412047\n",
      "valid:  0.5559775727979743\n",
      "round: 11\n",
      "train:  0.5961834132223931\n",
      "valid:  0.5483812624344366\n",
      "round: 12\n",
      "train:  0.600569774803292\n",
      "valid:  0.5572436245252306\n",
      "round: 13\n",
      "train:  0.6089355159627385\n",
      "valid:  0.553626333875927\n",
      "round: 14\n",
      "train:  0.6044134937143891\n",
      "valid:  0.5608609151745343\n",
      "round: 15\n",
      "train:  0.6106538844171113\n",
      "valid:  0.5554349792005787\n",
      "round: 16\n",
      "train:  0.5987157456814688\n",
      "valid:  0.5539880629408573\n",
      "round: 17\n",
      "train:  0.6034638690422357\n",
      "valid:  0.5572436245252306\n",
      "round: 18\n",
      "train:  0.6012932983630279\n",
      "valid:  0.5574244890576958\n",
      "round: 19\n",
      "train:  0.5989418467938862\n",
      "valid:  0.5521794176162055\n",
      "round: 20\n",
      "train:  0.600750655693226\n",
      "valid:  0.5494664496292277\n"
     ]
    }
   ],
   "source": [
    "best_val_score=0\n",
    "for i in range(20):\n",
    "    x_train, X_val, y_train, y_val = train_test_split(X_train_vectorized, Y_train, test_size=0.2, shuffle=True)\n",
    "    clf.fit(x_train, y_train)\n",
    "    print(\"round:\", i+1)\n",
    "    train_score=clf.score(x_train, y_train)\n",
    "    val_score=clf.score(X_val, y_val)\n",
    "#     train_score=roc_auc_score(y_train, clf.predict_proba(x_train)[:,1])\n",
    "    \n",
    "    print(\"train: \", train_score)\n",
    "    print(\"valid: \", val_score)\n",
    "#     print(\"auc: \", roc_auc_score(y_val, clf.predict_proba(X_val)[:,1]))\n",
    "    \n",
    "    if(val_score>best_val_score):\n",
    "        pred=clf.predict_proba(X_test_vectorized)[:,1]\n",
    "        index=[]\n",
    "        for i in range(len(pred)):\n",
    "            index.append(27643+i)\n",
    "        dict = {'Id': index, 'Popularity': pred}\n",
    "        predict = pd.DataFrame(dict) \n",
    "        predict.to_csv('prediction.csv', index=False)\n",
    "        best_val_score=val_score\n",
    "        print(\"===============save model===============\")"
   ]
  },
  {
   "cell_type": "markdown",
   "id": "baffb2c6",
   "metadata": {},
   "source": [
    "# Make Prediction"
   ]
  },
  {
   "cell_type": "code",
   "execution_count": null,
   "id": "2a121ec6",
   "metadata": {},
   "outputs": [],
   "source": [
    "# X_test=pd.read_csv(\"test.csv\")\n",
    "# X_test=X_test['Page content']\n",
    "# X_test_vectorized = vect.transform(X_test)\n",
    "# X_test_vectorized_sentiment = vectorize_sentiment(X_test)\n",
    "# X_test_transformed = np.hstack((X_test_vectorized.toarray(), np.array(X_test_vectorized_sentiment)))"
   ]
  },
  {
   "cell_type": "code",
   "execution_count": null,
   "id": "cd73df11",
   "metadata": {},
   "outputs": [],
   "source": []
  },
  {
   "cell_type": "code",
   "execution_count": null,
   "id": "735fb4d2",
   "metadata": {},
   "outputs": [],
   "source": []
  },
  {
   "cell_type": "code",
   "execution_count": null,
   "id": "7e29a566",
   "metadata": {},
   "outputs": [],
   "source": []
  },
  {
   "cell_type": "code",
   "execution_count": null,
   "id": "383c6006",
   "metadata": {},
   "outputs": [],
   "source": []
  },
  {
   "cell_type": "code",
   "execution_count": null,
   "id": "93be3791",
   "metadata": {},
   "outputs": [],
   "source": []
  },
  {
   "cell_type": "code",
   "execution_count": null,
   "id": "8c516aee",
   "metadata": {},
   "outputs": [],
   "source": []
  },
  {
   "cell_type": "code",
   "execution_count": null,
   "id": "6e521a4d",
   "metadata": {},
   "outputs": [],
   "source": []
  },
  {
   "cell_type": "code",
   "execution_count": null,
   "id": "0187a178",
   "metadata": {},
   "outputs": [],
   "source": [
    "print(len(pred), len(index))"
   ]
  },
  {
   "cell_type": "code",
   "execution_count": null,
   "id": "51fde044",
   "metadata": {},
   "outputs": [],
   "source": []
  },
  {
   "cell_type": "code",
   "execution_count": null,
   "id": "6c431b59",
   "metadata": {},
   "outputs": [],
   "source": []
  },
  {
   "cell_type": "code",
   "execution_count": null,
   "id": "e2be878b",
   "metadata": {},
   "outputs": [],
   "source": []
  }
 ],
 "metadata": {
  "kernelspec": {
   "display_name": "Python 3 (ipykernel)",
   "language": "python",
   "name": "python3"
  },
  "language_info": {
   "codemirror_mode": {
    "name": "ipython",
    "version": 3
   },
   "file_extension": ".py",
   "mimetype": "text/x-python",
   "name": "python",
   "nbconvert_exporter": "python",
   "pygments_lexer": "ipython3",
   "version": "3.10.7"
  }
 },
 "nbformat": 4,
 "nbformat_minor": 5
}
