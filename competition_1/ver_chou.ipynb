{
 "cells": [
  {
   "cell_type": "code",
   "execution_count": 2,
   "id": "ab11461c",
   "metadata": {},
   "outputs": [],
   "source": [
    "import warnings\n",
    "warnings.filterwarnings(\"ignore\")"
   ]
  },
  {
   "cell_type": "code",
   "execution_count": 3,
   "id": "e7f2f18b",
   "metadata": {},
   "outputs": [],
   "source": [
    "%matplotlib inline"
   ]
  },
  {
   "cell_type": "code",
   "execution_count": 52,
   "id": "3b4cfed2",
   "metadata": {},
   "outputs": [],
   "source": [
    "import nltk\n",
    "import re\n",
    "import os\n",
    "import pandas as pd\n",
    "import numpy as np\n",
    "import scipy as sp\n",
    "import string\n",
    "from bs4 import BeautifulSoup\n",
    "from nltk.stem.porter import PorterStemmer\n",
    "from nltk.corpus import stopwords\n",
    "from sklearn.model_selection import train_test_split\n",
    "from sklearn.feature_extraction.text import CountVectorizer, TfidfVectorizer, HashingVectorizer\n",
    "from sklearn.pipeline import Pipeline\n",
    "from sklearn.tree import DecisionTreeClassifier\n",
    "from sklearn.neighbors import KNeighborsClassifier\n",
    "from sklearn.naive_bayes import GaussianNB\n",
    "from sklearn.ensemble import RandomForestClassifier, AdaBoostClassifier, BaggingClassifier, GradientBoostingClassifier\n",
    "from lightgbm import LGBMClassifier\n",
    "from sklearn.linear_model import LogisticRegression\n",
    "from sklearn.model_selection import cross_val_score\n",
    "from sklearn.linear_model import SGDClassifier, PassiveAggressiveClassifier, Perceptron\n",
    "from sklearn.naive_bayes import MultinomialNB, BernoulliNB\n",
    "from sklearn.decomposition import PCA\n",
    "from sklearn.metrics import roc_auc_score\n",
    "# from xgboost import XGBClassifier\n",
    "import matplotlib.pyplot as plt\n",
    "from scipy.sparse import csr_matrix, hstack\n",
    "import matplotlib.pyplot as plt\n",
    "from catboost import CatBoostRegressor\n",
    "import nltk\n",
    "from nltk.sentiment.vader import SentimentIntensityAnalyzer\n",
    "from sklearn.metrics import f1_score\n",
    "import datetime"
   ]
  },
  {
   "cell_type": "markdown",
   "id": "fef47856",
   "metadata": {},
   "source": [
    "# Read Data"
   ]
  },
  {
   "cell_type": "code",
   "execution_count": 5,
   "id": "da9fd98b",
   "metadata": {
    "scrolled": true
   },
   "outputs": [
    {
     "name": "stdout",
     "output_type": "stream",
     "text": [
      "<html><head><div class=\"article-info\"><span class=\"byline \"><a href=\"/author/sam-laird/\"><img alt=\"2016%2f09%2f15%2f63%2fhttpsd2mhye01h4nj2n.cloudfront.netmediazgkymde1lza2.9814b\" class=\"author_image\" src=\"http://i.amz.mshcdn.com/-qaMPB8aiQeIaoBhqlU0OLjA07A=/90x90/2016%2F09%2F15%2F63%2Fhttpsd2mhye01h4nj2n.cloudfront.netmediaZgkyMDE1LzA2.9814b.jpg\"/></a><span class=\"author_name\">By <a href=\"/author/sam-laird/\">Sam Laird</a></span><time datetime=\"Wed, 07 May 2014 19:15:20 +0000\">2014-05-07 19:15:20 UTC</time></span></div></head><body><h1 class=\"title\">Ballin': 2014 NFL Draft Picks Get to Choose Their Own Walk-Out Music</h1><figure class=\"article-image\"><img alt=\"This Dec. 8, 2012 file photo shows Texas A&amp;M quarterback Johnny Manziel gesturing as he talks to reporters after winning the Heisman Trophy in New York.\" class=\"microcontent\" data-fragment=\"lead-image\" data-image=\"http://i.amz.mshcdn.com/CADSAjPf_UHvl5Z9OqlkPWABIGU=/950x534/2014%2F05%2F07%2Fff%2FJohnnyOK.cae2a.jpg\" data-micro=\"1\" data-url=\"null\" src=\"http://i.amz.mshcdn.com/CADSAjPf_UHvl5Z9OqlkPWABIGU=/950x534/2014%2F05%2F07%2Fff%2FJohnnyOK.cae2a.jpg\"/><figcaption class=\"image-caption\">This Dec. 8, 2012 file photo shows Texas A&amp;M quarterback Johnny Manziel gesturing as he talks to reporters after winning the Heisman Trophy in New York.</figcaption><div class=\"image-credit\">Image: Henny Ray Abrams/Associated Press</div></figure><article data-channel=\"entertainment\"><section class=\"article-content\"> <p>You've spend countless hours training to be an American football machine and all the blood, sweat and tears are about to pay off with a top selection in the <a href=\"http://mashable.com/category/nfl/\">NFL</a> Draft — and its accompanying hefty contract. All you need now is the perfect soundtrack for the prefect moment.</p> <p>This year, for the first time ever, 30 picks in the NFL Draft will get to choose their own walk-out music to blare at Radio City Music Hall while they take the stage, don the hat of their new team and shake hands with NFL Commissioner Roger Goodell.</p> <div class=\"see-also\"><p>See also: <a href=\"http://mashable.com/2014/05/07/kevin-durant-mvp-speech/\">Emotional MVP Speech Will Make Kevin Durant Your Favorite NBA Player</a></p></div> <p>NFL Network and <a href=\"http://mashable.com/category/espn/\">ESPN</a> will play natural sounds as picks take the stage, but in the background you should be able to hear the player-selected tracks (radio-versions only, of course) that Jadeveon Clowney, Johnny Manziel and others hand select. Thirty players the NFL invited to New York City for the draft will get to play DJ and pick their tracks. The 2014 NFL Draft's first round is on Thursday.</p> <p>Brian McCarthy, the NFL's vice president of communications, says the new move came about after soliciting feedback from players at previous drafts on how to make the the big day more fun.</p> <p>\"We’ve always had music for each player selected but it’s been more city-oriented,\" McCarthy told <em>Mashable</em> in an email. \"We ask the prospects we have in NYC each year for ways to improve their overall experience.\"</p> <p>So the question becomes: Do you go with \"C.R.E.A.M.\" from the Wu-Tang Clan? Or what about \"All I Do Is Win\" from DJ Khaled? Then again, maybe BG's \"Bling Bling\" is the most appropriate choice.</p> <p>Decisions, decisions. The life of an NFL prospect just got that much more complicated.</p> <div class=\"bonus-content\"><p>BONUS: <a href=\"http://mashable.com/2012/08/26/youtube-sports-fails/\">25 of YouTube's Funniest Sports Fails</a></p></div> <section class=\"gallery\" data-display-mode=\"gallery\" data-id=\"7157\" data-slide-title-pos=\"\" data-slug=\"sports-fails\"> <header> <h1>Sports Fails</h1> </header> <ol class=\"slides\"> <li class=\"slide\" data-content-source=\"Gallery - Default\" data-id=\"5787da3d9111ae74d40037a7\" data-skip-rerender=\"false\" data-thumb=\"http://i.amz.mshcdn.com/be7Vqogmd2lRN65nX6vZH_YBUaQ=/180x140/http%3A%2F%2Fmashable.com%2Fwp-content%2Fgallery%2Fsports-fails%2FQ_3T2HJQWlY.jpg\"> <figure> <div class=\"aspect-16x9\"><iframe allowfullscreen=\"\" class=\"dnr\" frameborder=\"0\" src=\"http://www.youtube.com/embed/Q_3T2HJQWlY\"></iframe></div> </figure> <div class=\"meta\"> <h2 class=\"title\">1. Golf Cart Fail</h2> <div class=\"caption\"> <p>This runaway vehicle wreaked minor on-field havoc following a high school football championship in Texas last December. But a heroic bystander hopped aboard and put on the brakes.</p> <p>No casualties occurred, and the clip immediately became Internet legend.</p> </div> <div class=\"credit\"> </div> </div> </li> <li class=\"slide\" data-content-source=\"Gallery - Default\" data-id=\"5787da3d9111ae74d40037a8\" data-skip-rerender=\"false\" data-thumb=\"http://i.amz.mshcdn.com/2u9sfwWAyCzD0sz0fw_V8vArm_U=/180x140/http%3A%2F%2Fmashable.com%2Fwp-content%2Fgallery%2Fsports-fails%2F1aT06bbh47A.jpg\"> <figure> <div class=\"aspect-16x9\"><iframe allowfullscreen=\"\" class=\"dnr\" frameborder=\"0\" src=\"http://www.youtube.com/embed/1aT06bbh47A\"></iframe></div> </figure> <div class=\"meta\"> <h2 class=\"title\">2. Penalty Kick Fail</h2> <div class=\"caption\"><p>Watch out for the ricochet, goalie! This kid gets it in the right in the chops.</p></div> <div class=\"credit\"> </div> </div> </li> <li class=\"slide\" data-content-source=\"Gallery - Default\" data-id=\"5787da3d9111ae74d40037a9\" data-skip-rerender=\"false\" data-thumb=\"http://i.amz.mshcdn.com/vGGhrbNFPAN_5FG1108ubx4T4BA=/180x140/http%3A%2F%2Fmashable.com%2Fwp-content%2Fgallery%2Fsports-fails%2FS6IYyvypJ4o.jpg\"> <figure> <div class=\"aspect-16x9\"><iframe allowfullscreen=\"\" class=\"dnr\" frameborder=\"0\" src=\"http://www.youtube.com/embed/S6IYyvypJ4o\"></iframe></div> </figure> <div class=\"meta\"> <h2 class=\"title\">3. Mascot on Rollerblades Fail</h2> <div class=\"caption\"><p>What happens when you put an inflatable dinosaur on rollerblades and ask it to skate down a flight of stairs? Amazingness, that's what.</p></div> <div class=\"credit\"> </div> </div> </li> <li class=\"slide\" data-content-source=\"Gallery - Default\" data-id=\"5787da3d9111ae74d40037aa\" data-skip-rerender=\"false\" data-thumb=\"http://i.amz.mshcdn.com/oUKkVA2G15swxedMPt6_RYPRBI0=/180x140/http%3A%2F%2Fmashable.com%2Fwp-content%2Fgallery%2Fsports-fails%2FZuOG09PGYFc.jpg\"> <figure> <div class=\"aspect-16x9\"><iframe allowfullscreen=\"\" class=\"dnr\" frameborder=\"0\" src=\"http://www.youtube.com/embed/ZuOG09PGYFc\"></iframe></div> </figure> <div class=\"meta\"> <h2 class=\"title\">4. Flopping Fail</h2> <div class=\"caption\"><p>In sports, to \"flop\" is to exaggerate the force of contact in hopes of drawing a favorable call from officials. But you've got to time it much, much better than this guy does.</p></div> <div class=\"credit\"> </div> </div> </li> <li class=\"slide\" data-content-source=\"Gallery - Default\" data-id=\"5787da3d9111ae74d40037ab\" data-skip-rerender=\"false\" data-thumb=\"http://i.amz.mshcdn.com/2KEhZJA6-h34A9p8GASTM60OR1U=/180x140/http%3A%2F%2Fmashable.com%2Fwp-content%2Fgallery%2Fsports-fails%2FyneRfVCy3Lo.jpg\"> <figure> <div class=\"aspect-16x9\"><iframe allowfullscreen=\"\" class=\"dnr\" frameborder=\"0\" src=\"http://www.youtube.com/embed/yneRfVCy3Lo\"></iframe></div> </figure> <div class=\"meta\"> <h2 class=\"title\">5. Hockey Celebration Fail</h2> <div class=\"caption\"><p>Apparently, if you hug a member of the opposite team after scoring a goal in hockey, you will get punched in the face.</p></div> <div class=\"credit\"> </div> </div> </li> <li class=\"slide\" data-content-source=\"Gallery - Default\" data-id=\"5787da3d9111ae74d40037ac\" data-skip-rerender=\"false\" data-thumb=\"http://i.amz.mshcdn.com/cG5KKvh8hrEXJW-my-o2nM9Ftf4=/180x140/http%3A%2F%2Fmashable.com%2Fwp-content%2Fgallery%2Fsports-fails%2Fu0mItqwOvIs.jpg\"> <figure> <div class=\"aspect-16x9\"><iframe allowfullscreen=\"\" class=\"dnr\" frameborder=\"0\" src=\"http://www.youtube.com/embed/u0mItqwOvIs\"></iframe></div> </figure> <div class=\"meta\"> <h2 class=\"title\">6. Innocent Bystander Fail</h2> <div class=\"caption\"><p>This kid is just in the wrong place at the wrong time...to the benefit of the rest of us.</p></div> <div class=\"credit\"> </div> </div> </li> <li class=\"slide\" data-content-source=\"Gallery - Default\" data-id=\"5787da3d9111ae74d40037ad\" data-skip-rerender=\"false\" data-thumb=\"http://i.amz.mshcdn.com/tIVt4wkQ6J8qaL8_8vHiElAfBCk=/180x140/http%3A%2F%2Fmashable.com%2Fwp-content%2Fgallery%2Fsports-fails%2FnkbKjtuNJhQ.jpg\"> <figure> <div class=\"aspect-16x9\"><iframe allowfullscreen=\"\" class=\"dnr\" frameborder=\"0\" src=\"http://www.youtube.com/embed/nkbKjtuNJhQ\"></iframe></div> </figure> <div class=\"meta\"> <h2 class=\"title\">7. Representing Your School Fail</h2> <div class=\"caption\"> <p>College football mascots are supposed to represent their schools in a fun, positive light — which doesn't typically include picking fights. Here, the University of Oregon's duck slams the University of Houston's cougar.</p> <p>Bonus points for the sick elbow drop, though.</p> </div> <div class=\"credit\"> </div> </div> </li> <li class=\"slide\" data-content-source=\"Gallery - Default\" data-id=\"5787da3d9111ae74d40037ae\" data-skip-rerender=\"false\" data-thumb=\"http://i.amz.mshcdn.com/E6lU02B54NXEga21umlqAcvqoLA=/180x140/http%3A%2F%2Fmashable.com%2Fwp-content%2Fgallery%2Fsports-fails%2FqY0pqlvjGFQ.jpg\"> <figure> <div class=\"aspect-16x9\"><iframe allowfullscreen=\"\" class=\"dnr\" frameborder=\"0\" src=\"http://www.youtube.com/embed/qY0pqlvjGFQ\"></iframe></div> </figure> <div class=\"meta\"> <h2 class=\"title\">8. Weightlifting Fail</h2> <div class=\"caption\"> <p>Not saying we could successfully lift 432 pounds above our heads, but dang, that looks painful.</p> <p>German weightlifter Matthias Steiner dropped this massive barbell on his neck during the London Olympics this summer, but escaped serious injury.</p> </div> <div class=\"credit\"> </div> </div> </li> <li class=\"slide\" data-content-source=\"Gallery - Default\" data-id=\"5787da3d9111ae74d40037af\" data-skip-rerender=\"false\" data-thumb=\"http://i.amz.mshcdn.com/XaFbwsy3xlJlsaIEFcoZbxMGEng=/180x140/http%3A%2F%2Fmashable.com%2Fwp-content%2Fgallery%2Fsports-fails%2Fs5HB_3KkdyI.jpg\"> <figure> <div class=\"aspect-16x9\"><iframe allowfullscreen=\"\" class=\"dnr\" frameborder=\"0\" src=\"http://www.youtube.com/embed/s5HB_3KkdyI\"></iframe></div> </figure> <div class=\"meta\"> <h2 class=\"title\">9. Trampoline Dunk Fail</h2> <div class=\"caption\"><p>Sometimes, when you fail, you actually win.</p></div> <div class=\"credit\"> </div> </div> </li> <li class=\"slide\" data-content-source=\"Gallery - Default\" data-id=\"5787da3d9111ae74d40037b0\" data-skip-rerender=\"false\" data-thumb=\"http://i.amz.mshcdn.com/3zJ-NEhkMkjL1e8NgI_xpeBiqq8=/180x140/http%3A%2F%2Fmashable.com%2Fwp-content%2Fgallery%2Fsports-fails%2FVmU6BChuiBs.jpg\"> <figure> <div class=\"aspect-16x9\"><iframe allowfullscreen=\"\" class=\"dnr\" frameborder=\"0\" src=\"http://www.youtube.com/embed/VmU6BChuiBs\"></iframe></div> </figure> <div class=\"meta\"> <h2 class=\"title\">10. Hurdling Fail</h2> <div class=\"caption\"> <p>Why jump over hurdles when you could just RUN STRAIGHT THROUGH THEM?</p> <p>File under: Never, Ever Gets Old.</p> </div> <div class=\"credit\"> </div> </div> </li> <li class=\"slide\" data-content-source=\"Gallery - Default\" data-id=\"5787da3d9111ae74d40037b1\" data-skip-rerender=\"false\" data-thumb=\"http://i.amz.mshcdn.com/v_kZK1i9NtPqvo7qh68rLIoYf0s=/180x140/http%3A%2F%2Fmashable.com%2Fwp-content%2Fgallery%2Fsports-fails%2FGkKJvqMTbrA.jpg\"> <figure> <div class=\"aspect-16x9\"><iframe allowfullscreen=\"\" class=\"dnr\" frameborder=\"0\" src=\"http://www.youtube.com/embed/GkKJvqMTbrA\"></iframe></div> </figure> <div class=\"meta\"> <h2 class=\"title\">11. Paying Attention Fail</h2> <div class=\"caption\"><p>After what could best be described as an \"optimistic\" shot attempt in a game last season, NBA center JaVale McGee showed some nice hustle getting back on defense. Only problem? His team still had the ball.</p></div> <div class=\"credit\"> </div> </div> </li> <li class=\"slide\" data-content-source=\"Gallery - Default\" data-id=\"5787da3d9111ae74d40037b2\" data-skip-rerender=\"false\" data-thumb=\"http://i.amz.mshcdn.com/WRTT59TBPlSx7B4hZVYzW7R8mo0=/180x140/http%3A%2F%2Fmashable.com%2Fwp-content%2Fgallery%2Fsports-fails%2FhpfdzK_YWC8.jpg\"> <figure> <div class=\"aspect-16x9\"><iframe allowfullscreen=\"\" class=\"dnr\" frameborder=\"0\" src=\"http://www.youtube.com/embed/hpfdzK_YWC8\"></iframe></div> </figure> <div class=\"meta\"> <h2 class=\"title\">12. Judgment Fail</h2> <div class=\"caption\"><p>But that wasn't McGee's only legendary moment. Here, he shows why it's not a good idea to try dunking from the free throw line mid-game.</p></div> <div class=\"credit\"> </div> </div> </li> <li class=\"slide\" data-content-source=\"Gallery - Default\" data-id=\"5787da3d9111ae74d40037b3\" data-skip-rerender=\"false\" data-thumb=\"http://i.amz.mshcdn.com/_o568FDtlCckm537AI4dimgWcWg=/180x140/http%3A%2F%2Fmashable.com%2Fwp-content%2Fgallery%2Fsports-fails%2F3hRwnXmdRCo.jpg\"> <figure> <div class=\"aspect-16x9\"><iframe allowfullscreen=\"\" class=\"dnr\" frameborder=\"0\" src=\"http://www.youtube.com/embed/3hRwnXmdRCo\"></iframe></div> </figure> <div class=\"meta\"> <h2 class=\"title\">13. Olympic Promo Fail</h2> <div class=\"caption\"> <p>For some reason, London's Olympic promotions this summer involved hanging Mayor Boris Johnson on a zipline while waving a pair of tiny flags.</p> <p>Then he got stuck halfway through and it was pretty much the best, funniest, awkwardest thing that could have happened.</p> </div> <div class=\"credit\"> </div> </div> </li> <li class=\"slide\" data-content-source=\"Gallery - Default\" data-id=\"5787da3d9111ae74d40037b4\" data-skip-rerender=\"false\" data-thumb=\"http://i.amz.mshcdn.com/4eTUT6eiSiy9nOhElIzbrfXJP7w=/180x140/http%3A%2F%2Fmashable.com%2Fwp-content%2Fgallery%2Fsports-fails%2FzIwmcDe-Ni4.jpg\"> <figure> <div class=\"aspect-16x9\"><iframe allowfullscreen=\"\" class=\"dnr\" frameborder=\"0\" src=\"http://www.youtube.com/embed/zIwmcDe-Ni4\"></iframe></div> </figure> <div class=\"meta\"> <h2 class=\"title\">14. Grand Slam Celebration Fail</h2> <div class=\"caption\"><p>Major Leaguer Kendry Morales broke his lower left leg while celebrating a game-winning grand slam in 2010. This edited video provides the before, during and after rundown.</p></div> <div class=\"credit\"> </div> </div> </li> <li class=\"slide\" data-content-source=\"Gallery - Default\" data-id=\"5787da3d9111ae74d40037b5\" data-skip-rerender=\"false\" data-thumb=\"http://i.amz.mshcdn.com/tVk1brpM5740Azw34ujt5BgxkVw=/180x140/http%3A%2F%2Fmashable.com%2Fwp-content%2Fgallery%2Fsports-fails%2Fc3QYczyk9Ts.jpg\"> <figure> <div class=\"aspect-16x9\"><iframe allowfullscreen=\"\" class=\"dnr\" frameborder=\"0\" src=\"http://www.youtube.com/embed/c3QYczyk9Ts\"></iframe></div> </figure> <div class=\"meta\"> <h2 class=\"title\">15. Slam Dunk Fail</h2> <div class=\"caption\"><p>See? White guys <i>can</i> jump? It's just the landing that's the hard part.</p></div> <div class=\"credit\"> </div> </div> </li> <li class=\"slide\" data-content-source=\"Gallery - Default\" data-id=\"5787da3d9111ae74d40037b6\" data-skip-rerender=\"false\" data-thumb=\"http://i.amz.mshcdn.com/4I7yLaHhilNUwtiuALY5wcTizaQ=/180x140/http%3A%2F%2Fmashable.com%2Fwp-content%2Fgallery%2Fsports-fails%2F7zrDmkQ0l1Q.jpg\"> <figure> <div class=\"aspect-16x9\"><iframe allowfullscreen=\"\" class=\"dnr\" frameborder=\"0\" src=\"http://www.youtube.com/embed/7zrDmkQ0l1Q\"></iframe></div> </figure> <div class=\"meta\"> <h2 class=\"title\">16. High Dive Fail</h2> <div class=\"caption\"><p>The announcer here sums it up perfectly. She calls this attempt from the 1992 Olympics \"an absolute failed dive.\"</p></div> <div class=\"credit\"> </div> </div> </li> <li class=\"slide\" data-content-source=\"Gallery - Default\" data-id=\"5787da3d9111ae74d40037b7\" data-skip-rerender=\"false\" data-thumb=\"http://i.amz.mshcdn.com/LChIOzItqRkRgGSqJ3UfBD5Z8kY=/180x140/http%3A%2F%2Fmashable.com%2Fwp-content%2Fgallery%2Fsports-fails%2F8iyU1eQ4lcQ.jpg\"> <figure> <div class=\"aspect-16x9\"><iframe allowfullscreen=\"\" class=\"dnr\" frameborder=\"0\" src=\"http://www.youtube.com/embed/8iyU1eQ4lcQ\"></iframe></div> </figure> <div class=\"meta\"> <h2 class=\"title\">17. Piggyback Ride Fail</h2> <div class=\"caption\"><p>What begins as an innocent enough piggyback ride atop a fuzzy mascot turns into a pretty epic collision — and YouTube gold.</p></div> <div class=\"credit\"> </div> </div> </li> <li class=\"slide\" data-content-source=\"Gallery - Default\" data-id=\"5787da3d9111ae74d40037b8\" data-skip-rerender=\"false\" data-thumb=\"http://i.amz.mshcdn.com/IPTHCrCaylHRcgJxXIoxyOsxiFc=/180x140/http%3A%2F%2Fmashable.com%2Fwp-content%2Fgallery%2Fsports-fails%2FRLrJUB2mBfc.jpg\"> <figure> <div class=\"aspect-16x9\"><iframe allowfullscreen=\"\" class=\"dnr\" frameborder=\"0\" src=\"http://www.youtube.com/embed/RLrJUB2mBfc\"></iframe></div> </figure> <div class=\"meta\"> <h2 class=\"title\">18. Long Jump Fail</h2> <div class=\"caption\"><p>Dude! If you're gonna pump up the crowd like that, you can't just faceplant into the sand.</p></div> <div class=\"credit\"> </div> </div> </li> <li class=\"slide\" data-content-source=\"Gallery - Default\" data-id=\"5787da3d9111ae74d40037b9\" data-skip-rerender=\"false\" data-thumb=\"http://i.amz.mshcdn.com/vmpRtQHFt8yAVRRI1sz_r5JETIw=/180x140/http%3A%2F%2Fmashable.com%2Fwp-content%2Fgallery%2Fsports-fails%2FNbJHyCkBQ-A.jpg\"> <figure> <div class=\"aspect-16x9\"><iframe allowfullscreen=\"\" class=\"dnr\" frameborder=\"0\" src=\"http://www.youtube.com/embed/NbJHyCkBQ-A\"></iframe></div> </figure> <div class=\"meta\"> <h2 class=\"title\">19. Touchdown Celebration Fail</h2> <div class=\"caption\"><p>When you think about it, is there any better way to celebrate a touchdown than by pegging an unsuspecting spectator in the face? Bonus points for originality, at least.</p></div> <div class=\"credit\"> </div> </div> </li> <li class=\"slide\" data-content-source=\"Gallery - Default\" data-id=\"5787da3d9111ae74d40037ba\" data-skip-rerender=\"false\" data-thumb=\"http://i.amz.mshcdn.com/UjOVlaH2jxLEAeEimXLO-07-sBA=/180x140/http%3A%2F%2Fmashable.com%2Fwp-content%2Fgallery%2Fsports-fails%2FaWTXoNzuk8c.jpg\"> <figure> <div class=\"aspect-16x9\"><iframe allowfullscreen=\"\" class=\"dnr\" frameborder=\"0\" src=\"http://www.youtube.com/embed/aWTXoNzuk8c\"></iframe></div> </figure> <div class=\"meta\"> <h2 class=\"title\">20. Pro Golfer Fail</h2> <div class=\"caption\"><p>You'd think a professional golfer could put the ball in the hole with less than 16 strokes. Kevin Na — and the rest of the world — found out otherwise on this par-four hole at the 2011 Valero Texas Open.</p></div> <div class=\"credit\"> </div> </div> </li> <li class=\"slide\" data-content-source=\"Gallery - Default\" data-id=\"5787da3d9111ae74d40037bb\" data-skip-rerender=\"false\" data-thumb=\"http://i.amz.mshcdn.com/4S0C_TLjgu0XcRGatE3tDO54jsU=/180x140/http%3A%2F%2Fmashable.com%2Fwp-content%2Fgallery%2Fsports-fails%2FO8BNjd9Hhrg.jpg\"> <figure> <div class=\"aspect-16x9\"><iframe allowfullscreen=\"\" class=\"dnr\" frameborder=\"0\" src=\"http://www.youtube.com/embed/O8BNjd9Hhrg\"></iframe></div> </figure> <div class=\"meta\"> <h2 class=\"title\">21. Head-First Slide Fail</h2> <div class=\"caption\"><p>Well, that's one way of doing it...right?</p></div> <div class=\"credit\"> </div> </div> </li> <li class=\"slide\" data-content-source=\"Gallery - Default\" data-id=\"5787da3d9111ae74d40037bc\" data-skip-rerender=\"false\" data-thumb=\"http://i.amz.mshcdn.com/5cT1NRF2R0mrlNFnnM2-PzuqU0c=/180x140/http%3A%2F%2Fmashable.com%2Fwp-content%2Fgallery%2Fsports-fails%2FyabpY-YT46k.jpg\"> <figure> <div class=\"aspect-16x9\"><iframe allowfullscreen=\"\" class=\"dnr\" frameborder=\"0\" src=\"http://www.youtube.com/embed/yabpY-YT46k\"></iframe></div> </figure> <div class=\"meta\"> <h2 class=\"title\">22. Time Management Fail</h2> <div class=\"caption\"> <p>Tie game, clock winding down — it's always better to get one last attempt up than just let the game go into overtime. A full court desperation heave with a 11 seconds to go is never the way to do it, however.</p> <p>This classic gaffe by the University of Connecticut's Roscoe Smith came during a matchup of top teams in 2011.</p> </div> <div class=\"credit\"> </div> </div> </li> <li class=\"slide\" data-content-source=\"Gallery - Default\" data-id=\"5787da3d9111ae74d40037bd\" data-skip-rerender=\"false\" data-thumb=\"http://i.amz.mshcdn.com/OTu06CuHk-G93Zdv0KaeS6sO6d0=/180x140/http%3A%2F%2Fmashable.com%2Fwp-content%2Fgallery%2Fsports-fails%2F6WHRxXY67UA.jpg\"> <figure> <div class=\"aspect-16x9\"><iframe allowfullscreen=\"\" class=\"dnr\" frameborder=\"0\" src=\"http://www.youtube.com/embed/6WHRxXY67UA\"></iframe></div> </figure> <div class=\"meta\"> <h2 class=\"title\">23. Boogie Boarding Fail</h2> <div class=\"caption\"><p>Its veracity may be suspect, but this 2008 YouTube classic has more than 12.7 million views, despite a mind-numbing soundtrack.</p></div> <div class=\"credit\"> </div> </div> </li> <li class=\"slide\" data-content-source=\"Gallery - Default\" data-id=\"5787da3d9111ae74d40037be\" data-skip-rerender=\"false\" data-thumb=\"http://i.amz.mshcdn.com/FEGrpdDY8wDe8C5IpgjMLpyxHnQ=/180x140/http%3A%2F%2Fmashable.com%2Fwp-content%2Fgallery%2Fsports-fails%2Fj3bUb72KzFA.jpg\"> <figure> <div class=\"aspect-16x9\"><iframe allowfullscreen=\"\" class=\"dnr\" frameborder=\"0\" src=\"http://www.youtube.com/embed/j3bUb72KzFA\"></iframe></div> </figure> <div class=\"meta\"> <h2 class=\"title\">24. Sportsmanship Fail</h2> <div class=\"caption\"> <p>The summer of 2011 was a tough time for NBA star LeBron James. It was full of lingering ill-will for his decision to the leave the Cleveland Cavaliers and snarky schadenfreude over his initial failure to win a championship with the Miami Heat.</p> <p>So it makes perfect sense that he'd let off some steam by viciously dunking on a tiny kid at summer camp, right? That's what happens at the 0:43 mark of this video.</p> </div> <div class=\"credit\"> </div> </div> </li> <li class=\"slide\" data-content-source=\"Gallery - Default\" data-id=\"5787da3d9111ae74d40037bf\" data-skip-rerender=\"false\" data-thumb=\"http://i.amz.mshcdn.com/hw0rhe9y9NAfM7R0Gp5q__Kr_Ho=/180x140/http%3A%2F%2Fmashable.com%2Fwp-content%2Fgallery%2Fsports-fails%2Ff_VdySnHsJY.jpg\"> <figure> <div class=\"aspect-16x9\"><iframe allowfullscreen=\"\" class=\"dnr\" frameborder=\"0\" src=\"http://www.youtube.com/embed/f_VdySnHsJY\"></iframe></div> </figure> <div class=\"meta\"> <h2 class=\"title\">25. Standing on a Basketball Hoop Fail</h2> <div class=\"caption\"><p>We're not quite sure why this mascot thought standing on top of a basketball rim was a good idea.</p></div> <div class=\"credit\"> </div> </div> </li> </ol> </section> </section></article><footer class=\"article-topics\"> Topics: <a href=\"/category/entertainment/\">Entertainment</a>, <a href=\"/category/nfl/\">NFL</a>, <a href=\"/category/nfl-draft/\">NFL Draft</a>, <a href=\"/category/sports/\">Sports</a>, <a href=\"/category/television/\">Television</a> </footer></body></html>\n"
     ]
    }
   ],
   "source": [
    "df = pd.read_csv('train_2.csv')\n",
    "\n",
    "df_test = pd.read_csv(\"test.csv\")\n",
    "df_test = df_test['Page content']\n",
    "print(df['Page content'].iloc[2])"
   ]
  },
  {
   "cell_type": "markdown",
   "id": "674a426d",
   "metadata": {},
   "source": [
    "# Define Preprocessor and Vectorizer"
   ]
  },
  {
   "cell_type": "code",
   "execution_count": 6,
   "id": "89c7903f",
   "metadata": {},
   "outputs": [],
   "source": [
    "#preprocessor for all text\n",
    "def preprocessor(text):\n",
    "    # remove HTML tags\n",
    "    text = BeautifulSoup(text, 'html.parser').get_text()\n",
    "    \n",
    "    # regex for matching emoticons, keep emoticons, ex: :), :-P, :-D\n",
    "    r = '(?::|;|=|X)(?:-)?(?:\\)|\\(|D|P)'\n",
    "    emoticons = re.findall(r, text)\n",
    "    text = re.sub(r, '', text)\n",
    "    \n",
    "    # convert to lowercase and append all emoticons behind (with space in between)\n",
    "    # replace('-','') removes nose of emoticons\n",
    "    text = re.sub('[\\W]+', ' ', text.lower()) + ' ' + ' '.join(emoticons).replace('-','')\n",
    "    \n",
    "    return text\n",
    "# print(preprocessor(df.loc[0,'Page content']))"
   ]
  },
  {
   "cell_type": "code",
   "execution_count": 7,
   "id": "863e205f",
   "metadata": {},
   "outputs": [],
   "source": [
    "def preprocessor_title(X):\n",
    "    ret=[]\n",
    "    for text in X:\n",
    "        titles = BeautifulSoup(text, 'html.parser')\n",
    "        titles = titles.find_all('h1', class_='title')\n",
    "        t=\"\"\n",
    "        for title in titles:\n",
    "            t+=str(title.getText())\n",
    "        r = '(?::|;|=|X)(?:-)?(?:\\)|\\(|D|P)'\n",
    "        emoticons = re.findall(r, t)\n",
    "        t = re.sub(r, '', t)\n",
    "        t = re.sub('[\\W]+', ' ', t.lower()) + ' ' + ' '.join(emoticons).replace('-','')\n",
    "        ret.append(t)\n",
    "    return ret"
   ]
  },
  {
   "cell_type": "code",
   "execution_count": 8,
   "id": "466827e4",
   "metadata": {},
   "outputs": [],
   "source": [
    "def preprocessor_topic(X):\n",
    "    ret=[]\n",
    "    for text in X:\n",
    "        topics = BeautifulSoup(text, 'html.parser')\n",
    "        topics = topics.find_all(class_='article-topics')\n",
    "        t=\"\"\n",
    "        for topic in topics:\n",
    "            t+=str(topic.getText())\n",
    "\n",
    "        r = '(?::|;|=|X)(?:-)?(?:\\)|\\(|D|P)'\n",
    "        emoticons = re.findall(r, t)\n",
    "        t = re.sub(r, '', t)\n",
    "        t = re.sub('[\\W]+', ' ', t.lower()) + ' ' + ' '.join(emoticons).replace('-','')\n",
    "        t = t[7:] # remove \" Topics\"\n",
    "        ret.append(t)\n",
    "    \n",
    "    return ret"
   ]
  },
  {
   "cell_type": "code",
   "execution_count": 9,
   "id": "6cd78bbd",
   "metadata": {},
   "outputs": [],
   "source": [
    "def preprocessor_channel(X):\n",
    "    ret=[]\n",
    "    for text in X:\n",
    "        channel_flag = 0\n",
    "        channels = BeautifulSoup(text, 'html.parser')\n",
    "        channels = channels.find_all('article')\n",
    "        for channel in channels:\n",
    "            if 'data-channel' in channel.attrs:\n",
    "                channel_flag = 1\n",
    "                ret.append(channel['data-channel'])\n",
    "        if channel_flag == 0:\n",
    "            ret.append(\" entertainment nfl sports  \")\n",
    "    return ret\n"
   ]
  },
  {
   "cell_type": "code",
   "execution_count": 10,
   "id": "70883d1a",
   "metadata": {},
   "outputs": [],
   "source": [
    "def preprocessor_weekday(X):\n",
    "    weekday = []\n",
    "    for i in range(len(X)):\n",
    "        if 'datetime=\"' in X[i]:\n",
    "            split_data = X[i].split('datetime=\"')[1].split(\",\")[0]\n",
    "            weekday.append(split_data)\n",
    "        else:\n",
    "            weekday.append(\"Mon\")\n",
    "    return weekday"
   ]
  },
  {
   "cell_type": "code",
   "execution_count": 11,
   "id": "b1d6d879",
   "metadata": {},
   "outputs": [],
   "source": [
    "def preprocessor_time(X):\n",
    "    ret=np.array([0, 0, 0, 0, 0, 0])\n",
    "    z=0\n",
    "    for text in X:\n",
    "        one_doc = []\n",
    "        times = BeautifulSoup(text, 'html.parser')\n",
    "        times = times.find_all('time')\n",
    "        \n",
    "        \n",
    "        sp = times[0].getText().split(' ')\n",
    "        if(len(sp)!=1):\n",
    "            date = sp[0].split('-')\n",
    "            moment = sp[1].split(':')\n",
    "\n",
    "            date = [int(d) for d in date]\n",
    "            moment = [int(m) for m in moment]\n",
    "\n",
    "            one_doc = np.hstack((np.array(date), np.array(moment)))\n",
    "            ret = np.vstack((ret, one_doc))\n",
    "        else:\n",
    "            temp=np.array([2010, 9, 29, 8, 0, 0])\n",
    "            ret = np.vstack((ret, temp))\n",
    "    ret = np.delete(ret, 0, axis = 0)\n",
    "    return ret"
   ]
  },
  {
   "cell_type": "code",
   "execution_count": 12,
   "id": "fbc39b31",
   "metadata": {},
   "outputs": [],
   "source": [
    "def preprocessor_textlen(X):\n",
    "    L=[]\n",
    "    for text in X:\n",
    "        inners = BeautifulSoup(text, 'html.parser')\n",
    "        inners = inners.find_all('section', class_='article-content')\n",
    "        #print(inners)\n",
    "        L.append(len(inners[0].getText()))\n",
    "    L = [int(l) for l in L]\n",
    "    leng = len(L)\n",
    "    L = np.array(L).reshape(leng, 1)\n",
    "    return L\n"
   ]
  },
  {
   "cell_type": "code",
   "execution_count": 13,
   "id": "2e6ff5e6",
   "metadata": {},
   "outputs": [],
   "source": [
    "def preprocessor_src(X):\n",
    "    ret=[]\n",
    "    for text in X:\n",
    "        image_count = (text.count(\"src\"))\n",
    "        ret.append(image_count)\n",
    "    leng = len(ret)\n",
    "    ret = np.array(ret).reshape(leng, 1)\n",
    "    return ret"
   ]
  },
  {
   "cell_type": "code",
   "execution_count": 14,
   "id": "2b3c07fb",
   "metadata": {},
   "outputs": [],
   "source": [
    "stop = stopwords.words('english')\n",
    "def tokenizer_stem_nostop(text):\n",
    "    porter = PorterStemmer()\n",
    "    return [porter.stem(w) for w in re.split('\\s+', text.strip()) \\\n",
    "            if w not in stop and re.match('[a-zA-Z]+', w)]"
   ]
  },
  {
   "cell_type": "markdown",
   "id": "a8b53a14",
   "metadata": {},
   "source": [
    "## MERGE FEATURE"
   ]
  },
  {
   "cell_type": "code",
   "execution_count": 15,
   "id": "9362f3b6",
   "metadata": {},
   "outputs": [],
   "source": [
    "TITLE = preprocessor_title(df['Page content'])    # (27643,  ) str, each is a str of all vacabulary in title of a document\n",
    "TOPIC = preprocessor_topic(df['Page content'])    # (27643,  ) str, each is a str of all vacabulary in topic of a document\n",
    "CHANNEL = preprocessor_channel(df['Page content'])# (27643,  ) str, each is one vacabulary of channel of a document\n",
    "WEEK = preprocessor_weekday(df['Page content'])   # (27643,  ) str, each is one vacabulary from Mon to Sat\n",
    "TIME = preprocessor_time(df['Page content'])      # (27643, 6) int, for each doc, (year, month, date, hour, minute, sec) \n",
    "TEXTLEN = preprocessor_textlen(df['Page content'])# (27643,  ) int, article-content length of each document\n",
    "SRC = preprocessor_src(df['Page content'])        # (27643,  ) int, #images of each document "
   ]
  },
  {
   "cell_type": "code",
   "execution_count": 16,
   "id": "3a47c49e",
   "metadata": {},
   "outputs": [],
   "source": [
    "WEEK_dum = pd.get_dummies(WEEK)\n",
    "WEEK_dum = np.array(WEEK_dum)\n",
    "# one hot of (27643, 7)\n",
    "CHANNEL[0]='travel-leisure'\n",
    "CHANNEL_dum = pd.get_dummies(CHANNEL)\n",
    "CHANNEL_dum = np.array(CHANNEL_dum)\n",
    "# one hot of (27643, 33)"
   ]
  },
  {
   "cell_type": "code",
   "execution_count": 17,
   "id": "85bff471",
   "metadata": {},
   "outputs": [],
   "source": [
    "TITLE_test = preprocessor_title(df_test)    # (27643,  ) str, each is a str of all vacabulary in title of a document\n",
    "TOPIC_test = preprocessor_topic(df_test)    # (27643,  ) str, each is a str of all vacabulary in topic of a document\n",
    "CHANNEL_test = preprocessor_channel(df_test)# (27643,  ) str, each is one vacabulary of channel of a document\n",
    "WEEK_test = preprocessor_weekday(df_test)   # (27643,  ) str, each is one vacabulary from Mon to Sat\n",
    "TIME_test = preprocessor_time(df_test)      # (27643, 6) int, for each doc, (year, month, date, hour, minute, sec) \n",
    "TEXTLEN_test = preprocessor_textlen(df_test)# (27643,  ) int, article-content length of each document\n",
    "SRC_test = preprocessor_src(df_test)"
   ]
  },
  {
   "cell_type": "code",
   "execution_count": 18,
   "id": "4903d7e7",
   "metadata": {},
   "outputs": [],
   "source": [
    "WEEK_dum_test = pd.get_dummies(WEEK_test)\n",
    "WEEK_dum_test = np.array(WEEK_dum_test)\n",
    "\n",
    "CHANNEL_test[0]='bus'\n",
    "CHANNEL_test[1]='comics'\n",
    "CHANNEL_test[2]='howto'\n",
    "CHANNEL_test[4]='viral'\n",
    "CHANNEL_dum_test = pd.get_dummies(CHANNEL_test)\n",
    "CHANNEL_dum_test = np.array(CHANNEL_dum_test)"
   ]
  },
  {
   "cell_type": "code",
   "execution_count": 19,
   "id": "66a511a5",
   "metadata": {},
   "outputs": [],
   "source": [
    "X_train = []\n",
    "for i in range(len(TITLE)):\n",
    "    temp=TITLE[i]+\" \"+TOPIC[i]\n",
    "    X_train.append(temp)\n",
    "    \n",
    "X_test = []\n",
    "for i in range(len(TITLE_test)):\n",
    "    temp=TITLE_test[i]+\" \"+TOPIC_test[i]\n",
    "    X_test.append(temp)\n"
   ]
  },
  {
   "cell_type": "code",
   "execution_count": 36,
   "id": "2738d332",
   "metadata": {},
   "outputs": [],
   "source": [
    "merge_data=np.hstack((np.array(X_train), np.array(X_test)))\n",
    "\n",
    "vect = CountVectorizer(tokenizer=tokenizer_stem_nostop,\n",
    "                       max_features=2000,\n",
    "                       lowercase=False\n",
    "                      ).fit(merge_data)\n",
    "X_train_vectorized = vect.transform(X_train)\n",
    "X_test_vectorized = vect.transform(X_test)\n",
    "#print(X_train_vectorized.shape)\n",
    "# concatenate CHANNEL_dum, WEEK_dum, TEXTLEN, TIME, and X_train_vectorized\n",
    "\n",
    "Y_train=df['Popularity']"
   ]
  },
  {
   "cell_type": "code",
   "execution_count": 37,
   "id": "1fbd0527",
   "metadata": {},
   "outputs": [],
   "source": [
    "dum_temp1 = np.hstack((WEEK_dum, CHANNEL_dum))\n",
    "dum_temp2 = np.hstack((TEXTLEN, TIME))\n",
    "dum = np.hstack((dum_temp1, dum_temp2))\n",
    "dum = np.hstack((dum, SRC))\n",
    "X_train_vectorized = np.hstack((X_train_vectorized.toarray(), dum))\n",
    "\n",
    "\n",
    "dum_temp1 = np.hstack((WEEK_dum_test, CHANNEL_dum_test))\n",
    "dum_temp2 = np.hstack((TEXTLEN_test, TIME_test))\n",
    "dum = np.hstack((dum_temp1, dum_temp2))\n",
    "dum = np.hstack((dum, SRC_test))\n",
    "X_test_vectorized = np.hstack((X_test_vectorized.toarray(), dum))"
   ]
  },
  {
   "cell_type": "code",
   "execution_count": 38,
   "id": "2b1d0cf3",
   "metadata": {},
   "outputs": [
    {
     "name": "stdout",
     "output_type": "stream",
     "text": [
      "(27643, 2049)\n",
      "(11847, 2049)\n"
     ]
    }
   ],
   "source": [
    "print(X_train_vectorized.shape)\n",
    "print(X_test_vectorized.shape)"
   ]
  },
  {
   "cell_type": "markdown",
   "id": "5f16cdf9",
   "metadata": {},
   "source": [
    "# Start Training"
   ]
  },
  {
   "cell_type": "code",
   "execution_count": 42,
   "id": "e2be878b",
   "metadata": {},
   "outputs": [
    {
     "name": "stdout",
     "output_type": "stream",
     "text": [
      "round: 1\n",
      "train:  0.6040969521570047\n",
      "valid:  0.5581479471875566\n",
      "auc:  0.5954296780440571\n",
      "===============save model===============\n",
      "round: 2\n",
      "train:  0.6041421723794881\n",
      "valid:  0.545849158979924\n",
      "auc:  0.5693716708764675\n",
      "round: 3\n",
      "train:  0.6155376684453288\n",
      "valid:  0.5574244890576958\n",
      "auc:  0.5675336221321066\n",
      "round: 4\n",
      "train:  0.6109252057520123\n",
      "valid:  0.5735214324470971\n",
      "auc:  0.5832220114895138\n",
      "===============save model===============\n",
      "round: 5\n",
      "train:  0.6078502306231347\n",
      "valid:  0.5550732501356483\n",
      "auc:  0.5793123916173815\n",
      "round: 6\n",
      "train:  0.6098399204124084\n",
      "valid:  0.571351058057515\n",
      "auc:  0.5919691862911357\n",
      "round: 7\n",
      "train:  0.6106538844171113\n",
      "valid:  0.5673720383432809\n",
      "auc:  0.5768908393419708\n",
      "round: 8\n",
      "train:  0.6098399204124084\n",
      "valid:  0.5614035087719298\n",
      "auc:  0.5820098715174056\n",
      "round: 9\n",
      "train:  0.6066745048385638\n",
      "valid:  0.5677337674082112\n",
      "auc:  0.5934711802570334\n",
      "round: 10\n",
      "train:  0.6031473274848512\n",
      "valid:  0.5465726171097848\n",
      "auc:  0.5736021798593309\n",
      "round: 11\n",
      "train:  0.6050013566066745\n",
      "valid:  0.5510942304214144\n",
      "auc:  0.5802149498688458\n",
      "round: 12\n",
      "train:  0.6042326128244551\n",
      "valid:  0.5639356122264424\n",
      "auc:  0.5764767973902396\n",
      "round: 13\n",
      "train:  0.6147237044406259\n",
      "valid:  0.5709893289925846\n",
      "auc:  0.5940654141219605\n",
      "round: 14\n",
      "train:  0.6147689246631094\n",
      "valid:  0.5755109423042142\n",
      "auc:  0.5946238814500968\n",
      "===============save model===============\n",
      "round: 15\n",
      "train:  0.6106538844171113\n",
      "valid:  0.5624886959667209\n",
      "auc:  0.5846666849882284\n",
      "round: 16\n",
      "train:  0.6043682734919056\n",
      "valid:  0.5594139989148128\n",
      "auc:  0.5885646715352918\n",
      "round: 17\n",
      "train:  0.6129601157637695\n",
      "valid:  0.563573883161512\n",
      "auc:  0.580071904540686\n",
      "round: 18\n",
      "train:  0.601564619697929\n",
      "valid:  0.5512750949538795\n",
      "auc:  0.582606407519675\n",
      "round: 19\n",
      "train:  0.6059509812788278\n",
      "valid:  0.565563393018629\n",
      "auc:  0.5879831989315931\n",
      "round: 20\n",
      "train:  0.6052726779415755\n",
      "valid:  0.5489238560318321\n",
      "auc:  0.5761094897197974\n"
     ]
    }
   ],
   "source": [
    "best_val_score=0\n",
    "for i in range(100):\n",
    "    clf = LGBMClassifier(max_depth=9, n_estimators=50)\n",
    "    x_train, X_val, y_train, y_val = train_test_split(X_train_vectorized, Y_train, test_size=0.2, shuffle=True)\n",
    "    clf.fit(x_train, y_train)\n",
    "    print(\"round:\", i+1)\n",
    "    train_score=clf.score(x_train, y_train)\n",
    "    val_score=clf.score(X_val, y_val)\n",
    "#     train_score=roc_auc_score(y_train, clf.predict_proba(x_train)[:,1])\n",
    "    \n",
    "    print(\"train: \", train_score)\n",
    "    print(\"valid: \", val_score)\n",
    "    print(\"auc: \", roc_auc_score(y_val, clf.predict_proba(X_val)[:,1]))\n",
    "    \n",
    "    if(val_score>best_val_score):\n",
    "        pred=clf.predict_proba(X_test_vectorized)[:,1]\n",
    "        index=[]\n",
    "        for i in range(len(pred)):\n",
    "            index.append(27643+i)\n",
    "        dict = {'Id': index, 'Popularity': pred}\n",
    "        predict = pd.DataFrame(dict) \n",
    "        predict.to_csv('prediction.csv', index=False)\n",
    "        best_val_score=val_score\n",
    "        print(\"===============save model===============\")"
   ]
  },
  {
   "cell_type": "code",
   "execution_count": null,
   "id": "ed1b5009",
   "metadata": {},
   "outputs": [],
   "source": []
  }
 ],
 "metadata": {
  "kernelspec": {
   "display_name": "Python 3 (ipykernel)",
   "language": "python",
   "name": "python3"
  },
  "language_info": {
   "codemirror_mode": {
    "name": "ipython",
    "version": 3
   },
   "file_extension": ".py",
   "mimetype": "text/x-python",
   "name": "python",
   "nbconvert_exporter": "python",
   "pygments_lexer": "ipython3",
   "version": "3.9.13"
  }
 },
 "nbformat": 4,
 "nbformat_minor": 5
}
