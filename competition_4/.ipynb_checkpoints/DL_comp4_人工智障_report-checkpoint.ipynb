{
 "cells": [
  {
   "cell_type": "code",
   "execution_count": 1,
   "id": "ed50fb2c",
   "metadata": {},
   "outputs": [],
   "source": [
    "import os\n",
    "import numpy as np\n",
    "import pandas as pd\n",
    "import matplotlib.pyplot as plt\n",
    "import tensorflow as tf\n",
    "from tqdm import tqdm\n",
    "import numpy as np\n",
    "import pandas as pd\n",
    "import tensorflow as tf\n",
    "import tensorflow.keras as keras\n",
    "from tensorflow.keras.preprocessing.text import Tokenizer\n",
    "from tensorflow.keras.preprocessing.sequence import pad_sequences\n",
    "import tensorflow.keras.backend as K\n",
    "from tensorflow.keras.models import Model\n",
    "from tensorflow.keras.layers import *"
   ]
  },
  {
   "cell_type": "code",
   "execution_count": 2,
   "id": "56f560e3",
   "metadata": {},
   "outputs": [
    {
     "name": "stdout",
     "output_type": "stream",
     "text": [
      "1 Physical GPUs, 1 Logical GPUs\n"
     ]
    }
   ],
   "source": [
    "gpus = tf.config.experimental.list_physical_devices('GPU')\n",
    "if gpus:\n",
    "    try:\n",
    "        # Currently, memory growth needs to be the same across GPUs\n",
    "        for gpu in gpus:\n",
    "            tf.config.experimental.set_memory_growth(gpu, True)\n",
    "        # Select GPU number 1\n",
    "        tf.config.experimental.set_visible_devices(gpus[0], 'GPU')\n",
    "        logical_gpus = tf.config.experimental.list_logical_devices('GPU')\n",
    "        print(len(gpus), \"Physical GPUs,\", len(logical_gpus), \"Logical GPUs\")\n",
    "    except RuntimeError as e:\n",
    "        # Memory growth must be set before GPUs have been initialized\n",
    "        print(e)"
   ]
  },
  {
   "cell_type": "code",
   "execution_count": 3,
   "id": "34b9f78d",
   "metadata": {},
   "outputs": [
    {
     "name": "stdout",
     "output_type": "stream",
     "text": [
      "['.ipynb_checkpoints', 'drive-download-20221229T095352Z-001.zip', 'movies.csv', 'ratings_train.csv', 'Untitled.ipynb', 'users.csv']\n"
     ]
    }
   ],
   "source": [
    "dir = os.listdir(\"../../DL_data/competition4/\")\n",
    "print(dir)"
   ]
  },
  {
   "cell_type": "code",
   "execution_count": 4,
   "id": "6768fd02",
   "metadata": {},
   "outputs": [],
   "source": [
    "DATASET_PATH = '../../DL_data/competition4/'\n",
    "USERS_PATH = os.path.join(DATASET_PATH, 'users.csv')\n",
    "MOVIES_PATH = os.path.join(DATASET_PATH, 'movies.csv')\n",
    "RATINGS_PATH = os.path.join(DATASET_PATH, 'ratings_train.csv')"
   ]
  },
  {
   "cell_type": "code",
   "execution_count": 5,
   "id": "4f92c5e1",
   "metadata": {},
   "outputs": [
    {
     "data": {
      "text/html": [
       "<div>\n",
       "<style scoped>\n",
       "    .dataframe tbody tr th:only-of-type {\n",
       "        vertical-align: middle;\n",
       "    }\n",
       "\n",
       "    .dataframe tbody tr th {\n",
       "        vertical-align: top;\n",
       "    }\n",
       "\n",
       "    .dataframe thead th {\n",
       "        text-align: right;\n",
       "    }\n",
       "</style>\n",
       "<table border=\"1\" class=\"dataframe\">\n",
       "  <thead>\n",
       "    <tr style=\"text-align: right;\">\n",
       "      <th></th>\n",
       "      <th>UserID</th>\n",
       "      <th>Gender</th>\n",
       "      <th>Age</th>\n",
       "      <th>Occupation</th>\n",
       "      <th>ZipCode</th>\n",
       "    </tr>\n",
       "  </thead>\n",
       "  <tbody>\n",
       "    <tr>\n",
       "      <th>0</th>\n",
       "      <td>0</td>\n",
       "      <td>F</td>\n",
       "      <td>1</td>\n",
       "      <td>10</td>\n",
       "      <td>48067</td>\n",
       "    </tr>\n",
       "    <tr>\n",
       "      <th>1</th>\n",
       "      <td>1</td>\n",
       "      <td>M</td>\n",
       "      <td>56</td>\n",
       "      <td>16</td>\n",
       "      <td>70072</td>\n",
       "    </tr>\n",
       "    <tr>\n",
       "      <th>2</th>\n",
       "      <td>2</td>\n",
       "      <td>M</td>\n",
       "      <td>25</td>\n",
       "      <td>15</td>\n",
       "      <td>55117</td>\n",
       "    </tr>\n",
       "    <tr>\n",
       "      <th>3</th>\n",
       "      <td>3</td>\n",
       "      <td>M</td>\n",
       "      <td>45</td>\n",
       "      <td>7</td>\n",
       "      <td>02460</td>\n",
       "    </tr>\n",
       "    <tr>\n",
       "      <th>4</th>\n",
       "      <td>4</td>\n",
       "      <td>M</td>\n",
       "      <td>25</td>\n",
       "      <td>20</td>\n",
       "      <td>55455</td>\n",
       "    </tr>\n",
       "    <tr>\n",
       "      <th>...</th>\n",
       "      <td>...</td>\n",
       "      <td>...</td>\n",
       "      <td>...</td>\n",
       "      <td>...</td>\n",
       "      <td>...</td>\n",
       "    </tr>\n",
       "    <tr>\n",
       "      <th>6035</th>\n",
       "      <td>6035</td>\n",
       "      <td>F</td>\n",
       "      <td>25</td>\n",
       "      <td>15</td>\n",
       "      <td>32603</td>\n",
       "    </tr>\n",
       "    <tr>\n",
       "      <th>6036</th>\n",
       "      <td>6036</td>\n",
       "      <td>F</td>\n",
       "      <td>45</td>\n",
       "      <td>1</td>\n",
       "      <td>76006</td>\n",
       "    </tr>\n",
       "    <tr>\n",
       "      <th>6037</th>\n",
       "      <td>6037</td>\n",
       "      <td>F</td>\n",
       "      <td>56</td>\n",
       "      <td>1</td>\n",
       "      <td>14706</td>\n",
       "    </tr>\n",
       "    <tr>\n",
       "      <th>6038</th>\n",
       "      <td>6038</td>\n",
       "      <td>F</td>\n",
       "      <td>45</td>\n",
       "      <td>0</td>\n",
       "      <td>01060</td>\n",
       "    </tr>\n",
       "    <tr>\n",
       "      <th>6039</th>\n",
       "      <td>6039</td>\n",
       "      <td>M</td>\n",
       "      <td>25</td>\n",
       "      <td>6</td>\n",
       "      <td>11106</td>\n",
       "    </tr>\n",
       "  </tbody>\n",
       "</table>\n",
       "<p>6040 rows × 5 columns</p>\n",
       "</div>"
      ],
      "text/plain": [
       "      UserID Gender  Age  Occupation ZipCode\n",
       "0          0      F    1          10   48067\n",
       "1          1      M   56          16   70072\n",
       "2          2      M   25          15   55117\n",
       "3          3      M   45           7   02460\n",
       "4          4      M   25          20   55455\n",
       "...      ...    ...  ...         ...     ...\n",
       "6035    6035      F   25          15   32603\n",
       "6036    6036      F   45           1   76006\n",
       "6037    6037      F   56           1   14706\n",
       "6038    6038      F   45           0   01060\n",
       "6039    6039      M   25           6   11106\n",
       "\n",
       "[6040 rows x 5 columns]"
      ]
     },
     "execution_count": 5,
     "metadata": {},
     "output_type": "execute_result"
    }
   ],
   "source": [
    "df_users = pd.read_csv(USERS_PATH)\n",
    "df_users"
   ]
  },
  {
   "cell_type": "code",
   "execution_count": 6,
   "id": "f1a37639",
   "metadata": {},
   "outputs": [
    {
     "data": {
      "text/html": [
       "<div>\n",
       "<style scoped>\n",
       "    .dataframe tbody tr th:only-of-type {\n",
       "        vertical-align: middle;\n",
       "    }\n",
       "\n",
       "    .dataframe tbody tr th {\n",
       "        vertical-align: top;\n",
       "    }\n",
       "\n",
       "    .dataframe thead th {\n",
       "        text-align: right;\n",
       "    }\n",
       "</style>\n",
       "<table border=\"1\" class=\"dataframe\">\n",
       "  <thead>\n",
       "    <tr style=\"text-align: right;\">\n",
       "      <th></th>\n",
       "      <th>MovieID</th>\n",
       "      <th>Title</th>\n",
       "      <th>Genres</th>\n",
       "    </tr>\n",
       "  </thead>\n",
       "  <tbody>\n",
       "    <tr>\n",
       "      <th>0</th>\n",
       "      <td>0</td>\n",
       "      <td>Toy Story (1995)</td>\n",
       "      <td>Animation|Children's|Comedy</td>\n",
       "    </tr>\n",
       "    <tr>\n",
       "      <th>1</th>\n",
       "      <td>1</td>\n",
       "      <td>Jumanji (1995)</td>\n",
       "      <td>Adventure|Children's|Fantasy</td>\n",
       "    </tr>\n",
       "    <tr>\n",
       "      <th>2</th>\n",
       "      <td>2</td>\n",
       "      <td>Grumpier Old Men (1995)</td>\n",
       "      <td>Comedy|Romance</td>\n",
       "    </tr>\n",
       "    <tr>\n",
       "      <th>3</th>\n",
       "      <td>3</td>\n",
       "      <td>Waiting to Exhale (1995)</td>\n",
       "      <td>Comedy|Drama</td>\n",
       "    </tr>\n",
       "    <tr>\n",
       "      <th>4</th>\n",
       "      <td>4</td>\n",
       "      <td>Father of the Bride Part II (1995)</td>\n",
       "      <td>Comedy</td>\n",
       "    </tr>\n",
       "    <tr>\n",
       "      <th>...</th>\n",
       "      <td>...</td>\n",
       "      <td>...</td>\n",
       "      <td>...</td>\n",
       "    </tr>\n",
       "    <tr>\n",
       "      <th>3878</th>\n",
       "      <td>3947</td>\n",
       "      <td>Meet the Parents (2000)</td>\n",
       "      <td>Comedy</td>\n",
       "    </tr>\n",
       "    <tr>\n",
       "      <th>3879</th>\n",
       "      <td>3948</td>\n",
       "      <td>Requiem for a Dream (2000)</td>\n",
       "      <td>Drama</td>\n",
       "    </tr>\n",
       "    <tr>\n",
       "      <th>3880</th>\n",
       "      <td>3949</td>\n",
       "      <td>Tigerland (2000)</td>\n",
       "      <td>Drama</td>\n",
       "    </tr>\n",
       "    <tr>\n",
       "      <th>3881</th>\n",
       "      <td>3950</td>\n",
       "      <td>Two Family House (2000)</td>\n",
       "      <td>Drama</td>\n",
       "    </tr>\n",
       "    <tr>\n",
       "      <th>3882</th>\n",
       "      <td>3951</td>\n",
       "      <td>Contender, The (2000)</td>\n",
       "      <td>Drama|Thriller</td>\n",
       "    </tr>\n",
       "  </tbody>\n",
       "</table>\n",
       "<p>3883 rows × 3 columns</p>\n",
       "</div>"
      ],
      "text/plain": [
       "      MovieID                               Title  \\\n",
       "0           0                    Toy Story (1995)   \n",
       "1           1                      Jumanji (1995)   \n",
       "2           2             Grumpier Old Men (1995)   \n",
       "3           3            Waiting to Exhale (1995)   \n",
       "4           4  Father of the Bride Part II (1995)   \n",
       "...       ...                                 ...   \n",
       "3878     3947             Meet the Parents (2000)   \n",
       "3879     3948          Requiem for a Dream (2000)   \n",
       "3880     3949                    Tigerland (2000)   \n",
       "3881     3950             Two Family House (2000)   \n",
       "3882     3951               Contender, The (2000)   \n",
       "\n",
       "                            Genres  \n",
       "0      Animation|Children's|Comedy  \n",
       "1     Adventure|Children's|Fantasy  \n",
       "2                   Comedy|Romance  \n",
       "3                     Comedy|Drama  \n",
       "4                           Comedy  \n",
       "...                            ...  \n",
       "3878                        Comedy  \n",
       "3879                         Drama  \n",
       "3880                         Drama  \n",
       "3881                         Drama  \n",
       "3882                Drama|Thriller  \n",
       "\n",
       "[3883 rows x 3 columns]"
      ]
     },
     "execution_count": 6,
     "metadata": {},
     "output_type": "execute_result"
    }
   ],
   "source": [
    "df_movies = pd.read_csv(MOVIES_PATH)\n",
    "df_movies"
   ]
  },
  {
   "cell_type": "code",
   "execution_count": 7,
   "id": "8d536b2a",
   "metadata": {},
   "outputs": [
    {
     "data": {
      "text/html": [
       "<div>\n",
       "<style scoped>\n",
       "    .dataframe tbody tr th:only-of-type {\n",
       "        vertical-align: middle;\n",
       "    }\n",
       "\n",
       "    .dataframe tbody tr th {\n",
       "        vertical-align: top;\n",
       "    }\n",
       "\n",
       "    .dataframe thead th {\n",
       "        text-align: right;\n",
       "    }\n",
       "</style>\n",
       "<table border=\"1\" class=\"dataframe\">\n",
       "  <thead>\n",
       "    <tr style=\"text-align: right;\">\n",
       "      <th></th>\n",
       "      <th>UserID</th>\n",
       "      <th>MovieID</th>\n",
       "      <th>Rating</th>\n",
       "      <th>Timestamp</th>\n",
       "    </tr>\n",
       "  </thead>\n",
       "  <tbody>\n",
       "    <tr>\n",
       "      <th>0</th>\n",
       "      <td>6039</td>\n",
       "      <td>857</td>\n",
       "      <td>4</td>\n",
       "      <td>956703932</td>\n",
       "    </tr>\n",
       "    <tr>\n",
       "      <th>1</th>\n",
       "      <td>6039</td>\n",
       "      <td>2383</td>\n",
       "      <td>4</td>\n",
       "      <td>956703954</td>\n",
       "    </tr>\n",
       "    <tr>\n",
       "      <th>2</th>\n",
       "      <td>6039</td>\n",
       "      <td>592</td>\n",
       "      <td>5</td>\n",
       "      <td>956703954</td>\n",
       "    </tr>\n",
       "    <tr>\n",
       "      <th>3</th>\n",
       "      <td>6039</td>\n",
       "      <td>1960</td>\n",
       "      <td>4</td>\n",
       "      <td>956703977</td>\n",
       "    </tr>\n",
       "    <tr>\n",
       "      <th>4</th>\n",
       "      <td>6039</td>\n",
       "      <td>2018</td>\n",
       "      <td>5</td>\n",
       "      <td>956703977</td>\n",
       "    </tr>\n",
       "    <tr>\n",
       "      <th>...</th>\n",
       "      <td>...</td>\n",
       "      <td>...</td>\n",
       "      <td>...</td>\n",
       "      <td>...</td>\n",
       "    </tr>\n",
       "    <tr>\n",
       "      <th>939757</th>\n",
       "      <td>5949</td>\n",
       "      <td>1996</td>\n",
       "      <td>3</td>\n",
       "      <td>1046368734</td>\n",
       "    </tr>\n",
       "    <tr>\n",
       "      <th>939758</th>\n",
       "      <td>5949</td>\n",
       "      <td>1260</td>\n",
       "      <td>4</td>\n",
       "      <td>1046368750</td>\n",
       "    </tr>\n",
       "    <tr>\n",
       "      <th>939759</th>\n",
       "      <td>5949</td>\n",
       "      <td>3151</td>\n",
       "      <td>3</td>\n",
       "      <td>1046368831</td>\n",
       "    </tr>\n",
       "    <tr>\n",
       "      <th>939760</th>\n",
       "      <td>5949</td>\n",
       "      <td>3910</td>\n",
       "      <td>4</td>\n",
       "      <td>1046369026</td>\n",
       "    </tr>\n",
       "    <tr>\n",
       "      <th>939761</th>\n",
       "      <td>4957</td>\n",
       "      <td>2452</td>\n",
       "      <td>4</td>\n",
       "      <td>1046454260</td>\n",
       "    </tr>\n",
       "  </tbody>\n",
       "</table>\n",
       "<p>939762 rows × 4 columns</p>\n",
       "</div>"
      ],
      "text/plain": [
       "        UserID  MovieID  Rating   Timestamp\n",
       "0         6039      857       4   956703932\n",
       "1         6039     2383       4   956703954\n",
       "2         6039      592       5   956703954\n",
       "3         6039     1960       4   956703977\n",
       "4         6039     2018       5   956703977\n",
       "...        ...      ...     ...         ...\n",
       "939757    5949     1996       3  1046368734\n",
       "939758    5949     1260       4  1046368750\n",
       "939759    5949     3151       3  1046368831\n",
       "939760    5949     3910       4  1046369026\n",
       "939761    4957     2452       4  1046454260\n",
       "\n",
       "[939762 rows x 4 columns]"
      ]
     },
     "execution_count": 7,
     "metadata": {},
     "output_type": "execute_result"
    }
   ],
   "source": [
    "df_ratings = pd.read_csv(RATINGS_PATH)\n",
    "df_ratings"
   ]
  },
  {
   "cell_type": "markdown",
   "id": "cfbf1cca",
   "metadata": {},
   "source": [
    "# Data prepocess\n",
    "我們採用了以下features輸入進model，有些preprocess是在進入model前就先處理好的，有些是在training過程中才處理的:\n",
    "1. timestamp：\n",
    "因為timestamp的值很大，因此我們有先用normalize的方式及embedding的方式，將他的值變得比較小。\n",
    "2. occupation：\n",
    "我們將occupation輸入進一個dense layer作處理。\n",
    "3. genre\n",
    "透過embedding的方式，將genre的值映射到別的空間。\n",
    "4. movie id\n",
    "透過embedding的方式，將movie id的值映射到別的空間。"
   ]
  },
  {
   "cell_type": "code",
   "execution_count": 8,
   "id": "48ea800b",
   "metadata": {},
   "outputs": [],
   "source": [
    "time_max = 1046454260\n",
    "time_min = 956703932"
   ]
  },
  {
   "cell_type": "code",
   "execution_count": 9,
   "id": "c6b87e98",
   "metadata": {},
   "outputs": [
    {
     "data": {
      "text/plain": [
       "59833.552"
      ]
     },
     "execution_count": 9,
     "metadata": {},
     "output_type": "execute_result"
    }
   ],
   "source": [
    "(time_max-time_min)/1500"
   ]
  },
  {
   "cell_type": "code",
   "execution_count": 10,
   "id": "3857fa9b",
   "metadata": {},
   "outputs": [
    {
     "name": "stdout",
     "output_type": "stream",
     "text": [
      "# of users: 6040, # of movies: 3952\n"
     ]
    }
   ],
   "source": [
    "M_USERS = max(len(df_users['UserID'].unique()), df_users['UserID'].max() + 1)\n",
    "N_ITEMS = max(len(df_movies['MovieID'].unique()), df_movies['MovieID'].max() + 1)\n",
    "print(f'# of users: {M_USERS}, # of movies: {N_ITEMS}')"
   ]
  },
  {
   "cell_type": "code",
   "execution_count": 11,
   "id": "9eaddbcd",
   "metadata": {},
   "outputs": [],
   "source": [
    "user_movie_id_to_index = [0]*(M_USERS*N_ITEMS)\n",
    "\n",
    "for i in range(len(df_ratings)):\n",
    "    data1 = df_ratings.iloc[i]\n",
    "    user_movie_id_to_index[data1['UserID']*N_ITEMS+data1['MovieID']] = i"
   ]
  },
  {
   "cell_type": "code",
   "execution_count": 12,
   "id": "3f4da4ec",
   "metadata": {},
   "outputs": [
    {
     "name": "stdout",
     "output_type": "stream",
     "text": [
      "tf.Tensor([[1]], shape=(1, 1), dtype=int64)\n"
     ]
    }
   ],
   "source": [
    "df_rate_user = df_ratings[\"UserID\"]\n",
    "df_rate_movie = df_ratings[\"MovieID\"]\n",
    "\n",
    "bool_idx_user = tf.equal(df_rate_user, 6039)\n",
    "bool_idx_movie = tf.equal(df_rate_movie, 2383)\n",
    "boolreal = bool_idx_user&bool_idx_movie\n",
    "\n",
    "final_inx = tf.where(boolreal)\n",
    "print(final_inx)"
   ]
  },
  {
   "cell_type": "code",
   "execution_count": 14,
   "id": "f5e7e1af",
   "metadata": {},
   "outputs": [],
   "source": [
    "def text2seq(text, n_genre):\n",
    "    \"\"\" using tokenizer to encoded the multi-level categorical feature\n",
    "    \"\"\"\n",
    "    tokenizer = Tokenizer(lower=True, split='|',filters='', num_words=n_genre)\n",
    "    tokenizer.fit_on_texts(text)\n",
    "    S = tokenizer.texts_to_sequences(text)\n",
    "    S = pad_sequences(S, maxlen=3,padding='post')\n",
    "    return S\n"
   ]
  },
  {
   "cell_type": "code",
   "execution_count": null,
   "id": "ed5a1f58",
   "metadata": {},
   "outputs": [],
   "source": [
    "n_genre = 15\n",
    "df_movies['Genres'] = text2seq(df_movies.Genres.values, n_genre=n_genre)\n",
    "movie_id_to_index=[0]*10000\n",
    "for i in range(len(df_movies)):\n",
    "    movie_id_to_index[df_movies[\"MovieID\"][i]]=i"
   ]
  },
  {
   "cell_type": "markdown",
   "id": "9712feaf",
   "metadata": {},
   "source": [
    "# Split datasets"
   ]
  },
  {
   "cell_type": "code",
   "execution_count": 17,
   "id": "9cd24bc1",
   "metadata": {},
   "outputs": [
    {
     "name": "stderr",
     "output_type": "stream",
     "text": [
      "100%|█████████████████████████████████████████████████████████████████████████████| 6040/6040 [00:06<00:00, 991.28it/s]\n"
     ]
    }
   ],
   "source": [
    "# interactions with rating >= 4 are positive interactions\n",
    "POSITIVE_THRESHOLD = 4 \n",
    "\n",
    "# each per-user validation set should contain at least 5 positive interactions\n",
    "POSITIVE_PER_USER = 5\n",
    "\n",
    "train_dataframes = []\n",
    "val_dataframes = []\n",
    "\n",
    "for i in tqdm(range(M_USERS)):\n",
    "    user_all = df_ratings[df_ratings['UserID'] == i]\n",
    "    user_positive = user_all[user_all['Rating'] >= POSITIVE_THRESHOLD]\n",
    "\n",
    "    # check if there are enough positive interactions to build a validation set for this user\n",
    "    if len(user_positive) >= POSITIVE_PER_USER:\n",
    "        split_idx = user_positive.iloc[-POSITIVE_PER_USER].name\n",
    "        user_train = user_all.loc[:split_idx]\n",
    "        user_test = user_all.loc[split_idx:]\n",
    "        assert user_train['Timestamp'].max() <= user_test['Timestamp'].min()\n",
    "        train_dataframes.append(user_train)\n",
    "        val_dataframes.append(user_test)\n",
    "    else:\n",
    "        train_dataframes.append(user_all)\n",
    "\n",
    "# concat all per-user training sets\n",
    "df_train = pd.concat(train_dataframes).sort_values(by='Timestamp', ascending=True, ignore_index=True)\n",
    "\n",
    "# normalize the ratings (may be beneficial to some models)\n",
    "df_train_norm = df_train\n",
    "df_train_norm['Rating'] -= 3\n",
    "df_train_norm['Rating'] /= 2\n",
    "\n",
    "# concat all per-user validation sets\n",
    "df_val = pd.concat(val_dataframes).sort_values(by='Timestamp', ascending=True, ignore_index=True)\n",
    "\n",
    "# normalize the ratings (may be beneficial to some models)\n",
    "# here we make a copy of the un-normalized validation set for evaluation\n",
    "df_val_norm = df_val.copy(deep=True)\n",
    "df_val_norm['Rating'] -= 3\n",
    "df_val_norm['Rating'] /= 2"
   ]
  },
  {
   "cell_type": "code",
   "execution_count": 18,
   "id": "cf81c3ca",
   "metadata": {},
   "outputs": [
    {
     "name": "stdout",
     "output_type": "stream",
     "text": [
      "(893657, 4)\n",
      "(52089, 4)\n"
     ]
    }
   ],
   "source": [
    "print(df_train_norm.shape)\n",
    "print(df_val_norm.shape)"
   ]
  },
  {
   "cell_type": "markdown",
   "id": "901d2d46",
   "metadata": {},
   "source": [
    "# Evaluation metric"
   ]
  },
  {
   "cell_type": "code",
   "execution_count": 19,
   "id": "a9b9c8a5",
   "metadata": {},
   "outputs": [],
   "source": [
    "@tf.function\n",
    "def log2(x: tf.Tensor) -> tf.Tensor:\n",
    "    return tf.math.log(tf.cast(x, tf.float32)) / tf.math.log(2.)\n",
    "\n",
    "@tf.function\n",
    "def ndcg_at_10(y_true: tf.Tensor, y_pred: tf.Tensor) -> tf.Tensor:\n",
    "    y_pred = y_pred[:10]\n",
    "    idx = tf.equal(tf.cast(y_pred, tf.int32), tf.cast(y_true, tf.int32))\n",
    "    if tf.reduce_sum(tf.cast(idx, tf.int32)) > 0:\n",
    "        return 1. / log2(2 + tf.argmax(idx))\n",
    "    else:\n",
    "        return tf.constant(0.)\n",
    "\n",
    "@tf.function\n",
    "def recall_at_10(y_true: tf.Tensor, y_pred: tf.Tensor) -> tf.Tensor:\n",
    "    y_pred = y_pred[:10]\n",
    "    idx = tf.equal(tf.cast(y_pred, tf.int32), tf.cast(y_true, tf.int32))\n",
    "    if tf.reduce_sum(tf.cast(idx, tf.int32)) > 0:\n",
    "        return tf.constant(1.)\n",
    "    else:\n",
    "        return tf.constant(0.)\n",
    "\n",
    "# def evaluate(model: tf.keras.Model, dataset: tf.data.Dataset) -> tuple:\n",
    "#     '''\n",
    "#     For each data point in the dataset:\n",
    "#     data[0] is the UserID\n",
    "#     data[1] is the MovieID \n",
    "#     data[2] is the Rating\n",
    "#     data[3] is the Timestamp\n",
    "#     '''\n",
    "#     ndcg_scores = []\n",
    "#     recall_scores = []\n",
    "\n",
    "#     for data in tqdm(dataset, desc='Evaluating'):\n",
    "#         # query the model to make predictions if the observed event is a positive interaction (ratings >= 4)\n",
    "#         if data[2] >= 4:\n",
    "#             y_pred = model.eval_predict_onestep(tf.gather(data, (0, 3)))\n",
    "#             y_true = tf.gather(data, 1)\n",
    "#             ndcg = ndcg_at_10(y_true, y_pred)\n",
    "#             recall = recall_at_10(y_true, y_pred)\n",
    "#             ndcg_scores.append(ndcg)\n",
    "#             recall_scores.append(recall)\n",
    "\n",
    "#         # update the model with the observerd event\n",
    "#         model.eval_update_onestep(data)\n",
    "\n",
    "#     ndcg_result = tf.reduce_mean(ndcg_scores).numpy()\n",
    "#     recall_result = tf.reduce_mean(recall_scores).numpy()\n",
    "\n",
    "#     return ndcg_result, recall_result\n",
    "def evaluate(model: tf.keras.Model, dataset: tf.data.Dataset) -> tuple:\n",
    "    '''\n",
    "    For each data point in the dataset:\n",
    "    data[0] is the UserID\n",
    "    data[1] is the MovieID \n",
    "    data[2] is the Rating\n",
    "    data[3] is the Timestamp\n",
    "    '''\n",
    "    ndcg_scores = []\n",
    "    recall_scores = []\n",
    "    count = 0\n",
    "    for data in tqdm(dataset, desc='Evaluating'):\n",
    "        # query the model to make predictions if the observed event is a positive interaction (ratings >= 4)\n",
    "        if data[2] >= 4:\n",
    "            y_pred = model.eval_predict_onestep(tf.gather(data, (0, 3)))\n",
    "            y_true = tf.gather(data, 1)\n",
    "            ndcg = ndcg_at_10(y_true, y_pred)\n",
    "            recall = recall_at_10(y_true, y_pred)\n",
    "            ndcg_scores.append(ndcg)\n",
    "            recall_scores.append(recall)\n",
    "\n",
    "        # update the model with the observerd event\n",
    "        model.eval_update_onestep(data)\n",
    "        count+=1\n",
    "    ndcg_result = tf.reduce_mean(ndcg_scores).numpy()\n",
    "    recall_result = tf.reduce_mean(recall_scores).numpy()\n",
    "\n",
    "    return ndcg_result, recall_result"
   ]
  },
  {
   "cell_type": "markdown",
   "id": "97692c6c",
   "metadata": {},
   "source": [
    "# hyperparameters"
   ]
  },
  {
   "cell_type": "code",
   "execution_count": 20,
   "id": "3b8d1f3e",
   "metadata": {},
   "outputs": [],
   "source": [
    "# hyperparameters\n",
    "EMBEDDING_SIZE = 1024\n",
    "BATCH_SIZE = 512\n",
    "N_EPOCHS = 40\n",
    "LEARNING_RATE = 1e-4"
   ]
  },
  {
   "cell_type": "code",
   "execution_count": 21,
   "id": "ce638048",
   "metadata": {},
   "outputs": [],
   "source": [
    "# # prepare datasets\n",
    "# df_norm = pd.concat([df_train_norm, df_val_norm], ignore_index=True)\n",
    "# dataset_train = tf.data.Dataset.from_tensor_slices(df_norm)\n",
    "# dataset_train = dataset_train.batch(batch_size=BATCH_SIZE).prefetch(buffer_size=tf.data.AUTOTUNE)\n",
    "\n",
    "# dataset_val = tf.data.Dataset.from_tensor_slices(df_val_norm)\n",
    "# dataset_val = dataset_val.batch(batch_size=BATCH_SIZE).prefetch(buffer_size=tf.data.AUTOTUNE)"
   ]
  },
  {
   "cell_type": "code",
   "execution_count": 22,
   "id": "5f9e2900",
   "metadata": {},
   "outputs": [],
   "source": [
    "dataset_train = tf.data.Dataset.from_tensor_slices(df_train_norm)\n",
    "dataset_train = dataset_train.shuffle(len(dataset_train)).batch(batch_size=BATCH_SIZE).prefetch(buffer_size=tf.data.AUTOTUNE)\n",
    "\n",
    "dataset_val = tf.data.Dataset.from_tensor_slices(df_val_norm)\n",
    "dataset_val = dataset_val.batch(batch_size=BATCH_SIZE).prefetch(buffer_size=tf.data.AUTOTUNE)"
   ]
  },
  {
   "cell_type": "markdown",
   "id": "5fc527c2",
   "metadata": {},
   "source": [
    "# Model\n",
    "\n",
    "我們在這邊採用的是deepFM的架構，主要是由三個model所共同組成。\n",
    "1. 1st order factorization machines:\n",
    "代表了low order feature。\n",
    "將輸入的feature透過Embedding layer和dense layer轉成(None, 1)的shape之後，再把他們加起來。\n",
    "\n",
    "2. 2nd order factorization machines\n",
    "代表了higf order feature。\n",
    "將輸入的feature透過Embedding layer和dense layer轉成(None, 1, k)的shape之後，再將它們全不concat在一起，並經過一個dot layer。\n",
    "\n",
    "3. deep part\n",
    "將2nd order factorization machine產生的embed將過dense layer。"
   ]
  },
  {
   "cell_type": "code",
   "execution_count": 24,
   "id": "ebbc2c46",
   "metadata": {},
   "outputs": [],
   "source": [
    "class RecommenderTemplate(keras.Model):\n",
    "    '''\n",
    "    Template model class for competition 4\n",
    "    '''\n",
    "    def __init__(self, data, n_uid, n_mid, n_genre, k, dnn_dr, dnn_dim, lr=1e-3):\n",
    "        super(RecommenderTemplate, self).__init__()\n",
    "        \n",
    "        self.User_df = df_users\n",
    "        self.Movie_df = df_movies\n",
    "        self.Rating_df = df_ratings\n",
    "        \n",
    "        self.movie_id_to_index = movie_id_to_index\n",
    "        self.time_min = time_min\n",
    "        self.time_max = time_max\n",
    "#         self.GENRES = GENRES\n",
    "        self.N_ITEMS = N_ITEMS\n",
    "        self.n_uid = n_uid\n",
    "        self.n_mid = n_mid\n",
    "        self.n_genre = n_genre\n",
    "        self.k = k\n",
    "        self.dnn_dr = dnn_dr\n",
    "        self.dnn_dim = dnn_dim\n",
    "        self.lr = lr\n",
    "        sefl.emb4 = 2000\n",
    "        self.fm1_dense1 = tf.keras.layers.Dense(1)\n",
    "        self.fm1_dense_time = tf.keras.layers.Dense(1)\n",
    "        self.fm1_Embedding1 = tf.keras.layers.Embedding(n_uid+1,1)\n",
    "        self.fm1_Embedding2 = tf.keras.layers.Embedding(n_mid+1,1)\n",
    "        self.fm1_Embedding3 = tf.keras.layers.Embedding(n_genre+1,1,mask_zero=True)\n",
    "        self.fm1_Embedding4 = tf.keras.layers.Embedding(sefl.emb4+1,1)\n",
    "        \n",
    "        self.fm2_dense1 = tf.keras.layers.Dense(k)\n",
    "        self.fm2_dense_time = tf.keras.layers.Dense(k)\n",
    "        self.fm2_Embedding1 = tf.keras.layers.Embedding(n_uid+1,k)\n",
    "        self.fm2_Embedding2 = tf.keras.layers.Embedding(n_mid+1,k)\n",
    "        self.fm2_Embedding3 = tf.keras.layers.Embedding(n_genre+1,k)\n",
    "        self.fm2_Embedding4 = tf.keras.layers.Embedding(sefl.emb4+1,k)\n",
    "        self.dnn_dense=[]\n",
    "        self.dnn_dense2 = tf.keras.layers.Dense(1,activation='relu')\n",
    "        self.output_dense = tf.keras.layers.Dense(1)\n",
    "        self.optimizer = tf.optimizers.Adam(learning_rate=self.lr)\n",
    "        for h in dnn_dim:\n",
    "            self.dnn_dense.append(tf.keras.layers.Dense(h, activation='relu'))\n",
    "    @tf.function\n",
    "    def compute_loss(self, y_true, y_pred):\n",
    "        '''\n",
    "        Compute the MSE loss of the model\n",
    "        '''\n",
    "        y_pred = tf.squeeze(y_pred)\n",
    "        loss = tf.losses.mean_squared_error(y_true, y_pred)\n",
    "        return loss\n",
    "    def deep_part(self,embed_2d, dnn_dim, dnn_dr):\n",
    "        y_dnn = Flatten()(embed_2d)\n",
    "        for i in range(len(self.dnn_dense)):\n",
    "            y_dnn = Dropout(self.dnn_dr)(y_dnn)\n",
    "            y_dnn = self.dnn_dense[i](y_dnn)\n",
    "        y_dnn = self.dnn_dense2(y_dnn)\n",
    "\n",
    "        return y_dnn\n",
    "    def fm_2d(self, timestamp, occupation, user_ids, genre, item_ids, n_uid, n_mid, n_genre):\n",
    "    \n",
    "        num_dense_2d = [self.fm2_dense1(occupation)]\n",
    "        num_dense_2d = [Reshape((1,self.k))(i) for i in num_dense_2d] # shape (None, 1, k)\n",
    "\n",
    "        cat_sl_embed_2d = [self.fm2_Embedding1(user_ids), self.fm2_Embedding2(item_ids), self.fm2_Embedding4(timestamp)] # shape (None, 1, k)\n",
    "\n",
    "        cat_ml_embed_2d = [self.fm2_Embedding3(genre)] # shape (None, 3, k)\n",
    "        cat_ml_embed_2d = [tf.expand_dims(self.Tensor_Mean_Pooling()(i), axis=1) for i in cat_ml_embed_2d] # shape (None, 1, k)\n",
    "\n",
    "        embed_2d = Concatenate(axis=1)(num_dense_2d + cat_sl_embed_2d + cat_ml_embed_2d)\n",
    "\n",
    "        tensor_sum = Lambda(lambda x: K.sum(x, axis = 1))\n",
    "        tensor_square = Lambda(lambda x: K.square(x))\n",
    "\n",
    "        sum_of_embed = tensor_sum(embed_2d)\n",
    "        square_of_embed = tensor_square(embed_2d)\n",
    "        square_of_sum = Multiply()([sum_of_embed, sum_of_embed])\n",
    "        sum_of_square = tensor_sum(square_of_embed)\n",
    "\n",
    "        sub = Subtract()([square_of_sum, sum_of_square])\n",
    "        sub = Lambda(lambda x: x*0.5)(sub)\n",
    "        y_fm_2d = Reshape((1,))(tensor_sum(sub))\n",
    "        return y_fm_2d, embed_2d\n",
    "    def Tensor_Mean_Pooling(self, keepdims = False):\n",
    "        return Lambda(lambda x: K.mean(x, axis = 1, keepdims=keepdims))\n",
    "    \n",
    "    def fm_1d(self, timestamp, occupation, user_ids, genre, item_ids, n_uid, n_mid, n_genre):\n",
    "\n",
    "        num_dense_1d = [self.fm1_dense1(occupation)]\n",
    "#         num_dense_1d_time = [self.fm1_dense_time(timestamp)]\n",
    "        cat_sl_embed_1d = [self.fm1_Embedding1(user_ids), self.fm1_Embedding2(item_ids), self.fm1_Embedding4(timestamp)]\n",
    "        cat_ml_embed_1d = [self.fm1_Embedding3(genre)]\n",
    "\n",
    "        cat_sl_embed_1d = [Reshape((1,))(i) for i in cat_sl_embed_1d]\n",
    "        cat_ml_embed_1d = [self.Tensor_Mean_Pooling()(i) for i in cat_ml_embed_1d]\n",
    "\n",
    "\n",
    "        y_fm_1d = Add()(num_dense_1d + cat_sl_embed_1d + cat_ml_embed_1d )\n",
    "        return y_fm_1d\n",
    "    \n",
    "\n",
    "    @tf.function\n",
    "    def call(self, data, training=False):\n",
    "        '''\n",
    "        Please remember to implement this method and use it by calling self() or your_model_name() at least once during training\n",
    "        This method is crucial for model.save() to successfully save your model\n",
    "        '''\n",
    "        user_ids = tf.cast(data[:, 0], dtype=tf.int32)\n",
    "        item_ids = tf.cast(data[:, 1], dtype=tf.int32)\n",
    "        time_ids = tf.cast(data[:, 3], dtype=tf.int32)\n",
    "        time_ids = (time_ids-self.time_min)/(self.time_max-self.time_min)\n",
    "#         tf.print(time_ids)\n",
    "        occupation = tf.gather(self.User_df[\"Occupation\"], indices = user_ids)\n",
    "        genre_index = tf.gather(self.movie_id_to_index, indices = item_ids)\n",
    "        genre = tf.gather(self.Movie_df['Genres'], indices = genre_index)\n",
    "#         genre = tf.gather(self.GENRES, indices = genre_index)\n",
    "        \n",
    "        occupation = tf.expand_dims(occupation, axis=1)\n",
    "        user_ids = tf.expand_dims(user_ids, axis=1)\n",
    "        genre = tf.expand_dims(genre, axis=1)\n",
    "        timestamp = tf.expand_dims(time_ids, axis=1)\n",
    "        item_ids = tf.expand_dims(item_ids, axis=1)\n",
    "        \n",
    "        y_fm_1d = self.fm_1d(timestamp, occupation, user_ids, genre, item_ids , self.n_uid, self.n_mid, self.n_genre)\n",
    "        y_fm_2d, embed_2d = self.fm_2d(timestamp, occupation, user_ids, genre, item_ids , self.n_uid, self.n_mid, self.n_genre)\n",
    "        y_dnn = self.deep_part(embed_2d, self.dnn_dim, self.dnn_dr)\n",
    "\n",
    "        y = Concatenate()([y_fm_1d, y_fm_2d, y_dnn])\n",
    "\n",
    "        y = self.output_dense(y)\n",
    "        return y\n",
    "\n",
    "    @tf.function\n",
    "    def train_step(self, data):\n",
    "        y_true = tf.cast(data[:, 2], dtype=tf.float32)\n",
    "        with tf.GradientTape() as tape:\n",
    "            y_pred = self(data)\n",
    "            loss = self.compute_loss(y_true, y_pred)\n",
    "        gradients = tape.gradient(loss, self.trainable_variables)\n",
    "\n",
    "        self.optimizer.apply_gradients(zip(gradients, self.trainable_variables))\n",
    "        return loss\n",
    "    \n",
    "    @tf.function\n",
    "    def val_step(self, data: tf.Tensor) -> tf.Tensor:\n",
    "        '''\n",
    "        Validate the model with one batch\n",
    "        data: batched user-item interactions\n",
    "        each record in data is in the format [UserID, MovieID, Rating, Timestamp]\n",
    "        '''\n",
    "        y_true = tf.cast(data[:, 2], dtype=tf.float32)\n",
    "        y_pred = self(data)\n",
    "        loss = self.compute_loss(y_true, y_pred)\n",
    "\n",
    "        return loss\n",
    "    \n",
    "    \n",
    "    @tf.function\n",
    "    def eval_predict_onestep(self, query):\n",
    "        '''\n",
    "        Retrieve and return the MovieIDs of the 10 recommended movies given a query\n",
    "        You should return a tf.Tensor with shape=(10,)\n",
    "        query will be a tf.Tensor with shape=(2,) and dtype=tf.int64\n",
    "        query[0] is the UserID of the query\n",
    "        query[1] is the Timestamp of the query\n",
    "        Please make sure you have called this method at least once before calling model.save()\n",
    "        '''\n",
    "        pred = []\n",
    "        user_id = tf.cast(query[0], tf.int32)\n",
    "        timestamp = tf.cast(query[1], tf.int32)\n",
    "\n",
    "        user_id = tf.repeat(user_id, len(self.Movie_df))\n",
    "        timestamp = tf.repeat(timestamp, len(self.Movie_df))\n",
    "\n",
    "        user_id = tf.reshape(user_id,(user_id.shape[0],1))\n",
    "        timestamp = tf.reshape(timestamp,(timestamp.shape[0],1))\n",
    "\n",
    "        item_id = tf.cast(self.Movie_df[\"MovieID\"], dtype=tf.int32)\n",
    "        item_id = tf.expand_dims(item_id, axis=1)\n",
    "\n",
    "        y_pred = self(tf.concat([user_id, item_id, timestamp, timestamp],1))\n",
    "        y_pred = tf.reshape(y_pred,(y_pred.shape[0],))\n",
    "\n",
    "\n",
    "        y_top_10_index = tf.math.top_k(y_pred, k=10).indices\n",
    "\n",
    "        reccomand_movie = tf.gather(self.Movie_df[\"MovieID\"], indices = y_top_10_index)\n",
    "\n",
    "        reccomand_movie = tf.reshape(reccomand_movie,(10,))\n",
    "\n",
    "        return reccomand_movie\n",
    "\n",
    "    @tf.function\n",
    "    def eval_update_onestep(self, data: tf.Tensor) -> None:\n",
    "        '''\n",
    "        Update your model with the ground truth data of the last query\n",
    "        If your model does not require test-time updating, you should still define this method and leave it empty\n",
    "        data will be a tf.Tensor with shape=(4,) and dtype=tf.int64\n",
    "        data[0] is the UserID\n",
    "        data[1] is the MovieID \n",
    "        data[2] is the Rating\n",
    "        data[3] is the Timestamp\n",
    "        Please make sure you have called this method at least once before calling model.save()\n",
    "        '''\n",
    "        data = tf.reshape(data, (1, data.shape[0]))\n",
    "        for i in range(30):\n",
    "            self.train_step(data)\n",
    " "
   ]
  },
  {
   "cell_type": "markdown",
   "id": "05190097",
   "metadata": {},
   "source": [
    "# Train the model"
   ]
  },
  {
   "cell_type": "code",
   "execution_count": 26,
   "id": "3dc9764b",
   "metadata": {
    "scrolled": true
   },
   "outputs": [
    {
     "name": "stdout",
     "output_type": "stream",
     "text": [
      "Epoch 1:\n"
     ]
    },
    {
     "name": "stderr",
     "output_type": "stream",
     "text": [
      "Training: 100%|███████████████████████████████████████████████████████████████████| 1746/1746 [00:07<00:00, 232.82it/s]\n",
      "Validating: 100%|███████████████████████████████████████████████████████████████████| 102/102 [00:00<00:00, 283.82it/s]\n"
     ]
    },
    {
     "name": "stdout",
     "output_type": "stream",
     "text": [
      "Epoch 1 train_loss: 4.1061, val_loss: 0.2793\n",
      "\n",
      "Epoch 2:\n"
     ]
    },
    {
     "name": "stderr",
     "output_type": "stream",
     "text": [
      "Training: 100%|███████████████████████████████████████████████████████████████████| 1746/1746 [00:06<00:00, 251.30it/s]\n",
      "Validating: 100%|███████████████████████████████████████████████████████████████████| 102/102 [00:00<00:00, 593.52it/s]\n"
     ]
    },
    {
     "name": "stdout",
     "output_type": "stream",
     "text": [
      "Epoch 2 train_loss: 0.2364, val_loss: 0.2742\n",
      "\n",
      "Epoch 3:\n"
     ]
    },
    {
     "name": "stderr",
     "output_type": "stream",
     "text": [
      "Training: 100%|███████████████████████████████████████████████████████████████████| 1746/1746 [00:06<00:00, 259.29it/s]\n",
      "Validating: 100%|███████████████████████████████████████████████████████████████████| 102/102 [00:00<00:00, 593.52it/s]\n"
     ]
    },
    {
     "name": "stdout",
     "output_type": "stream",
     "text": [
      "Epoch 3 train_loss: 0.2326, val_loss: 0.2628\n",
      "\n",
      "Epoch 4:\n"
     ]
    },
    {
     "name": "stderr",
     "output_type": "stream",
     "text": [
      "Training: 100%|███████████████████████████████████████████████████████████████████| 1746/1746 [00:06<00:00, 260.97it/s]\n",
      "Validating: 100%|███████████████████████████████████████████████████████████████████| 102/102 [00:00<00:00, 593.52it/s]\n"
     ]
    },
    {
     "name": "stdout",
     "output_type": "stream",
     "text": [
      "Epoch 4 train_loss: 0.2259, val_loss: 0.2585\n",
      "\n",
      "Epoch 5:\n"
     ]
    },
    {
     "name": "stderr",
     "output_type": "stream",
     "text": [
      "Training: 100%|███████████████████████████████████████████████████████████████████| 1746/1746 [00:06<00:00, 259.34it/s]\n",
      "Validating: 100%|███████████████████████████████████████████████████████████████████| 102/102 [00:00<00:00, 544.06it/s]\n"
     ]
    },
    {
     "name": "stdout",
     "output_type": "stream",
     "text": [
      "Epoch 5 train_loss: 0.2199, val_loss: 0.2538\n",
      "\n",
      "Epoch 6:\n"
     ]
    },
    {
     "name": "stderr",
     "output_type": "stream",
     "text": [
      "Training: 100%|███████████████████████████████████████████████████████████████████| 1746/1746 [00:06<00:00, 256.91it/s]\n",
      "Validating: 100%|███████████████████████████████████████████████████████████████████| 102/102 [00:00<00:00, 544.06it/s]\n"
     ]
    },
    {
     "name": "stdout",
     "output_type": "stream",
     "text": [
      "Epoch 6 train_loss: 0.2153, val_loss: 0.2448\n",
      "\n",
      "Epoch 7:\n"
     ]
    },
    {
     "name": "stderr",
     "output_type": "stream",
     "text": [
      "Training: 100%|███████████████████████████████████████████████████████████████████| 1746/1746 [00:06<00:00, 257.23it/s]\n",
      "Validating: 100%|███████████████████████████████████████████████████████████████████| 102/102 [00:00<00:00, 544.06it/s]\n"
     ]
    },
    {
     "name": "stdout",
     "output_type": "stream",
     "text": [
      "Epoch 7 train_loss: 0.2119, val_loss: 0.2433\n",
      "\n",
      "Epoch 8:\n"
     ]
    },
    {
     "name": "stderr",
     "output_type": "stream",
     "text": [
      "Training: 100%|███████████████████████████████████████████████████████████████████| 1746/1746 [00:06<00:00, 259.50it/s]\n",
      "Validating: 100%|███████████████████████████████████████████████████████████████████| 102/102 [00:00<00:00, 544.06it/s]\n"
     ]
    },
    {
     "name": "stdout",
     "output_type": "stream",
     "text": [
      "Epoch 8 train_loss: 0.2095, val_loss: 0.2395\n",
      "\n",
      "Epoch 9:\n"
     ]
    },
    {
     "name": "stderr",
     "output_type": "stream",
     "text": [
      "Training: 100%|███████████████████████████████████████████████████████████████████| 1746/1746 [00:06<00:00, 258.10it/s]\n",
      "Validating: 100%|███████████████████████████████████████████████████████████████████| 102/102 [00:00<00:00, 544.06it/s]\n"
     ]
    },
    {
     "name": "stdout",
     "output_type": "stream",
     "text": [
      "Epoch 9 train_loss: 0.2074, val_loss: 0.2358\n",
      "\n",
      "Epoch 10:\n"
     ]
    },
    {
     "name": "stderr",
     "output_type": "stream",
     "text": [
      "Training: 100%|███████████████████████████████████████████████████████████████████| 1746/1746 [00:06<00:00, 255.28it/s]\n",
      "Validating: 100%|███████████████████████████████████████████████████████████████████| 102/102 [00:00<00:00, 593.52it/s]\n"
     ]
    },
    {
     "name": "stdout",
     "output_type": "stream",
     "text": [
      "Epoch 10 train_loss: 0.2060, val_loss: 0.2352\n",
      "\n",
      "Epoch 11:\n"
     ]
    },
    {
     "name": "stderr",
     "output_type": "stream",
     "text": [
      "Training: 100%|███████████████████████████████████████████████████████████████████| 1746/1746 [00:06<00:00, 257.84it/s]\n",
      "Validating: 100%|███████████████████████████████████████████████████████████████████| 102/102 [00:00<00:00, 593.52it/s]\n"
     ]
    },
    {
     "name": "stdout",
     "output_type": "stream",
     "text": [
      "Epoch 11 train_loss: 0.2047, val_loss: 0.2349\n",
      "\n",
      "Epoch 12:\n"
     ]
    },
    {
     "name": "stderr",
     "output_type": "stream",
     "text": [
      "Training: 100%|███████████████████████████████████████████████████████████████████| 1746/1746 [00:06<00:00, 254.57it/s]\n",
      "Validating: 100%|███████████████████████████████████████████████████████████████████| 102/102 [00:00<00:00, 593.52it/s]\n"
     ]
    },
    {
     "name": "stdout",
     "output_type": "stream",
     "text": [
      "Epoch 12 train_loss: 0.2034, val_loss: 0.2324\n",
      "\n",
      "Epoch 13:\n"
     ]
    },
    {
     "name": "stderr",
     "output_type": "stream",
     "text": [
      "Training: 100%|███████████████████████████████████████████████████████████████████| 1746/1746 [00:06<00:00, 256.81it/s]\n",
      "Validating: 100%|███████████████████████████████████████████████████████████████████| 102/102 [00:00<00:00, 593.52it/s]\n"
     ]
    },
    {
     "name": "stdout",
     "output_type": "stream",
     "text": [
      "Epoch 13 train_loss: 0.2024, val_loss: 0.2323\n",
      "\n",
      "Epoch 14:\n"
     ]
    },
    {
     "name": "stderr",
     "output_type": "stream",
     "text": [
      "Training: 100%|███████████████████████████████████████████████████████████████████| 1746/1746 [00:06<00:00, 253.99it/s]\n",
      "Validating: 100%|███████████████████████████████████████████████████████████████████| 102/102 [00:00<00:00, 544.06it/s]\n"
     ]
    },
    {
     "name": "stdout",
     "output_type": "stream",
     "text": [
      "Epoch 14 train_loss: 0.2013, val_loss: 0.2316\n",
      "\n",
      "Epoch 15:\n"
     ]
    },
    {
     "name": "stderr",
     "output_type": "stream",
     "text": [
      "Training: 100%|███████████████████████████████████████████████████████████████████| 1746/1746 [00:06<00:00, 254.43it/s]\n",
      "Validating: 100%|███████████████████████████████████████████████████████████████████| 102/102 [00:00<00:00, 544.06it/s]\n"
     ]
    },
    {
     "name": "stdout",
     "output_type": "stream",
     "text": [
      "Epoch 15 train_loss: 0.2001, val_loss: 0.2304\n",
      "\n",
      "Epoch 16:\n"
     ]
    },
    {
     "name": "stderr",
     "output_type": "stream",
     "text": [
      "Training: 100%|███████████████████████████████████████████████████████████████████| 1746/1746 [00:06<00:00, 255.15it/s]\n",
      "Validating: 100%|███████████████████████████████████████████████████████████████████| 102/102 [00:00<00:00, 544.06it/s]\n"
     ]
    },
    {
     "name": "stdout",
     "output_type": "stream",
     "text": [
      "Epoch 16 train_loss: 0.1984, val_loss: 0.2295\n",
      "\n",
      "Epoch 17:\n"
     ]
    },
    {
     "name": "stderr",
     "output_type": "stream",
     "text": [
      "Training: 100%|███████████████████████████████████████████████████████████████████| 1746/1746 [00:06<00:00, 256.98it/s]\n",
      "Validating: 100%|███████████████████████████████████████████████████████████████████| 102/102 [00:00<00:00, 593.52it/s]\n"
     ]
    },
    {
     "name": "stdout",
     "output_type": "stream",
     "text": [
      "Epoch 17 train_loss: 0.1965, val_loss: 0.2283\n",
      "\n",
      "Epoch 18:\n"
     ]
    },
    {
     "name": "stderr",
     "output_type": "stream",
     "text": [
      "Training: 100%|███████████████████████████████████████████████████████████████████| 1746/1746 [00:06<00:00, 254.60it/s]\n",
      "Validating: 100%|███████████████████████████████████████████████████████████████████| 102/102 [00:00<00:00, 593.52it/s]\n"
     ]
    },
    {
     "name": "stdout",
     "output_type": "stream",
     "text": [
      "Epoch 18 train_loss: 0.1941, val_loss: 0.2287\n",
      "\n",
      "Epoch 19:\n"
     ]
    },
    {
     "name": "stderr",
     "output_type": "stream",
     "text": [
      "Training: 100%|███████████████████████████████████████████████████████████████████| 1746/1746 [00:06<00:00, 253.99it/s]\n",
      "Validating: 100%|███████████████████████████████████████████████████████████████████| 102/102 [00:00<00:00, 593.52it/s]\n"
     ]
    },
    {
     "name": "stdout",
     "output_type": "stream",
     "text": [
      "Epoch 19 train_loss: 0.1914, val_loss: 0.2253\n",
      "\n",
      "Epoch 20:\n"
     ]
    },
    {
     "name": "stderr",
     "output_type": "stream",
     "text": [
      "Training: 100%|███████████████████████████████████████████████████████████████████| 1746/1746 [00:06<00:00, 254.17it/s]\n",
      "Validating: 100%|███████████████████████████████████████████████████████████████████| 102/102 [00:00<00:00, 593.52it/s]\n"
     ]
    },
    {
     "name": "stdout",
     "output_type": "stream",
     "text": [
      "Epoch 20 train_loss: 0.1881, val_loss: 0.2242\n",
      "\n",
      "Epoch 21:\n"
     ]
    },
    {
     "name": "stderr",
     "output_type": "stream",
     "text": [
      "Training: 100%|███████████████████████████████████████████████████████████████████| 1746/1746 [00:06<00:00, 256.10it/s]\n",
      "Validating: 100%|███████████████████████████████████████████████████████████████████| 102/102 [00:00<00:00, 544.06it/s]\n"
     ]
    },
    {
     "name": "stdout",
     "output_type": "stream",
     "text": [
      "Epoch 21 train_loss: 0.1839, val_loss: 0.2227\n",
      "\n",
      "Epoch 22:\n"
     ]
    },
    {
     "name": "stderr",
     "output_type": "stream",
     "text": [
      "Training: 100%|███████████████████████████████████████████████████████████████████| 1746/1746 [00:06<00:00, 256.91it/s]\n",
      "Validating: 100%|███████████████████████████████████████████████████████████████████| 102/102 [00:00<00:00, 544.06it/s]\n"
     ]
    },
    {
     "name": "stdout",
     "output_type": "stream",
     "text": [
      "Epoch 22 train_loss: 0.1788, val_loss: 0.2208\n",
      "\n",
      "Epoch 23:\n"
     ]
    },
    {
     "name": "stderr",
     "output_type": "stream",
     "text": [
      "Training: 100%|███████████████████████████████████████████████████████████████████| 1746/1746 [00:06<00:00, 253.84it/s]\n",
      "Validating: 100%|███████████████████████████████████████████████████████████████████| 102/102 [00:00<00:00, 544.06it/s]\n"
     ]
    },
    {
     "name": "stdout",
     "output_type": "stream",
     "text": [
      "Epoch 23 train_loss: 0.1732, val_loss: 0.2182\n",
      "\n",
      "Epoch 24:\n"
     ]
    },
    {
     "name": "stderr",
     "output_type": "stream",
     "text": [
      "Training: 100%|███████████████████████████████████████████████████████████████████| 1746/1746 [00:06<00:00, 253.64it/s]\n",
      "Validating: 100%|███████████████████████████████████████████████████████████████████| 102/102 [00:00<00:00, 544.06it/s]\n"
     ]
    },
    {
     "name": "stdout",
     "output_type": "stream",
     "text": [
      "Epoch 24 train_loss: 0.1677, val_loss: 0.2179\n",
      "\n",
      "Epoch 25:\n"
     ]
    },
    {
     "name": "stderr",
     "output_type": "stream",
     "text": [
      "Training: 100%|███████████████████████████████████████████████████████████████████| 1746/1746 [00:06<00:00, 252.82it/s]\n",
      "Validating: 100%|███████████████████████████████████████████████████████████████████| 102/102 [00:00<00:00, 544.06it/s]\n"
     ]
    },
    {
     "name": "stdout",
     "output_type": "stream",
     "text": [
      "Epoch 25 train_loss: 0.1627, val_loss: 0.2172\n",
      "\n",
      "Epoch 26:\n"
     ]
    },
    {
     "name": "stderr",
     "output_type": "stream",
     "text": [
      "Training: 100%|███████████████████████████████████████████████████████████████████| 1746/1746 [00:06<00:00, 255.73it/s]\n",
      "Validating: 100%|███████████████████████████████████████████████████████████████████| 102/102 [00:00<00:00, 544.06it/s]\n"
     ]
    },
    {
     "name": "stdout",
     "output_type": "stream",
     "text": [
      "Epoch 26 train_loss: 0.1582, val_loss: 0.2158\n",
      "\n",
      "Epoch 27:\n"
     ]
    },
    {
     "name": "stderr",
     "output_type": "stream",
     "text": [
      "Training: 100%|███████████████████████████████████████████████████████████████████| 1746/1746 [00:06<00:00, 253.96it/s]\n",
      "Validating: 100%|███████████████████████████████████████████████████████████████████| 102/102 [00:00<00:00, 593.52it/s]\n"
     ]
    },
    {
     "name": "stdout",
     "output_type": "stream",
     "text": [
      "Epoch 27 train_loss: 0.1542, val_loss: 0.2165\n",
      "\n",
      "Epoch 28:\n"
     ]
    },
    {
     "name": "stderr",
     "output_type": "stream",
     "text": [
      "Training: 100%|███████████████████████████████████████████████████████████████████| 1746/1746 [00:06<00:00, 252.66it/s]\n",
      "Validating: 100%|███████████████████████████████████████████████████████████████████| 102/102 [00:00<00:00, 544.06it/s]\n"
     ]
    },
    {
     "name": "stdout",
     "output_type": "stream",
     "text": [
      "Epoch 28 train_loss: 0.1508, val_loss: 0.2178\n",
      "\n",
      "Epoch 29:\n"
     ]
    },
    {
     "name": "stderr",
     "output_type": "stream",
     "text": [
      "Training: 100%|███████████████████████████████████████████████████████████████████| 1746/1746 [00:06<00:00, 254.70it/s]\n",
      "Validating: 100%|███████████████████████████████████████████████████████████████████| 102/102 [00:00<00:00, 570.53it/s]\n"
     ]
    },
    {
     "name": "stdout",
     "output_type": "stream",
     "text": [
      "Epoch 29 train_loss: 0.1479, val_loss: 0.2180\n",
      "\n"
     ]
    },
    {
     "data": {
      "image/png": "[encoded data removed]",
      "text/plain": [
       "<Figure size 640x480 with 1 Axes>"
      ]
     },
     "metadata": {},
     "output_type": "display_data"
    }
   ],
   "source": [
    "# train the model\n",
    "train_losses = []\n",
    "val_losses = []\n",
    "for epoch in range(1, 30):\n",
    "    train_loss = []\n",
    "    val_loss = []\n",
    "    print(f'Epoch {epoch}:')\n",
    "\n",
    "    # training\n",
    "    for data in tqdm(dataset_train, desc='Training'):\n",
    "        loss = model.train_step(data)\n",
    "        train_loss.append(loss.numpy())\n",
    "#         print(loss.numpy().shape)\n",
    "    # validating\n",
    "    for data in tqdm(dataset_val, desc='Validating'):\n",
    "        loss = model.val_step(data)\n",
    "        val_loss.append(loss.numpy())\n",
    "    \n",
    "\n",
    "    avg_train_loss = np.mean(train_loss)\n",
    "    avg_val_loss = np.mean(val_loss)\n",
    "    train_losses.append(avg_train_loss)\n",
    "    val_losses.append(avg_val_loss)\n",
    "\n",
    "\n",
    "    print(f'Epoch {epoch} train_loss: {avg_train_loss:.4f}, val_loss: {avg_val_loss:.4f}\\n')\n",
    "    \n",
    "    if epoch%30==0:\n",
    "        original_lr = model.optimizer.lr.read_value()\n",
    "        print(original_lr)\n",
    "        model.optimizer.lr.assign(original_lr/2)\n",
    "\n",
    "plt.plot(train_losses, label='train_loss')\n",
    "plt.plot(val_losses, label='val_loss')\n",
    "plt.legend(loc='upper right')\n",
    "plt.title('Loss curve')\n",
    "plt.show()"
   ]
  },
  {
   "cell_type": "code",
   "execution_count": 27,
   "id": "95549dc2",
   "metadata": {
    "scrolled": true
   },
   "outputs": [
    {
     "name": "stdout",
     "output_type": "stream",
     "text": [
      "Epoch 1:\n"
     ]
    },
    {
     "name": "stderr",
     "output_type": "stream",
     "text": [
      "Training: 100%|█████████████████████████████████████████████████████████████████████| 102/102 [00:00<00:00, 147.66it/s]\n",
      "Validating: 100%|███████████████████████████████████████████████████████████████████| 102/102 [00:00<00:00, 502.34it/s]\n"
     ]
    },
    {
     "name": "stdout",
     "output_type": "stream",
     "text": [
      "Epoch 1 train_loss: 0.2203, val_loss: 0.1903\n",
      "\n",
      "Epoch 2:\n"
     ]
    },
    {
     "name": "stderr",
     "output_type": "stream",
     "text": [
      "Training: 100%|█████████████████████████████████████████████████████████████████████| 102/102 [00:00<00:00, 261.15it/s]\n",
      "Validating: 100%|███████████████████████████████████████████████████████████████████| 102/102 [00:00<00:00, 544.06it/s]\n"
     ]
    },
    {
     "name": "stdout",
     "output_type": "stream",
     "text": [
      "Epoch 2 train_loss: 0.1903, val_loss: 0.1760\n",
      "\n",
      "Epoch 3:\n"
     ]
    },
    {
     "name": "stderr",
     "output_type": "stream",
     "text": [
      "Training: 100%|█████████████████████████████████████████████████████████████████████| 102/102 [00:00<00:00, 251.10it/s]\n",
      "Validating: 100%|███████████████████████████████████████████████████████████████████| 102/102 [00:00<00:00, 544.06it/s]\n"
     ]
    },
    {
     "name": "stdout",
     "output_type": "stream",
     "text": [
      "Epoch 3 train_loss: 0.1741, val_loss: 0.1647\n",
      "\n",
      "Epoch 4:\n"
     ]
    },
    {
     "name": "stderr",
     "output_type": "stream",
     "text": [
      "Training: 100%|█████████████████████████████████████████████████████████████████████| 102/102 [00:00<00:00, 251.10it/s]\n",
      "Validating: 100%|███████████████████████████████████████████████████████████████████| 102/102 [00:00<00:00, 544.06it/s]"
     ]
    },
    {
     "name": "stdout",
     "output_type": "stream",
     "text": [
      "Epoch 4 train_loss: 0.1618, val_loss: 0.1508\n",
      "\n"
     ]
    },
    {
     "name": "stderr",
     "output_type": "stream",
     "text": [
      "\n"
     ]
    },
    {
     "data": {
      "image/png": "[encoded data removed]",
      "text/plain": [
       "<Figure size 640x480 with 1 Axes>"
      ]
     },
     "metadata": {},
     "output_type": "display_data"
    }
   ],
   "source": [
    "# train the model\n",
    "train_losses = []\n",
    "val_losses = []\n",
    "for epoch in range(1, 5):\n",
    "    train_loss = []\n",
    "    val_loss = []\n",
    "    print(f'Epoch {epoch}:')\n",
    "\n",
    "    # training\n",
    "    for data in tqdm(dataset_val, desc='Training'):\n",
    "        loss = model.train_step(data)\n",
    "        train_loss.append(loss.numpy())\n",
    "#         print(loss.numpy().shape)\n",
    "    # validating\n",
    "    for data in tqdm(dataset_val, desc='Validating'):\n",
    "        loss = model.val_step(data)\n",
    "        val_loss.append(loss.numpy())\n",
    "    \n",
    "\n",
    "    avg_train_loss = np.mean(train_loss)\n",
    "    avg_val_loss = np.mean(val_loss)\n",
    "    train_losses.append(avg_train_loss)\n",
    "    val_losses.append(avg_val_loss)\n",
    "\n",
    "\n",
    "    print(f'Epoch {epoch} train_loss: {avg_train_loss:.4f}, val_loss: {avg_val_loss:.4f}\\n')\n",
    "    \n",
    "    if epoch%30==0:\n",
    "        original_lr = model.optimizer.lr.read_value()\n",
    "        print(original_lr)\n",
    "        model.optimizer.lr.assign(original_lr/2)\n",
    "\n",
    "plt.plot(train_losses, label='train_loss')\n",
    "plt.plot(val_losses, label='val_loss')\n",
    "plt.legend(loc='upper right')\n",
    "plt.title('Loss curve')\n",
    "plt.show()"
   ]
  },
  {
   "cell_type": "code",
   "execution_count": 28,
   "id": "6ae13839",
   "metadata": {},
   "outputs": [],
   "source": []
  },
  {
   "cell_type": "code",
   "execution_count": 29,
   "id": "27d61754",
   "metadata": {
    "scrolled": true
   },
   "outputs": [
    {
     "name": "stderr",
     "output_type": "stream",
     "text": [
      "Evaluating:  82%|██████████████████████████████████████████████████▌           | 42486/52089 [1:16:10<17:13,  9.30it/s]\n"
     ]
    },
    {
     "ename": "KeyboardInterrupt",
     "evalue": "",
     "output_type": "error",
     "traceback": [
      "\u001b[1;31m---------------------------------------------------------------------------\u001b[0m",
      "\u001b[1;31mKeyboardInterrupt\u001b[0m                         Traceback (most recent call last)",
      "Cell \u001b[1;32mIn[29], line 3\u001b[0m\n\u001b[0;32m      1\u001b[0m dataset_eval \u001b[38;5;241m=\u001b[39m tf\u001b[38;5;241m.\u001b[39mdata\u001b[38;5;241m.\u001b[39mDataset\u001b[38;5;241m.\u001b[39mfrom_tensor_slices(df_val)\n\u001b[0;32m      2\u001b[0m dataset_eval \u001b[38;5;241m=\u001b[39m dataset_eval\u001b[38;5;241m.\u001b[39mprefetch(buffer_size\u001b[38;5;241m=\u001b[39mtf\u001b[38;5;241m.\u001b[39mdata\u001b[38;5;241m.\u001b[39mAUTOTUNE)\n\u001b[1;32m----> 3\u001b[0m ndcg_result, recall_result \u001b[38;5;241m=\u001b[39m \u001b[43mevaluate\u001b[49m\u001b[43m(\u001b[49m\u001b[43mmodel\u001b[49m\u001b[43m,\u001b[49m\u001b[43m \u001b[49m\u001b[43mdataset_eval\u001b[49m\u001b[43m)\u001b[49m\n\u001b[0;32m      4\u001b[0m \u001b[38;5;28mprint\u001b[39m(\u001b[38;5;124mf\u001b[39m\u001b[38;5;124m'\u001b[39m\u001b[38;5;124mEvaluation result: [NDCG@10: \u001b[39m\u001b[38;5;132;01m{\u001b[39;00mndcg_result\u001b[38;5;132;01m:\u001b[39;00m\u001b[38;5;124m.6f\u001b[39m\u001b[38;5;132;01m}\u001b[39;00m\u001b[38;5;124m, Recall@10: \u001b[39m\u001b[38;5;132;01m{\u001b[39;00mrecall_result\u001b[38;5;132;01m:\u001b[39;00m\u001b[38;5;124m.6f\u001b[39m\u001b[38;5;132;01m}\u001b[39;00m\u001b[38;5;124m]\u001b[39m\u001b[38;5;124m'\u001b[39m)\n",
      "Cell \u001b[1;32mIn[28], line 23\u001b[0m, in \u001b[0;36mevaluate\u001b[1;34m(model, dataset)\u001b[0m\n\u001b[0;32m     20\u001b[0m         recall_scores\u001b[38;5;241m.\u001b[39mappend(recall)\n\u001b[0;32m     22\u001b[0m     \u001b[38;5;66;03m# update the model with the observerd event\u001b[39;00m\n\u001b[1;32m---> 23\u001b[0m     \u001b[43mmodel\u001b[49m\u001b[38;5;241;43m.\u001b[39;49m\u001b[43meval_update_onestep\u001b[49m\u001b[43m(\u001b[49m\u001b[43mdata\u001b[49m\u001b[43m)\u001b[49m\n\u001b[0;32m     24\u001b[0m     count\u001b[38;5;241m+\u001b[39m\u001b[38;5;241m=\u001b[39m\u001b[38;5;241m1\u001b[39m\n\u001b[0;32m     25\u001b[0m ndcg_result \u001b[38;5;241m=\u001b[39m tf\u001b[38;5;241m.\u001b[39mreduce_mean(ndcg_scores)\u001b[38;5;241m.\u001b[39mnumpy()\n",
      "File \u001b[1;32m~\\anaconda3\\envs\\tf_gpu\\lib\\site-packages\\tensorflow\\python\\eager\\def_function.py:828\u001b[0m, in \u001b[0;36mFunction.__call__\u001b[1;34m(self, *args, **kwds)\u001b[0m\n\u001b[0;32m    826\u001b[0m tracing_count \u001b[38;5;241m=\u001b[39m \u001b[38;5;28mself\u001b[39m\u001b[38;5;241m.\u001b[39mexperimental_get_tracing_count()\n\u001b[0;32m    827\u001b[0m \u001b[38;5;28;01mwith\u001b[39;00m trace\u001b[38;5;241m.\u001b[39mTrace(\u001b[38;5;28mself\u001b[39m\u001b[38;5;241m.\u001b[39m_name) \u001b[38;5;28;01mas\u001b[39;00m tm:\n\u001b[1;32m--> 828\u001b[0m   result \u001b[38;5;241m=\u001b[39m \u001b[38;5;28;43mself\u001b[39;49m\u001b[38;5;241;43m.\u001b[39;49m\u001b[43m_call\u001b[49m\u001b[43m(\u001b[49m\u001b[38;5;241;43m*\u001b[39;49m\u001b[43margs\u001b[49m\u001b[43m,\u001b[49m\u001b[43m \u001b[49m\u001b[38;5;241;43m*\u001b[39;49m\u001b[38;5;241;43m*\u001b[39;49m\u001b[43mkwds\u001b[49m\u001b[43m)\u001b[49m\n\u001b[0;32m    829\u001b[0m   compiler \u001b[38;5;241m=\u001b[39m \u001b[38;5;124m\"\u001b[39m\u001b[38;5;124mxla\u001b[39m\u001b[38;5;124m\"\u001b[39m \u001b[38;5;28;01mif\u001b[39;00m \u001b[38;5;28mself\u001b[39m\u001b[38;5;241m.\u001b[39m_experimental_compile \u001b[38;5;28;01melse\u001b[39;00m \u001b[38;5;124m\"\u001b[39m\u001b[38;5;124mnonXla\u001b[39m\u001b[38;5;124m\"\u001b[39m\n\u001b[0;32m    830\u001b[0m   new_tracing_count \u001b[38;5;241m=\u001b[39m \u001b[38;5;28mself\u001b[39m\u001b[38;5;241m.\u001b[39mexperimental_get_tracing_count()\n",
      "File \u001b[1;32m~\\anaconda3\\envs\\tf_gpu\\lib\\site-packages\\tensorflow\\python\\eager\\def_function.py:862\u001b[0m, in \u001b[0;36mFunction._call\u001b[1;34m(self, *args, **kwds)\u001b[0m\n\u001b[0;32m    859\u001b[0m \u001b[38;5;28mself\u001b[39m\u001b[38;5;241m.\u001b[39m_lock\u001b[38;5;241m.\u001b[39mrelease()\n\u001b[0;32m    860\u001b[0m \u001b[38;5;66;03m# In this case we have not created variables on the first call. So we can\u001b[39;00m\n\u001b[0;32m    861\u001b[0m \u001b[38;5;66;03m# run the first trace but we should fail if variables are created.\u001b[39;00m\n\u001b[1;32m--> 862\u001b[0m results \u001b[38;5;241m=\u001b[39m \u001b[38;5;28;43mself\u001b[39;49m\u001b[38;5;241;43m.\u001b[39;49m\u001b[43m_stateful_fn\u001b[49m\u001b[43m(\u001b[49m\u001b[38;5;241;43m*\u001b[39;49m\u001b[43margs\u001b[49m\u001b[43m,\u001b[49m\u001b[43m \u001b[49m\u001b[38;5;241;43m*\u001b[39;49m\u001b[38;5;241;43m*\u001b[39;49m\u001b[43mkwds\u001b[49m\u001b[43m)\u001b[49m\n\u001b[0;32m    863\u001b[0m \u001b[38;5;28;01mif\u001b[39;00m \u001b[38;5;28mself\u001b[39m\u001b[38;5;241m.\u001b[39m_created_variables:\n\u001b[0;32m    864\u001b[0m   \u001b[38;5;28;01mraise\u001b[39;00m \u001b[38;5;167;01mValueError\u001b[39;00m(\u001b[38;5;124m\"\u001b[39m\u001b[38;5;124mCreating variables on a non-first call to a function\u001b[39m\u001b[38;5;124m\"\u001b[39m\n\u001b[0;32m    865\u001b[0m                    \u001b[38;5;124m\"\u001b[39m\u001b[38;5;124m decorated with tf.function.\u001b[39m\u001b[38;5;124m\"\u001b[39m)\n",
      "File \u001b[1;32m~\\anaconda3\\envs\\tf_gpu\\lib\\site-packages\\tensorflow\\python\\eager\\function.py:2942\u001b[0m, in \u001b[0;36mFunction.__call__\u001b[1;34m(self, *args, **kwargs)\u001b[0m\n\u001b[0;32m   2939\u001b[0m \u001b[38;5;28;01mwith\u001b[39;00m \u001b[38;5;28mself\u001b[39m\u001b[38;5;241m.\u001b[39m_lock:\n\u001b[0;32m   2940\u001b[0m   (graph_function,\n\u001b[0;32m   2941\u001b[0m    filtered_flat_args) \u001b[38;5;241m=\u001b[39m \u001b[38;5;28mself\u001b[39m\u001b[38;5;241m.\u001b[39m_maybe_define_function(args, kwargs)\n\u001b[1;32m-> 2942\u001b[0m \u001b[38;5;28;01mreturn\u001b[39;00m \u001b[43mgraph_function\u001b[49m\u001b[38;5;241;43m.\u001b[39;49m\u001b[43m_call_flat\u001b[49m\u001b[43m(\u001b[49m\n\u001b[0;32m   2943\u001b[0m \u001b[43m    \u001b[49m\u001b[43mfiltered_flat_args\u001b[49m\u001b[43m,\u001b[49m\u001b[43m \u001b[49m\u001b[43mcaptured_inputs\u001b[49m\u001b[38;5;241;43m=\u001b[39;49m\u001b[43mgraph_function\u001b[49m\u001b[38;5;241;43m.\u001b[39;49m\u001b[43mcaptured_inputs\u001b[49m\u001b[43m)\u001b[49m\n",
      "File \u001b[1;32m~\\anaconda3\\envs\\tf_gpu\\lib\\site-packages\\tensorflow\\python\\eager\\function.py:1918\u001b[0m, in \u001b[0;36mConcreteFunction._call_flat\u001b[1;34m(self, args, captured_inputs, cancellation_manager)\u001b[0m\n\u001b[0;32m   1914\u001b[0m possible_gradient_type \u001b[38;5;241m=\u001b[39m gradients_util\u001b[38;5;241m.\u001b[39mPossibleTapeGradientTypes(args)\n\u001b[0;32m   1915\u001b[0m \u001b[38;5;28;01mif\u001b[39;00m (possible_gradient_type \u001b[38;5;241m==\u001b[39m gradients_util\u001b[38;5;241m.\u001b[39mPOSSIBLE_GRADIENT_TYPES_NONE\n\u001b[0;32m   1916\u001b[0m     \u001b[38;5;129;01mand\u001b[39;00m executing_eagerly):\n\u001b[0;32m   1917\u001b[0m   \u001b[38;5;66;03m# No tape is watching; skip to running the function.\u001b[39;00m\n\u001b[1;32m-> 1918\u001b[0m   \u001b[38;5;28;01mreturn\u001b[39;00m \u001b[38;5;28mself\u001b[39m\u001b[38;5;241m.\u001b[39m_build_call_outputs(\u001b[38;5;28;43mself\u001b[39;49m\u001b[38;5;241;43m.\u001b[39;49m\u001b[43m_inference_function\u001b[49m\u001b[38;5;241;43m.\u001b[39;49m\u001b[43mcall\u001b[49m\u001b[43m(\u001b[49m\n\u001b[0;32m   1919\u001b[0m \u001b[43m      \u001b[49m\u001b[43mctx\u001b[49m\u001b[43m,\u001b[49m\u001b[43m \u001b[49m\u001b[43margs\u001b[49m\u001b[43m,\u001b[49m\u001b[43m \u001b[49m\u001b[43mcancellation_manager\u001b[49m\u001b[38;5;241;43m=\u001b[39;49m\u001b[43mcancellation_manager\u001b[49m\u001b[43m)\u001b[49m)\n\u001b[0;32m   1920\u001b[0m forward_backward \u001b[38;5;241m=\u001b[39m \u001b[38;5;28mself\u001b[39m\u001b[38;5;241m.\u001b[39m_select_forward_and_backward_functions(\n\u001b[0;32m   1921\u001b[0m     args,\n\u001b[0;32m   1922\u001b[0m     possible_gradient_type,\n\u001b[0;32m   1923\u001b[0m     executing_eagerly)\n\u001b[0;32m   1924\u001b[0m forward_function, args_with_tangents \u001b[38;5;241m=\u001b[39m forward_backward\u001b[38;5;241m.\u001b[39mforward()\n",
      "File \u001b[1;32m~\\anaconda3\\envs\\tf_gpu\\lib\\site-packages\\tensorflow\\python\\eager\\function.py:555\u001b[0m, in \u001b[0;36m_EagerDefinedFunction.call\u001b[1;34m(self, ctx, args, cancellation_manager)\u001b[0m\n\u001b[0;32m    553\u001b[0m \u001b[38;5;28;01mwith\u001b[39;00m _InterpolateFunctionError(\u001b[38;5;28mself\u001b[39m):\n\u001b[0;32m    554\u001b[0m   \u001b[38;5;28;01mif\u001b[39;00m cancellation_manager \u001b[38;5;129;01mis\u001b[39;00m \u001b[38;5;28;01mNone\u001b[39;00m:\n\u001b[1;32m--> 555\u001b[0m     outputs \u001b[38;5;241m=\u001b[39m \u001b[43mexecute\u001b[49m\u001b[38;5;241;43m.\u001b[39;49m\u001b[43mexecute\u001b[49m\u001b[43m(\u001b[49m\n\u001b[0;32m    556\u001b[0m \u001b[43m        \u001b[49m\u001b[38;5;28;43mstr\u001b[39;49m\u001b[43m(\u001b[49m\u001b[38;5;28;43mself\u001b[39;49m\u001b[38;5;241;43m.\u001b[39;49m\u001b[43msignature\u001b[49m\u001b[38;5;241;43m.\u001b[39;49m\u001b[43mname\u001b[49m\u001b[43m)\u001b[49m\u001b[43m,\u001b[49m\n\u001b[0;32m    557\u001b[0m \u001b[43m        \u001b[49m\u001b[43mnum_outputs\u001b[49m\u001b[38;5;241;43m=\u001b[39;49m\u001b[38;5;28;43mself\u001b[39;49m\u001b[38;5;241;43m.\u001b[39;49m\u001b[43m_num_outputs\u001b[49m\u001b[43m,\u001b[49m\n\u001b[0;32m    558\u001b[0m \u001b[43m        \u001b[49m\u001b[43minputs\u001b[49m\u001b[38;5;241;43m=\u001b[39;49m\u001b[43margs\u001b[49m\u001b[43m,\u001b[49m\n\u001b[0;32m    559\u001b[0m \u001b[43m        \u001b[49m\u001b[43mattrs\u001b[49m\u001b[38;5;241;43m=\u001b[39;49m\u001b[43mattrs\u001b[49m\u001b[43m,\u001b[49m\n\u001b[0;32m    560\u001b[0m \u001b[43m        \u001b[49m\u001b[43mctx\u001b[49m\u001b[38;5;241;43m=\u001b[39;49m\u001b[43mctx\u001b[49m\u001b[43m)\u001b[49m\n\u001b[0;32m    561\u001b[0m   \u001b[38;5;28;01melse\u001b[39;00m:\n\u001b[0;32m    562\u001b[0m     outputs \u001b[38;5;241m=\u001b[39m execute\u001b[38;5;241m.\u001b[39mexecute_with_cancellation(\n\u001b[0;32m    563\u001b[0m         \u001b[38;5;28mstr\u001b[39m(\u001b[38;5;28mself\u001b[39m\u001b[38;5;241m.\u001b[39msignature\u001b[38;5;241m.\u001b[39mname),\n\u001b[0;32m    564\u001b[0m         num_outputs\u001b[38;5;241m=\u001b[39m\u001b[38;5;28mself\u001b[39m\u001b[38;5;241m.\u001b[39m_num_outputs,\n\u001b[1;32m   (...)\u001b[0m\n\u001b[0;32m    567\u001b[0m         ctx\u001b[38;5;241m=\u001b[39mctx,\n\u001b[0;32m    568\u001b[0m         cancellation_manager\u001b[38;5;241m=\u001b[39mcancellation_manager)\n",
      "File \u001b[1;32m~\\anaconda3\\envs\\tf_gpu\\lib\\site-packages\\tensorflow\\python\\eager\\execute.py:59\u001b[0m, in \u001b[0;36mquick_execute\u001b[1;34m(op_name, num_outputs, inputs, attrs, ctx, name)\u001b[0m\n\u001b[0;32m     57\u001b[0m \u001b[38;5;28;01mtry\u001b[39;00m:\n\u001b[0;32m     58\u001b[0m   ctx\u001b[38;5;241m.\u001b[39mensure_initialized()\n\u001b[1;32m---> 59\u001b[0m   tensors \u001b[38;5;241m=\u001b[39m \u001b[43mpywrap_tfe\u001b[49m\u001b[38;5;241;43m.\u001b[39;49m\u001b[43mTFE_Py_Execute\u001b[49m\u001b[43m(\u001b[49m\u001b[43mctx\u001b[49m\u001b[38;5;241;43m.\u001b[39;49m\u001b[43m_handle\u001b[49m\u001b[43m,\u001b[49m\u001b[43m \u001b[49m\u001b[43mdevice_name\u001b[49m\u001b[43m,\u001b[49m\u001b[43m \u001b[49m\u001b[43mop_name\u001b[49m\u001b[43m,\u001b[49m\n\u001b[0;32m     60\u001b[0m \u001b[43m                                      \u001b[49m\u001b[43minputs\u001b[49m\u001b[43m,\u001b[49m\u001b[43m \u001b[49m\u001b[43mattrs\u001b[49m\u001b[43m,\u001b[49m\u001b[43m \u001b[49m\u001b[43mnum_outputs\u001b[49m\u001b[43m)\u001b[49m\n\u001b[0;32m     61\u001b[0m \u001b[38;5;28;01mexcept\u001b[39;00m core\u001b[38;5;241m.\u001b[39m_NotOkStatusException \u001b[38;5;28;01mas\u001b[39;00m e:\n\u001b[0;32m     62\u001b[0m   \u001b[38;5;28;01mif\u001b[39;00m name \u001b[38;5;129;01mis\u001b[39;00m \u001b[38;5;129;01mnot\u001b[39;00m \u001b[38;5;28;01mNone\u001b[39;00m:\n",
      "\u001b[1;31mKeyboardInterrupt\u001b[0m: "
     ]
    }
   ],
   "source": [
    "dataset_eval = tf.data.Dataset.from_tensor_slices(df_val)\n",
    "dataset_eval = dataset_eval.prefetch(buffer_size=tf.data.AUTOTUNE)\n",
    "ndcg_result, recall_result = evaluate(model, dataset_eval)\n",
    "print(f'Evaluation result: [NDCG@10: {ndcg_result:.6f}, Recall@10: {recall_result:.6f}]')"
   ]
  },
  {
   "cell_type": "code",
   "execution_count": 30,
   "id": "1e8b6cb3",
   "metadata": {},
   "outputs": [
    {
     "name": "stdout",
     "output_type": "stream",
     "text": [
      "WARNING:tensorflow:Skipping full serialization of Keras layer <tensorflow.python.keras.layers.core.Dense object at 0x00000173153CFA00>, because it is not built.\n",
      "WARNING:tensorflow:Skipping full serialization of Keras layer <tensorflow.python.keras.layers.core.Dense object at 0x0000017311DA9C40>, because it is not built.\n",
      "INFO:tensorflow:Assets written to: model\\assets\n"
     ]
    }
   ],
   "source": [
    "model.save('model')"
   ]
  },
  {
   "cell_type": "markdown",
   "id": "6b3ff447",
   "metadata": {},
   "source": [
    "# Experiments we have done：\n",
    "\n",
    "除了上述的model及feature select之外，我們還有做了一些嘗試：\n",
    "1. 我們有將validataion set拿進去做fine tune，我們原本一為會有很大的進步，不過結過卻只有進步一點點。我們另外也有發現，如果將validation data的training epoch設的太大的話，反而會使節過變差，推測是因為over fit的原因。\n",
    "2. 我們一開始並沒有將time stamp當作是feature，不過嘗試加進來之後，的確有使結果變好。\n",
    "3. 另外，我們一開始將time stamp輸入進model得時候，Training loss的結果都是Nan。後來發現是因為time stamp的值太大了。需要先將過normalization，才能輸入進model。\n",
    "4. 至於encode feature的方式，我們也有做過一些嘗試，最後選擇dense layer＋embedding layer。"
   ]
  },
  {
   "cell_type": "markdown",
   "id": "69af4d55",
   "metadata": {},
   "source": [
    "# Discussions\n",
    "\n",
    "整體來說，我們這是的competition結果並不是很好，儘管我們做了非常多的嘗試，也檢查過training process很多次，仍是有些不足的地方。不過，也藉由這一次，使我們更加了解tensorflow的使用，特別是save model的部分。為了要save model，要在適用@tf.function，導致有很多n的function都不能使用，讓我們卡了蠻久的:(。\n",
    "\n",
    "未來如果要做改進的話，我認為可以嘗試加入更多的feature，並在想一些encoding的方式，確保不會出現gradiet exploding或vanishing等錯誤，且讓model學習到正確的feature。"
   ]
  },
  {
   "cell_type": "code",
   "execution_count": null,
   "id": "359f0d49",
   "metadata": {},
   "outputs": [],
   "source": []
  }
 ],
 "metadata": {
  "kernelspec": {
   "display_name": "Python 3 (ipykernel)",
   "language": "python",
   "name": "python3"
  },
  "language_info": {
   "codemirror_mode": {
    "name": "ipython",
    "version": 3
   },
   "file_extension": ".py",
   "mimetype": "text/x-python",
   "name": "python",
   "nbconvert_exporter": "python",
   "pygments_lexer": "ipython3",
   "version": "3.9.13"
  }
 },
 "nbformat": 4,
 "nbformat_minor": 5
}
