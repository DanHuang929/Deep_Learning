{
 "cells": [
  {
   "cell_type": "markdown",
   "metadata": {
    "id": "X_Te27fi-0pP"
   },
   "source": [
    "# **HW1: Regression** \n",
    "In *assignment 1*, you need to finish:\n",
    "\n",
    "1.  Basic Part: Implement the regression model to predict the number of dengue cases\n",
    "\n",
    "\n",
    "> *   Step 1: Split Data\n",
    "> *   Step 2: Preprocess Data\n",
    "> *   Step 3: Implement Regression\n",
    "> *   Step 4: Make Prediction\n",
    "> *   Step 5: Train Model and Generate Result\n",
    "\n",
    "2.  Advanced Part: Implementing a regression model to predict the number of dengue cases in a different way than the basic part"
   ]
  },
  {
   "cell_type": "markdown",
   "metadata": {
    "id": "_wDdnos-4uUv"
   },
   "source": [
    "# 1. Basic Part (60%)\n",
    "In the first part, you need to implement the regression to predict the number of dengue cases\n",
    "\n",
    "Please save the prediction result in a csv file **hw1_basic.csv**\n"
   ]
  },
  {
   "cell_type": "markdown",
   "metadata": {
    "id": "RzCR7vk9BFkf"
   },
   "source": [
    "## Import Packages\n",
    "\n",
    "> Note: You **cannot** import any other package in the basic part"
   ]
  },
  {
   "cell_type": "code",
   "execution_count": 1,
   "metadata": {
    "id": "HL5XjqFf4wSj"
   },
   "outputs": [],
   "source": [
    "import numpy as np\n",
    "import matplotlib.pyplot as plt\n",
    "import pandas as pd\n",
    "import csv\n",
    "import math\n",
    "import random"
   ]
  },
  {
   "cell_type": "markdown",
   "metadata": {
    "id": "jnWjrzi0dMPz"
   },
   "source": [
    "## Global attributes\n",
    "Define the global attributes"
   ]
  },
  {
   "cell_type": "code",
   "execution_count": 2,
   "metadata": {
    "id": "EWLDPOlHBbcK"
   },
   "outputs": [],
   "source": [
    "input_dataroot = 'hw1_basic_input.csv' # Input file named as 'hw1_basic_input.csv'\n",
    "output_dataroot = 'hw1_basic.csv' # Output file will be named as 'hw1_basic.csv'\n",
    "\n",
    "input_datalist =  [] # Initial datalist, saved as numpy array\n",
    "output_datalist =  [] # Your prediction, should be 10 * 4 matrix and saved as numpy array\n",
    "             # The format of each row should be ['epiweek', 'CityA', 'CityB', 'CityC']\n",
    "\n",
    "root = ['epiweek', 'CityA', 'CityB', 'CityC']"
   ]
  },
  {
   "cell_type": "markdown",
   "metadata": {
    "id": "PsFC-cvqIcYK"
   },
   "source": [
    "You can add your own global attributes here\n"
   ]
  },
  {
   "cell_type": "code",
   "execution_count": 3,
   "metadata": {
    "id": "OUbS2BEgcut6"
   },
   "outputs": [],
   "source": [
    "training_data = []\n",
    "test_data = []"
   ]
  },
  {
   "cell_type": "markdown",
   "metadata": {
    "id": "rUoRFoQjBW5S"
   },
   "source": [
    "## Load the Input File\n",
    "First, load the basic input file **hw1_basic_input.csv**\n",
    "\n",
    "Input data would be stored in *input_datalist*"
   ]
  },
  {
   "cell_type": "code",
   "execution_count": 4,
   "metadata": {
    "id": "dekR1KnqBtI6"
   },
   "outputs": [],
   "source": [
    "# Read input csv to datalist\n",
    "# with open(input_dataroot, newline='') as csvfile:\n",
    "#   input_datalist = np.array(list(csv.reader(csvfile)))\n"
   ]
  },
  {
   "cell_type": "code",
   "execution_count": 14,
   "metadata": {
    "colab": {
     "base_uri": "https://localhost:8080/",
     "height": 330
    },
    "id": "1laCvUWeobNX",
    "outputId": "f22244a8-ad14-4325-cbbd-3963d04ad0f9"
   },
   "outputs": [
    {
     "name": "stdout",
     "output_type": "stream",
     "text": [
      "     epiweek  TemperatureA  TemperatureB  TemperatureC  CityA  CityB  CityC\n",
      "0     202001         21.48         22.24          9.16    147     89      9\n",
      "1     202002           NaN           NaN           NaN    146     99      7\n",
      "2     202003         24.66         22.32         24.84    198     78     13\n",
      "3     202004         23.89         24.90         29.66    180     69     14\n",
      "4     202005         22.85         23.74         29.78    162     57      8\n",
      "..       ...           ...           ...           ...    ...    ...    ...\n",
      "99    202148         22.13         21.44         24.41      0      0      0\n",
      "100   202149         24.51         22.16         30.40      0      0      0\n",
      "101   202150         28.39         17.27         26.63      0      0      0\n",
      "102   202151         25.93         19.07         29.29      0      0      0\n",
      "103   202152         26.73         23.72         28.96      0      0      0\n",
      "\n",
      "[104 rows x 7 columns]\n"
     ]
    }
   ],
   "source": [
    "# from google.colab import drive\n",
    "# drive.mount('/content/drive')\n",
    "input_datalist = pd.read_csv(\"hw1_basic_input.csv\")\n",
    "print(input_datalist)"
   ]
  },
  {
   "cell_type": "markdown",
   "metadata": {
    "id": "6kYPuikLCFx4"
   },
   "source": [
    "## Implement the Regression Model\n",
    "\n",
    "> Note: It is recommended to use the functions we defined, you can also define your own functions\n"
   ]
  },
  {
   "cell_type": "markdown",
   "metadata": {
    "id": "jWwdx06JNEYs"
   },
   "source": [
    "### Step 1: Split Data\n",
    "Split data in *input_datalist* into training dataset and validation dataset \n",
    "\n"
   ]
  },
  {
   "cell_type": "code",
   "execution_count": 21,
   "metadata": {
    "id": "USDciENcB-5F"
   },
   "outputs": [],
   "source": [
    "def SplitData(input_datalist):\n",
    "    for i in range (len(input_datalist)):\n",
    "        if(input_datalist[i][5]=='0'):\n",
    "            test_data.append(input_datalist[i])\n",
    "        else:\n",
    "            training_data.append(input_datalist[i])"
   ]
  },
  {
   "cell_type": "code",
   "execution_count": 22,
   "metadata": {
    "id": "MMNhWCLC0cjS"
   },
   "outputs": [
    {
     "ename": "KeyError",
     "evalue": "0",
     "output_type": "error",
     "traceback": [
      "\u001b[0;31m---------------------------------------------------------------------------\u001b[0m",
      "\u001b[0;31mKeyError\u001b[0m                                  Traceback (most recent call last)",
      "File \u001b[0;32m/Library/Frameworks/Python.framework/Versions/3.10/lib/python3.10/site-packages/pandas/core/indexes/base.py:3800\u001b[0m, in \u001b[0;36mIndex.get_loc\u001b[0;34m(self, key, method, tolerance)\u001b[0m\n\u001b[1;32m   3799\u001b[0m \u001b[38;5;28;01mtry\u001b[39;00m:\n\u001b[0;32m-> 3800\u001b[0m     \u001b[38;5;28;01mreturn\u001b[39;00m \u001b[38;5;28;43mself\u001b[39;49m\u001b[38;5;241;43m.\u001b[39;49m\u001b[43m_engine\u001b[49m\u001b[38;5;241;43m.\u001b[39;49m\u001b[43mget_loc\u001b[49m\u001b[43m(\u001b[49m\u001b[43mcasted_key\u001b[49m\u001b[43m)\u001b[49m\n\u001b[1;32m   3801\u001b[0m \u001b[38;5;28;01mexcept\u001b[39;00m \u001b[38;5;167;01mKeyError\u001b[39;00m \u001b[38;5;28;01mas\u001b[39;00m err:\n",
      "File \u001b[0;32m/Library/Frameworks/Python.framework/Versions/3.10/lib/python3.10/site-packages/pandas/_libs/index.pyx:138\u001b[0m, in \u001b[0;36mpandas._libs.index.IndexEngine.get_loc\u001b[0;34m()\u001b[0m\n",
      "File \u001b[0;32m/Library/Frameworks/Python.framework/Versions/3.10/lib/python3.10/site-packages/pandas/_libs/index.pyx:165\u001b[0m, in \u001b[0;36mpandas._libs.index.IndexEngine.get_loc\u001b[0;34m()\u001b[0m\n",
      "File \u001b[0;32mpandas/_libs/hashtable_class_helper.pxi:5745\u001b[0m, in \u001b[0;36mpandas._libs.hashtable.PyObjectHashTable.get_item\u001b[0;34m()\u001b[0m\n",
      "File \u001b[0;32mpandas/_libs/hashtable_class_helper.pxi:5753\u001b[0m, in \u001b[0;36mpandas._libs.hashtable.PyObjectHashTable.get_item\u001b[0;34m()\u001b[0m\n",
      "\u001b[0;31mKeyError\u001b[0m: 0",
      "\nThe above exception was the direct cause of the following exception:\n",
      "\u001b[0;31mKeyError\u001b[0m                                  Traceback (most recent call last)",
      "Cell \u001b[0;32mIn [22], line 1\u001b[0m\n\u001b[0;32m----> 1\u001b[0m \u001b[43mSplitData\u001b[49m\u001b[43m(\u001b[49m\u001b[43minput_datalist\u001b[49m\u001b[43m)\u001b[49m\n",
      "Cell \u001b[0;32mIn [21], line 3\u001b[0m, in \u001b[0;36mSplitData\u001b[0;34m(input_datalist)\u001b[0m\n\u001b[1;32m      1\u001b[0m \u001b[38;5;28;01mdef\u001b[39;00m \u001b[38;5;21mSplitData\u001b[39m(input_datalist):\n\u001b[1;32m      2\u001b[0m     \u001b[38;5;28;01mfor\u001b[39;00m i \u001b[38;5;129;01min\u001b[39;00m \u001b[38;5;28mrange\u001b[39m (\u001b[38;5;28mlen\u001b[39m(input_datalist)):\n\u001b[0;32m----> 3\u001b[0m         \u001b[38;5;28;01mif\u001b[39;00m(\u001b[43minput_datalist\u001b[49m\u001b[43m[\u001b[49m\u001b[43mi\u001b[49m\u001b[43m]\u001b[49m[\u001b[38;5;241m5\u001b[39m]\u001b[38;5;241m==\u001b[39m\u001b[38;5;124m'\u001b[39m\u001b[38;5;124m0\u001b[39m\u001b[38;5;124m'\u001b[39m):\n\u001b[1;32m      4\u001b[0m             test_data\u001b[38;5;241m.\u001b[39mappend(input_datalist[i])\n\u001b[1;32m      5\u001b[0m         \u001b[38;5;28;01melse\u001b[39;00m:\n",
      "File \u001b[0;32m/Library/Frameworks/Python.framework/Versions/3.10/lib/python3.10/site-packages/pandas/core/frame.py:3805\u001b[0m, in \u001b[0;36mDataFrame.__getitem__\u001b[0;34m(self, key)\u001b[0m\n\u001b[1;32m   3803\u001b[0m \u001b[38;5;28;01mif\u001b[39;00m \u001b[38;5;28mself\u001b[39m\u001b[38;5;241m.\u001b[39mcolumns\u001b[38;5;241m.\u001b[39mnlevels \u001b[38;5;241m>\u001b[39m \u001b[38;5;241m1\u001b[39m:\n\u001b[1;32m   3804\u001b[0m     \u001b[38;5;28;01mreturn\u001b[39;00m \u001b[38;5;28mself\u001b[39m\u001b[38;5;241m.\u001b[39m_getitem_multilevel(key)\n\u001b[0;32m-> 3805\u001b[0m indexer \u001b[38;5;241m=\u001b[39m \u001b[38;5;28;43mself\u001b[39;49m\u001b[38;5;241;43m.\u001b[39;49m\u001b[43mcolumns\u001b[49m\u001b[38;5;241;43m.\u001b[39;49m\u001b[43mget_loc\u001b[49m\u001b[43m(\u001b[49m\u001b[43mkey\u001b[49m\u001b[43m)\u001b[49m\n\u001b[1;32m   3806\u001b[0m \u001b[38;5;28;01mif\u001b[39;00m is_integer(indexer):\n\u001b[1;32m   3807\u001b[0m     indexer \u001b[38;5;241m=\u001b[39m [indexer]\n",
      "File \u001b[0;32m/Library/Frameworks/Python.framework/Versions/3.10/lib/python3.10/site-packages/pandas/core/indexes/base.py:3802\u001b[0m, in \u001b[0;36mIndex.get_loc\u001b[0;34m(self, key, method, tolerance)\u001b[0m\n\u001b[1;32m   3800\u001b[0m     \u001b[38;5;28;01mreturn\u001b[39;00m \u001b[38;5;28mself\u001b[39m\u001b[38;5;241m.\u001b[39m_engine\u001b[38;5;241m.\u001b[39mget_loc(casted_key)\n\u001b[1;32m   3801\u001b[0m \u001b[38;5;28;01mexcept\u001b[39;00m \u001b[38;5;167;01mKeyError\u001b[39;00m \u001b[38;5;28;01mas\u001b[39;00m err:\n\u001b[0;32m-> 3802\u001b[0m     \u001b[38;5;28;01mraise\u001b[39;00m \u001b[38;5;167;01mKeyError\u001b[39;00m(key) \u001b[38;5;28;01mfrom\u001b[39;00m \u001b[38;5;21;01merr\u001b[39;00m\n\u001b[1;32m   3803\u001b[0m \u001b[38;5;28;01mexcept\u001b[39;00m \u001b[38;5;167;01mTypeError\u001b[39;00m:\n\u001b[1;32m   3804\u001b[0m     \u001b[38;5;66;03m# If we have a listlike key, _check_indexing_error will raise\u001b[39;00m\n\u001b[1;32m   3805\u001b[0m     \u001b[38;5;66;03m#  InvalidIndexError. Otherwise we fall through and re-raise\u001b[39;00m\n\u001b[1;32m   3806\u001b[0m     \u001b[38;5;66;03m#  the TypeError.\u001b[39;00m\n\u001b[1;32m   3807\u001b[0m     \u001b[38;5;28mself\u001b[39m\u001b[38;5;241m.\u001b[39m_check_indexing_error(key)\n",
      "\u001b[0;31mKeyError\u001b[0m: 0"
     ]
    }
   ],
   "source": [
    "SplitData(input_datalist)"
   ]
  },
  {
   "cell_type": "code",
   "execution_count": 264,
   "metadata": {
    "colab": {
     "base_uri": "https://localhost:8080/"
    },
    "id": "z1Coje8V0FrF",
    "outputId": "f4bb3a84-c57d-4317-bca4-725e35cab158"
   },
   "outputs": [
    {
     "data": {
      "text/plain": [
       "[array(['202143', '29.48', '19.61', '28.86', '0', '0', '0'], dtype='<U12'),\n",
       " array(['202144', '26.97', '24.44', '26.72', '0', '0', '0'], dtype='<U12'),\n",
       " array(['202145', '27.01', '22.53', '28.7', '0', '0', '0'], dtype='<U12'),\n",
       " array(['202146', '27.41', '22.5', '27.36', '0', '0', '0'], dtype='<U12'),\n",
       " array(['202147', '24.39', '23.14', '27.18', '0', '0', '0'], dtype='<U12'),\n",
       " array(['202148', '22.13', '21.44', '24.41', '0', '0', '0'], dtype='<U12'),\n",
       " array(['202149', '24.51', '22.16', '30.4', '0', '0', '0'], dtype='<U12'),\n",
       " array(['202150', '28.39', '17.27', '26.63', '0', '0', '0'], dtype='<U12'),\n",
       " array(['202151', '25.93', '19.07', '29.29', '0', '0', '0'], dtype='<U12'),\n",
       " array(['202152', '26.73', '23.72', '28.96', '0', '0', '0'], dtype='<U12')]"
      ]
     },
     "execution_count": 264,
     "metadata": {},
     "output_type": "execute_result"
    }
   ],
   "source": [
    "test_data"
   ]
  },
  {
   "cell_type": "markdown",
   "metadata": {
    "id": "u-3Qln4aNgVy"
   },
   "source": [
    "### Step 2: Preprocess Data\n",
    "Handle the unreasonable data\n",
    "> Hint: Outlier and missing data can be handled by removing the data or adding the values with the help of statistics  "
   ]
  },
  {
   "cell_type": "code",
   "execution_count": 265,
   "metadata": {
    "id": "XXvW1n_5NkQ5"
   },
   "outputs": [],
   "source": [
    "def PreprocessData(training_data):\n",
    "  to_delete = []\n",
    "  for i, item in enumerate(training_data):\n",
    "    if '' in item or '0' in item or 'TemperatureA' in item:\n",
    "      to_delete.append(i)\n",
    "      continue\n",
    "    for j in range(1, 4):\n",
    "      if float(item[j]) > 35 or float(item[j]) < 15:\n",
    "        to_delete.append(i)\n",
    "        break\n",
    "\n",
    "  date = np.delete(training_data, to_delete, 0)[3::, :1:]\n",
    "  rt = np.delete(training_data, to_delete, 0)[::, 1::]\n",
    "\n",
    "  datax = []\n",
    "  datay = []\n",
    "  for i in range(3):\n",
    "    tmpx = []\n",
    "    tmpy = []\n",
    "    for j in range(3, len(rt)):\n",
    "      #print(rt[j-3:j:, i+3:i+4:])\n",
    "      #print(rt[j][i])\n",
    "      tmpx.append(np.concatenate((rt[j-3:j:, i+3:i+4:].squeeze(), [rt[j][i]])))\n",
    "      tmpy.append(rt[j][i+3])\n",
    "    datax.append(tmpx)\n",
    "    datay.append(tmpy)\n",
    "  #print(tmpx)\n",
    "  return np.array(datax), np.array(datay), date\n"
   ]
  },
  {
   "cell_type": "code",
   "execution_count": 266,
   "metadata": {
    "colab": {
     "base_uri": "https://localhost:8080/"
    },
    "id": "opA2i9xDz2P8",
    "outputId": "d3d9cf67-9e4a-4976-f8ac-3144d04e1403"
   },
   "outputs": [
    {
     "data": {
      "text/plain": [
       "[array(['epiweek', 'TemperatureA', 'TemperatureB', 'TemperatureC', 'CityA',\n",
       "        'CityB', 'CityC'], dtype='<U12'),\n",
       " array(['202001', '21.48', '22.24', '9.16', '147', '89', '9'], dtype='<U12'),\n",
       " array(['202002', '', '', '', '146', '99', '7'], dtype='<U12'),\n",
       " array(['202003', '24.66', '22.32', '24.84', '198', '78', '13'],\n",
       "       dtype='<U12'),\n",
       " array(['202004', '23.89', '24.9', '29.66', '180', '69', '14'],\n",
       "       dtype='<U12'),\n",
       " array(['202005', '22.85', '23.74', '29.78', '162', '57', '8'],\n",
       "       dtype='<U12'),\n",
       " array(['202006', '27.49', '25.41', '30.38', '127', '52', '14'],\n",
       "       dtype='<U12'),\n",
       " array(['202007', '12.74', '24.23', '29.73', '108', '47', '11'],\n",
       "       dtype='<U12'),\n",
       " array(['202008', '26.2', '21.51', '27.98', '99', '51', '15'], dtype='<U12'),\n",
       " array(['202009', '23.51', '23.77', '26.54', '94', '50', '7'], dtype='<U12'),\n",
       " array(['202010', '27.67', '23', '26.52', '67', '48', '9'], dtype='<U12'),\n",
       " array(['202011', '25.44', '19.39', '28.65', '78', '40', '14'],\n",
       "       dtype='<U12'),\n",
       " array(['202012', '27.54', '24.16', '20.95', '70', '42', '14'],\n",
       "       dtype='<U12'),\n",
       " array(['202013', '27.78', '22.9', '25.98', '90', '41', '10'], dtype='<U12'),\n",
       " array(['202014', '26.63', '22.59', '28.88', '84', '56', '11'],\n",
       "       dtype='<U12'),\n",
       " array(['202015', '26.22', '23.93', '26.1', '83', '43', '11'], dtype='<U12'),\n",
       " array(['202016', '11.38', '22.14', '25.98', '78', '57', '16'],\n",
       "       dtype='<U12'),\n",
       " array(['202017', '', '', '', '76', '38', '9'], dtype='<U12'),\n",
       " array(['202018', '17.1', '24.35', '26.16', '80', '37', '9'], dtype='<U12'),\n",
       " array(['202019', '17.08', '17.05', '26.43', '79', '40', '14'],\n",
       "       dtype='<U12'),\n",
       " array(['202020', '18.05', '22.79', '26.3', '97', '46', '11'], dtype='<U12'),\n",
       " array(['202021', '7.01', '24.38', '25.27', '93', '47', '12'], dtype='<U12'),\n",
       " array(['202022', '26.11', '24.46', '26.84', '60', '42', '10'],\n",
       "       dtype='<U12'),\n",
       " array(['202023', '24.65', '25.86', '-27.91', '62', '33', '6'],\n",
       "       dtype='<U12'),\n",
       " array(['202024', '20.7', '22.58', '27.25', '62', '39', '12'], dtype='<U12'),\n",
       " array(['202025', '20.69', '23.64', '25.1', '45', '24', '7'], dtype='<U12'),\n",
       " array(['202026', '25.28', '22.95', '25.67', '55', '38', '9'], dtype='<U12'),\n",
       " array(['202027', '25.35', '63.06', '23.64', '61', '51', '13'],\n",
       "       dtype='<U12'),\n",
       " array(['202028', '28.16', '21.56', '22.05', '50', '50', '22'],\n",
       "       dtype='<U12'),\n",
       " array(['202029', '23.7', '23.89', '27.05', '44', '38', '13'], dtype='<U12'),\n",
       " array(['202030', '19.67', '20.19', '27.05', '59', '36', '15'],\n",
       "       dtype='<U12'),\n",
       " array(['202031', '27.55', '23.55', '27.43', '44', '38', '13'],\n",
       "       dtype='<U12'),\n",
       " array(['202032', '28.77', '20.49', '28.25', '38', '27', '14'],\n",
       "       dtype='<U12'),\n",
       " array(['202033', '23.81', '23.08', '27.52', '44', '14', '8'], dtype='<U12'),\n",
       " array(['202034', '24.41', '17.41', '26.87', '44', '44', '11'],\n",
       "       dtype='<U12'),\n",
       " array(['202035', '24.61', '22.17', '29.46', '46', '29', '12'],\n",
       "       dtype='<U12'),\n",
       " array(['202036', '27.31', '17.83', '10.06', '39', '31', '4'], dtype='<U12'),\n",
       " array(['202037', '', '', '', '29', '39', '8'], dtype='<U12'),\n",
       " array(['202038', '27.64', '22.99', '27.93', '44', '37', '11'],\n",
       "       dtype='<U12'),\n",
       " array(['202039', '', '', '', '32', '42', '13'], dtype='<U12'),\n",
       " array(['202040', '22.74', '24.32', '28.9', '49', '31', '8'], dtype='<U12'),\n",
       " array(['202041', '22.56', '22.78', '27.3', '40', '29', '4'], dtype='<U12'),\n",
       " array(['202042', '27.25', '22.59', '27.46', '46', '27', '7'], dtype='<U12'),\n",
       " array(['202043', '18.82', '16.03', '27.96', '48', '27', '7'], dtype='<U12'),\n",
       " array(['202044', '23.93', '21.86', '28.25', '37', '24', '11'],\n",
       "       dtype='<U12'),\n",
       " array(['202045', '25.92', '25.78', '28.52', '48', '27', '15'],\n",
       "       dtype='<U12'),\n",
       " array(['202046', '28.59', '22.1', '26.52', '59', '22', '7'], dtype='<U12'),\n",
       " array(['202047', '24.09', '22.3', '27.74', '49', '28', '2'], dtype='<U12'),\n",
       " array(['202048', '22.84', '22', '28.08', '66', '21', '7'], dtype='<U12'),\n",
       " array(['202049', '24.47', '20.95', '28.99', '43', '30', '9'], dtype='<U12'),\n",
       " array(['202050', '23.53', '62.87', '21.08', '53', '14', '13'],\n",
       "       dtype='<U12'),\n",
       " array(['202051', '26.23', '21.94', '30.06', '41', '22', '10'],\n",
       "       dtype='<U12'),\n",
       " array(['202052', '21.82', '21.9', '29.74', '37', '19', '17'], dtype='<U12'),\n",
       " array(['202101', '22.59', '23.27', '31.85', '52', '16', '17'],\n",
       "       dtype='<U12'),\n",
       " array(['202102', '26.17', '18.37', '28.56', '31', '35', '16'],\n",
       "       dtype='<U12'),\n",
       " array(['202103', '25.42', '24.1', '7', '31', '26', '19'], dtype='<U12'),\n",
       " array(['202104', '50.83', '21.19', '30.54', '24', '26', '6'], dtype='<U12'),\n",
       " array(['202105', '25.96', '24.44', '26.27', '22', '30', '23'],\n",
       "       dtype='<U12'),\n",
       " array(['202106', '23.27', '23.77', '25.39', '31', '22', '26'],\n",
       "       dtype='<U12'),\n",
       " array(['202107', '27.68', '22.23', '31.57', '35', '23', '23'],\n",
       "       dtype='<U12'),\n",
       " array(['202108', '27.19', '22.46', '30.02', '34', '21', '13'],\n",
       "       dtype='<U12'),\n",
       " array(['202109', '27.72', '24.53', '30.2', '26', '25', '18'], dtype='<U12'),\n",
       " array(['202110', '25.21', '22.88', '30.69', '41', '22', '24'],\n",
       "       dtype='<U12'),\n",
       " array(['202111', '26.35', '25.2', '32.53', '44', '14', '14'], dtype='<U12'),\n",
       " array(['202112', '28.49', '22.77', '33.55', '23', '24', '24'],\n",
       "       dtype='<U12'),\n",
       " array(['202113', '28.46', '24.5', '32.79', '26', '20', '22'], dtype='<U12'),\n",
       " array(['202114', '28.12', '24.81', '28.61', '27', '24', '38'],\n",
       "       dtype='<U12'),\n",
       " array(['202115', '26.33', '22.71', '25.58', '32', '22', '34'],\n",
       "       dtype='<U12'),\n",
       " array(['202116', '26.27', '24.69', '24.99', '29', '22', '30'],\n",
       "       dtype='<U12'),\n",
       " array(['202117', '25.76', '24.71', '25.97', '44', '20', '32'],\n",
       "       dtype='<U12'),\n",
       " array(['202118', '27.11', '25.2', '25.76', '37', '24', '45'], dtype='<U12'),\n",
       " array(['202119', '29.89', '22.9', '26.16', '43', '20', '51'], dtype='<U12'),\n",
       " array(['202120', '23.46', '23.85', '56.11', '51', '21', '57'],\n",
       "       dtype='<U12'),\n",
       " array(['202121', '24.14', '22.24', '24.97', '48', '17', '93'],\n",
       "       dtype='<U12'),\n",
       " array(['202122', '24.39', '23.21', '24.16', '59', '19', '104'],\n",
       "       dtype='<U12'),\n",
       " array(['202123', '26.35', '20.93', '16.84', '55', '23', '86'],\n",
       "       dtype='<U12'),\n",
       " array(['202124', '26.49', '8.58', '19.97', '61', '22', '91'], dtype='<U12'),\n",
       " array(['202125', '26.78', '23.83', '20.53', '57', '23', '68'],\n",
       "       dtype='<U12'),\n",
       " array(['202126', '26.43', '21.2', '23.54', '40', '23', '54'], dtype='<U12'),\n",
       " array(['202127', '26.88', '22.9', '26.03', '51', '27', '57'], dtype='<U12'),\n",
       " array(['202128', '22.78', '23.19', '26.25', '33', '35', '59'],\n",
       "       dtype='<U12'),\n",
       " array(['202129', '22.75', '19.05', '26.42', '29', '22', '45'],\n",
       "       dtype='<U12'),\n",
       " array(['202130', '23.61', '23.23', '40.74', '39', '19', '55'],\n",
       "       dtype='<U12'),\n",
       " array(['202131', '', '', '', '42', '20', '55'], dtype='<U12'),\n",
       " array(['202132', '71.47', '22.02', '26.26', '35', '22', '66'],\n",
       "       dtype='<U12'),\n",
       " array(['202133', '27.45', '18.59', '28.02', '29', '18', '56'],\n",
       "       dtype='<U12'),\n",
       " array(['202134', '24.26', '21.45', '26.76', '28', '25', '44'],\n",
       "       dtype='<U12'),\n",
       " array(['202135', '28.88', '24.26', '25.79', '31', '27', '40'],\n",
       "       dtype='<U12'),\n",
       " array(['202136', '28.08', '24.76', '28.64', '33', '25', '39'],\n",
       "       dtype='<U12'),\n",
       " array(['202137', '27.79', '25.89', '26.75', '23', '12', '50'],\n",
       "       dtype='<U12'),\n",
       " array(['202138', '26.8', '24.27', '29.8', '27', '22', '35'], dtype='<U12'),\n",
       " array(['202139', '24.06', '22.58', '29.39', '27', '22', '33'],\n",
       "       dtype='<U12'),\n",
       " array(['202140', '25.51', '22.56', '29.19', '22', '27', '31'],\n",
       "       dtype='<U12'),\n",
       " array(['202141', '27.9', '22.68', '28.71', '25', '23', '35'], dtype='<U12'),\n",
       " array(['202142', '26.95', '22.61', '28.25', '25', '24', '41'],\n",
       "       dtype='<U12')]"
      ]
     },
     "execution_count": 266,
     "metadata": {},
     "output_type": "execute_result"
    }
   ],
   "source": [
    "training_data"
   ]
  },
  {
   "cell_type": "code",
   "execution_count": 267,
   "metadata": {
    "id": "vAHeaxrgpOq2"
   },
   "outputs": [],
   "source": [
    "dx, dy, dat = PreprocessData(training_data)"
   ]
  },
  {
   "cell_type": "markdown",
   "metadata": {
    "id": "yDLpJmQUN3V6"
   },
   "source": [
    "### Step 3: Implement Regression\n",
    "> Hint: You can use Matrix Inversion, or Gradient Descent to finish this part\n",
    "\n",
    "\n"
   ]
  },
  {
   "cell_type": "code",
   "execution_count": 283,
   "metadata": {
    "id": "Tx9n1_23N8C0"
   },
   "outputs": [],
   "source": [
    "def Regression(input, label):\n",
    "  label = (np.array(label)).astype(np.float64)\n",
    "  city = (np.array(input)).astype(np.float64)\n",
    "  w = [0,0,0,0,0]\n",
    "  y_pred = []\n",
    "  for i in range(100):\n",
    "    for j in range(len(city)):\n",
    "      y_pred.append(w[0] + w[1]*math.pow(city[j][0], 1) + w[2]*math.pow(city[j][1], 2) + w[3]*math.pow(city[j][2], 3) + w[4]*math.pow(city[j][3], 4))\n",
    "    sum = [0,0,0,0,0]\n",
    "    for j in range(len(city)):\n",
    "      sum[0] += (label[j]-y_pred[j]) * 1\n",
    "      sum[1] += (label[j]-y_pred[j]) * (math.pow(city[j][0], 1))\n",
    "      sum[2] += (label[j]-y_pred[j]) * (math.pow(city[j][1], 1))\n",
    "      sum[3] += (label[j]-y_pred[j]) * (math.pow(city[j][2], 1))\n",
    "      sum[4] += (label[j]-y_pred[j]) * (math.pow(city[j][3], 1))\n",
    "\n",
    "    gradient = [0,0,0,0,0]\n",
    "    for j in range(0, 5):\n",
    "      gradient[j] = sum[j] * 2\n",
    "\n",
    "    for j in range(0, 5):\n",
    "      w[j] = w[j] - 0.00001*gradient[j]\n",
    "\n",
    "  return w\n",
    "\n",
    "\n",
    "  \n"
   ]
  },
  {
   "cell_type": "code",
   "execution_count": 284,
   "metadata": {
    "colab": {
     "base_uri": "https://localhost:8080/"
    },
    "id": "Ivw5srfMuy1H",
    "outputId": "1095ee0d-b7d6-4760-ff30-fa828433fdf4"
   },
   "outputs": [
    {
     "data": {
      "text/plain": [
       "[-6.930000000000009,\n",
       " -462.94800000000004,\n",
       " -438.7299999999995,\n",
       " -414.28799999999944,\n",
       " -173.06917999999985]"
      ]
     },
     "execution_count": 284,
     "metadata": {},
     "output_type": "execute_result"
    }
   ],
   "source": [
    "Regression(dx[0][:len(dx[0]):],dy[0][:len(dy[0]):])"
   ]
  },
  {
   "cell_type": "markdown",
   "metadata": {
    "id": "2NxRNFwyN8xd"
   },
   "source": [
    "### Step 4: Make Prediction\n",
    "Make prediction of testing dataset and store the value in *output_datalist*"
   ]
  },
  {
   "cell_type": "code",
   "execution_count": 270,
   "metadata": {
    "id": "EKlDIC2-N_lk"
   },
   "outputs": [],
   "source": [
    "def MakePrediction(w, input):\n",
    "  output_datalist = []\n",
    "  input = (np.array(input)).astype(np.float64)\n",
    "\n",
    "  for i in range(len(input)):\n",
    "    output_datalist.append(w[0] + w[1]*math.pow(input[i][0], 1) + w[2]*math.pow(input[i][1], 2) + w[3]*math.pow(input[i][2], 3) + w[4]*math.pow(input[i][3], 4))\n",
    "  \n",
    "  return output_datalist\n",
    "  "
   ]
  },
  {
   "cell_type": "markdown",
   "metadata": {
    "id": "cCd0Z6izOCwq"
   },
   "source": [
    "### Step 5: Train Model and Generate Result\n",
    "\n",
    "> Notice: **Remember to output the coefficients of the model here**, otherwise 5 points would be deducted\n",
    "* If your regression model is *3x^2 + 2x^1 + 1*, your output would be: \n",
    "```\n",
    "3 2 1\n",
    "```\n",
    "\n",
    "\n",
    "\n"
   ]
  },
  {
   "cell_type": "code",
   "execution_count": 272,
   "metadata": {
    "colab": {
     "base_uri": "https://localhost:8080/"
    },
    "id": "vckIxvt-uxCf",
    "outputId": "e0d0f789-de1c-4aa0-e70b-a43cf95f9cf6"
   },
   "outputs": [
    {
     "name": "stdout",
     "output_type": "stream",
     "text": [
      "[6.93000000e+02 4.62948000e+04 3.73037780e+06 3.14404840e+06\n",
      " 2.92479846e+08]\n",
      "[1.66140862e+14 1.01391409e+14 2.03534809e+14 1.81934470e+14\n",
      " 1.74558203e+14 1.50923515e+14 9.80756756e+13 1.23926517e+14\n",
      " 1.77256209e+14 1.54338533e+14]\n",
      "[2.92479846e+08 3.14404840e+06 3.73037780e+06 4.62948000e+04\n",
      " 6.93000000e+02]\n",
      "[1.36327278e+13 2.41568621e+13 3.95298645e+13 4.28923708e+13\n",
      " 5.12710243e+13 3.95882517e+13 2.96653307e+13 2.95605674e+13\n",
      " 3.01989679e+13 2.98243452e+13]\n",
      "[1.14096952e+08 5.02079400e+05 5.32961000e+05 1.44406000e+04\n",
      " 4.21400000e+02]\n",
      "[1.18582525e+14 9.87375412e+13 8.51229143e+13 1.29398336e+14\n",
      " 9.84859089e+13 1.51714796e+14 1.43469567e+14 1.39597832e+14\n",
      " 1.30636185e+14 1.22476217e+14]\n",
      "[1.92237972e+08 8.94398400e+05 8.14865400e+05 1.37430000e+04\n",
      " 3.64000000e+02]\n",
      "10 10\n",
      "[['epiweek' 'CityA' 'CityB' 'CityC']\n",
      " ['202133' '166140862465732.53' '13632727813543.246' '118582525102752.38']\n",
      " ['202134' '101391409120738.02' '24156862069389.67' '98737541212124.39']\n",
      " ['202135' '203534808956975.38' '39529864489981.49' '85122914250820.6']\n",
      " ['202136' '181934470396172.53' '42892370797792.53' '129398335958555.23']\n",
      " ['202137' '174558202574200.8' '51271024298167.25' '98485908917866.11']\n",
      " ['202138' '150923514831501.16' '39588251690959.92' '151714796400103.22']\n",
      " ['202139' '98075675604751.86' '29665330684307.652' '143469567030238.6']\n",
      " ['202140' '123926516962346.42' '29560567418935.027' '139597831523991.1']\n",
      " ['202141' '177256209410883.62' '30198967921945.86' '130636184922201.98']\n",
      " ['202142' '154338532656960.94' '29824345220603.637' '122476217166847.47']]\n",
      "3347644177048.767\n"
     ]
    },
    {
     "name": "stderr",
     "output_type": "stream",
     "text": [
      "/usr/local/lib/python3.7/dist-packages/ipykernel_launcher.py:27: DeprecationWarning: `np.str` is a deprecated alias for the builtin `str`. To silence this warning, use `str` by itself. Doing this will not modify any behavior and is safe. If you specifically wanted the numpy scalar type, use `np.str_` here.\n",
      "Deprecated in NumPy 1.20; for more details and guidance: https://numpy.org/devdocs/release/1.20.0-notes.html#deprecations\n",
      "/usr/local/lib/python3.7/dist-packages/ipykernel_launcher.py:28: DeprecationWarning: `np.str` is a deprecated alias for the builtin `str`. To silence this warning, use `str` by itself. Doing this will not modify any behavior and is safe. If you specifically wanted the numpy scalar type, use `np.str_` here.\n",
      "Deprecated in NumPy 1.20; for more details and guidance: https://numpy.org/devdocs/release/1.20.0-notes.html#deprecations\n",
      "/usr/local/lib/python3.7/dist-packages/ipykernel_launcher.py:29: DeprecationWarning: `np.str` is a deprecated alias for the builtin `str`. To silence this warning, use `str` by itself. Doing this will not modify any behavior and is safe. If you specifically wanted the numpy scalar type, use `np.str_` here.\n",
      "Deprecated in NumPy 1.20; for more details and guidance: https://numpy.org/devdocs/release/1.20.0-notes.html#deprecations\n"
     ]
    }
   ],
   "source": [
    "#validation set\n",
    "dx, dy, date = PreprocessData(input_datalist)\n",
    "\n",
    "trainA = dx[0][:len(dx[0]):]\n",
    "labelA = dy[0][:len(dy[0]):]\n",
    "wA = np.array(Regression(trainA, labelA))\n",
    "print(wA)\n",
    "ansA = np.array(MakePrediction(wA, dx[0][len(dx[0])-10::]))\n",
    "print(ansA)\n",
    "print(wA[::-1])\n",
    "\n",
    "\n",
    "trainB = dx[1][:len(dx[1]):]\n",
    "labelB = dy[1][:len(dy[1]):]\n",
    "wB = np.array(Regression(trainB, labelB))\n",
    "ansB = np.array(MakePrediction(wB, dx[1][len(dx[1])-10::]))\n",
    "print(ansB)\n",
    "print(wB[::-1])\n",
    "\n",
    "trainC = dx[2][:len(dx[2]):]\n",
    "labelC = dy[2][:len(dy[2]):]\n",
    "wC = np.array(Regression(trainC, labelC))\n",
    "ansC = np.array(MakePrediction(wC, dx[2][len(dx[2])-10::]))\n",
    "print(ansC)\n",
    "print(wC[::-1])\n",
    "\n",
    "ansA = ansA.astype(np.str)\n",
    "ansB = ansB.astype(np.str)\n",
    "ansC = ansC.astype(np.str)\n",
    "print(len(test_data), len(ansA))\n",
    "output_datalist = np.insert(np.stack((test_date.squeeze(), ansA, ansB, ansC), axis = 1), 0, root, axis = 0)\n",
    "print(output_datalist)\n",
    "\n",
    "\n",
    "#validation\n",
    "VansA = np.array(MakePrediction(wA, dx[0][len(dy[0]) - 30:len(dy[0]) - 10:]))\n",
    "VansB = np.array(MakePrediction(wB, dx[1][len(dy[1]) - 30:len(dy[1]) - 10:]))\n",
    "VansC = np.array(MakePrediction(wC, dx[2][len(dy[2]) - 30:len(dy[2]) - 10:]))\n",
    "datayAV = dy[0][len(dy[0]) - 30:len(dy[0]) - 10:]\n",
    "datayBV = dy[1][len(dy[1]) - 30:len(dy[1]) - 10:]\n",
    "datayCV = dy[2][len(dy[2]) - 30:len(dy[2]) - 10:]\n",
    "#MAPE\n",
    "loss = []\n",
    "for i in range(len(dy[0][len(dy[0]) - 30:len(dy[0]) - 10:])):\n",
    "    loss.append(np.abs((float(datayAV[i]) - VansA[i]) / float(datayAV[i])))\n",
    "    loss.append(np.abs((float(datayBV[i]) - VansB[i]) / float(datayBV[i])))\n",
    "    loss.append(np.abs((float(datayCV[i]) - VansC[i]) / float(datayCV[i])))\n",
    "\n",
    "sumv = 0\n",
    "for v in loss:\n",
    "    sumv += v\n",
    "MAPE = sumv / len(loss)\n",
    "print(MAPE)\n"
   ]
  },
  {
   "cell_type": "markdown",
   "metadata": {
    "id": "J8Jhd8wAOk3D"
   },
   "source": [
    "## Write the Output File\n",
    "Write the prediction to output csv\n",
    "> Format: 'epiweek', 'CityA', 'CityB', 'CityC'"
   ]
  },
  {
   "cell_type": "code",
   "execution_count": 123,
   "metadata": {
    "id": "tYQVYLlKOtDB"
   },
   "outputs": [],
   "source": [
    "with open(output_dataroot, 'w', newline='', encoding=\"utf-8\") as csvfile:\n",
    "  writer = csv.writer(csvfile)\n",
    "  for row in output_datalist:\n",
    "    writer.writerow(row)"
   ]
  },
  {
   "cell_type": "markdown",
   "metadata": {
    "id": "rx4408qg4xMQ"
   },
   "source": [
    "# 2. Advanced Part (35%)\n",
    "In the second part, you need to implement the regression in a different way than the basic part to help your predictions for the number of dengue cases\n",
    "\n",
    "We provide you with two files **hw1_advanced_input1.csv** and **hw1_advanced_input2.csv** that can help you in this part\n",
    "\n",
    "Please save the prediction result in a csv file **hw1_advanced.csv** \n"
   ]
  },
  {
   "cell_type": "code",
   "execution_count": null,
   "metadata": {
    "id": "DaZCe19m41g1"
   },
   "outputs": [],
   "source": []
  },
  {
   "cell_type": "markdown",
   "metadata": {
    "id": "EtgCJU7FPeJL"
   },
   "source": [
    "# Report *(5%)*\n",
    "\n",
    "Report should be submitted as a pdf file **hw1_report.pdf**\n",
    "\n",
    "*   Briefly describe the difficulty you encountered \n",
    "*   Summarize your work and your reflections \n",
    "*   No more than one page\n",
    "\n",
    "\n",
    "\n",
    "\n"
   ]
  },
  {
   "cell_type": "markdown",
   "metadata": {
    "id": "hlEE53_MPf4W"
   },
   "source": [
    "# Save the Code File\n",
    "Please save your code and submit it as an ipynb file! (**hw1.ipynb**)"
   ]
  }
 ],
 "metadata": {
  "colab": {
   "collapsed_sections": [],
   "provenance": []
  },
  "kernelspec": {
   "display_name": "Python 3 (ipykernel)",
   "language": "python",
   "name": "python3"
  },
  "language_info": {
   "codemirror_mode": {
    "name": "ipython",
    "version": 3
   },
   "file_extension": ".py",
   "mimetype": "text/x-python",
   "name": "python",
   "nbconvert_exporter": "python",
   "pygments_lexer": "ipython3",
   "version": "3.10.7"
  }
 },
 "nbformat": 4,
 "nbformat_minor": 1
}
